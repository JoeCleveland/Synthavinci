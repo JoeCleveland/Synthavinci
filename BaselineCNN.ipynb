{
 "cells": [
  {
   "cell_type": "code",
   "execution_count": 466,
   "metadata": {},
   "outputs": [],
   "source": [
    "import numpy as np\n",
    "import wave\n",
    "from scipy.io import wavfile\n",
    "from scipy import signal\n",
    "from keras.utils.np_utils import to_categorical\n",
    "from tensorflow.keras.models import Model\n",
    "from tensorflow.keras.layers import Dense, Dropout, Activation, Flatten, Reshape, Input\n",
    "from tensorflow.keras.layers import Convolution1D, MaxPooling1D, BatchNormalization"
   ]
  },
  {
   "cell_type": "code",
   "execution_count": 30,
   "metadata": {},
   "outputs": [
    {
     "name": "stdout",
     "output_type": "stream",
     "text": [
      "(45056, 2)\n",
      "[-2436     0]\n"
     ]
    },
    {
     "name": "stderr",
     "output_type": "stream",
     "text": [
      "/Users/josephcleveland/Summer/venv/lib/python3.7/site-packages/ipykernel_launcher.py:19: DeprecationWarning: The binary mode of fromstring is deprecated, as it behaves surprisingly on unicode inputs. Use frombuffer instead\n"
     ]
    }
   ],
   "source": [
    "def _wav2array(nchannels, sampwidth, data):\n",
    "    \"\"\"data must be the string containing the bytes from the wav file.\"\"\"\n",
    "    num_samples, remainder = divmod(len(data), sampwidth * nchannels)\n",
    "    if remainder > 0:\n",
    "        raise ValueError('The length of data is not a multiple of '\n",
    "                         'sampwidth * num_channels.')\n",
    "    if sampwidth > 4:\n",
    "        raise ValueError(\"sampwidth must not be greater than 4.\")\n",
    "\n",
    "    if sampwidth == 3:\n",
    "        a = np.empty((num_samples, nchannels, 4), dtype=np.uint8)\n",
    "        raw_bytes = np.fromstring(data, dtype=np.uint8)\n",
    "        a[:, :, :sampwidth] = raw_bytes.reshape(-1, nchannels, sampwidth)\n",
    "        a[:, :, sampwidth:] = (a[:, :, sampwidth - 1:sampwidth] >> 7) * 255\n",
    "        result = a.view('<i4').reshape(a.shape[:-1])\n",
    "    else:\n",
    "        # 8 bit samples are stored as unsigned ints; others as signed ints.\n",
    "        dt_char = 'u' if sampwidth == 1 else 'i'\n",
    "        a = np.fromstring(data, dtype='<%s%d' % (dt_char, sampwidth))\n",
    "        result = a.reshape(-1, nchannels)\n",
    "    return result\n",
    "\n",
    "\n",
    "def readwav(file):\n",
    "    \"\"\"\n",
    "    Read a wav file.\n",
    "    Returns the frame rate, sample width (in bytes) and a numpy array\n",
    "    containing the data.\n",
    "    This function does not read compressed wav files.\n",
    "    \"\"\"\n",
    "    wav = wave.open(file)\n",
    "    rate = wav.getframerate()\n",
    "    nchannels = wav.getnchannels()\n",
    "    sampwidth = wav.getsampwidth()\n",
    "    nframes = wav.getnframes()\n",
    "    data = wav.readframes(nframes)\n",
    "    wav.close()\n",
    "    array = _wav2array(nchannels, sampwidth, data)\n",
    "    return rate, sampwidth, array\n",
    "\n",
    "print(arr.shape)\n",
    "print(arr[3000])"
   ]
  },
  {
   "cell_type": "code",
   "execution_count": 427,
   "metadata": {},
   "outputs": [
    {
     "name": "stdout",
     "output_type": "stream",
     "text": [
      "(6000, 45056)\n"
     ]
    },
    {
     "name": "stderr",
     "output_type": "stream",
     "text": [
      "/Users/josephcleveland/Summer/venv/lib/python3.7/site-packages/ipykernel_launcher.py:19: DeprecationWarning: The binary mode of fromstring is deprecated, as it behaves surprisingly on unicode inputs. Use frombuffer instead\n"
     ]
    }
   ],
   "source": [
    "X_data = np.zeros(shape=(6000,45056))\n",
    "print(X_data.shape)\n",
    "\n",
    "for r in range(0, 6000):\n",
    "    audio = readwav('/Users/josephcleveland/Dataset/samp' + str(r) + '.wav')[2]\n",
    "    audio = audio.T[0]\n",
    "    if(audio.shape != 45056):\n",
    "        padded = np.zeros(shape=(45056))\n",
    "        padded[:np.shape(audio)[0]] = audio\n",
    "        audio = padded\n",
    "    X_data[r] = audio\n",
    "    \n"
   ]
  },
  {
   "cell_type": "code",
   "execution_count": 96,
   "metadata": {},
   "outputs": [],
   "source": [
    "Y_data = np.zeros(shape=(6000, 368))\n",
    "mat = np.genfromtxt('/Users/josephcleveland/Dataset/mat.txt', delimiter=',')\n",
    "for i in range(0, 6000):\n",
    "    onehot = to_categorical(mat[i], 16)\n",
    "    Y_data[i] = onehot.ravel()"
   ]
  },
  {
   "cell_type": "code",
   "execution_count": 479,
   "metadata": {},
   "outputs": [
    {
     "name": "stdout",
     "output_type": "stream",
     "text": [
      "(5000, 45056, 1, 1)\n"
     ]
    }
   ],
   "source": [
    "#X_data = signal.resample(X_data, 16384)\n",
    "X_train = X_data[0:5000]\n",
    "X_test = X_data[5000:6000]\n",
    "Y_train = Y_data[0:5000]\n",
    "Y_test = Y_data[5000:6000]\n",
    "X_train = np.expand_dims(X_train, axis=2)\n",
    "X_train = np.expand_dims(X_train, axis=3)\n",
    "\n",
    "#X_train_samp = np.zeros((5000, 16384, 1, 1))\n",
    "#for i in range(0, 5000):\n",
    "#    X_train_samp[i] = signal.resample(X_train[i], 16384)\n",
    "#    print(X_train_samp[i].shape)\n",
    "print(X_train.shape)"
   ]
  },
  {
   "cell_type": "code",
   "execution_count": 458,
   "metadata": {},
   "outputs": [],
   "source": [
    "#model = Sequential()\n",
    "#model.add(BatchNormalization())\n",
    "#model.add(Convolution2D(96, kernel_size=(64, 1), strides=(4, 1), padding=\"valid\", activation='relu', data_format=\"channels_last\", input_shape=(16384, 1, 1)))\n",
    "#model.add(Convolution2D(96, kernel_size=(32, 1), strides=(4, 1), padding=\"valid\", activation='relu'))\n",
    "#model.add(Convolution2D(128, kernel_size=(16, 1), strides=(4, 1), padding=\"valid\", activation='relu'))\n",
    "#model.add(Convolution2D(257, kernel_size=(8, 1), strides=(4, 1), padding=\"valid\", activation='relu'))\n",
    "#model.add(Reshape((173, 257, 1)))\n",
    "#model.add(Reshape((61, 257, 1)))\n",
    "#model.add(Convolution2D(32, kernel_size=(3, 3), strides=(2, 2), padding=\"same\", activation='relu'))\n",
    "#model.add(Convolution2D(71, kernel_size=(3, 3), strides=(2, 2), padding=\"same\", activation='relu'))\n",
    "#model.add(Convolution2D(128, kernel_size=(4, 3), strides=(3, 2), padding=\"same\", activation='relu'))\n",
    "#model.add(Convolution2D(128, kernel_size=(3, 3), strides=(2, 2), padding=\"same\", activation='relu'))\n",
    "#model.add(Convolution2D(128, kernel_size=(3, 3), strides=(2, 2), padding=\"same\", activation='relu'))\n",
    "#model.add(Convolution2D(128, kernel_size=(3, 3), strides=(2, 1), padding=\"same\", activation='relu'))\n",
    "#model.add(Flatten())\n",
    "#model.add(Dense(512, activation='relu'))\n",
    "#model.add(Dense(368, activation='relu'))\n",
    "\n",
    "#model.compile(loss='categorical_crossentropy',\n",
    "#              optimizer='adam',\n",
    "#              metrics=['accuracy'])"
   ]
  },
  {
   "cell_type": "code",
   "execution_count": 490,
   "metadata": {},
   "outputs": [],
   "source": [
    "inputs = Input(shape=(45056,1,1))\n",
    "\n",
    "# a layer instance is callable on a tensor, and returns a tensor\n",
    "x = BatchNormalization()(inputs)\n",
    "x = Convolution2D(96, kernel_size=(64, 1), strides=(4, 1), padding=\"valid\", activation='relu', data_format=\"channels_last\", input_shape=(45056, 1, 1))(x)\n",
    "x = Convolution2D(96, kernel_size=(32, 1), strides=(4, 1), padding=\"valid\", activation='relu')(x)\n",
    "x = Convolution2D(128, kernel_size=(16, 1), strides=(4, 1), padding=\"valid\", activation='relu')(x)\n",
    "x = Convolution2D(257, kernel_size=(8, 1), strides=(4, 1), padding=\"valid\", activation='relu')(x)\n",
    "x = Reshape((173, 257, 1))(x)\n",
    "x = Convolution2D(32, kernel_size=(3, 3), strides=(2, 2), padding=\"same\", activation='relu')(x)\n",
    "x = Convolution2D(71, kernel_size=(3, 3), strides=(2, 2), padding=\"same\", activation='relu')(x)\n",
    "x = Convolution2D(128, kernel_size=(4, 3), strides=(3, 2), padding=\"same\", activation='relu')(x)\n",
    "x = Convolution2D(128, kernel_size=(3, 3), strides=(2, 2), padding=\"same\", activation='relu')(x)\n",
    "x = Convolution2D(128, kernel_size=(3, 3), strides=(2, 2), padding=\"same\", activation='relu')(x)\n",
    "x = Convolution2D(128, kernel_size=(3, 3), strides=(2, 1), padding=\"same\", activation='relu')(x)\n",
    "x = Flatten()(x)\n",
    "x = Dense(512, activation='relu')(x)\n",
    "x = Dense(368, activation='sigmoid')(x)\n",
    "# This creates a model that includes\n",
    "# the Input layer and three Dense layers\n",
    "model = Model(inputs=inputs, outputs=x)\n",
    "model.compile(optimizer='adam',\n",
    "              loss='binary_crossentropy',\n",
    "              metrics=['accuracy'])"
   ]
  },
  {
   "cell_type": "code",
   "execution_count": 541,
   "metadata": {},
   "outputs": [
    {
     "name": "stdout",
     "output_type": "stream",
     "text": [
      "(5000, 16384, 1, 1)\n",
      "Train on 4500 samples, validate on 500 samples\n",
      "Epoch 1/10\n",
      "4500/4500 [==============================] - 515s 114ms/sample - loss: 0.2356 - accuracy: 0.9375 - val_loss: 0.2355 - val_accuracy: 0.9375\n",
      "Epoch 2/10\n",
      "4500/4500 [==============================] - 468s 104ms/sample - loss: 0.2352 - accuracy: 0.9375 - val_loss: 0.2352 - val_accuracy: 0.9375\n",
      "Epoch 3/10\n",
      "4500/4500 [==============================] - 513s 114ms/sample - loss: 0.2350 - accuracy: 0.9375 - val_loss: 0.2351 - val_accuracy: 0.9375\n",
      "Epoch 4/10\n",
      "4500/4500 [==============================] - 540s 120ms/sample - loss: 0.2349 - accuracy: 0.9375 - val_loss: 0.2350 - val_accuracy: 0.9375\n",
      "Epoch 5/10\n",
      "4500/4500 [==============================] - 501s 111ms/sample - loss: 0.2348 - accuracy: 0.9375 - val_loss: 0.2348 - val_accuracy: 0.9375\n",
      "Epoch 6/10\n",
      "4500/4500 [==============================] - 537s 119ms/sample - loss: 0.2347 - accuracy: 0.9375 - val_loss: 0.2347 - val_accuracy: 0.9375\n",
      "Epoch 7/10\n",
      "4500/4500 [==============================] - 806s 179ms/sample - loss: 0.2347 - accuracy: 0.9375 - val_loss: 0.2347 - val_accuracy: 0.9375\n",
      "Epoch 8/10\n",
      "4500/4500 [==============================] - 616s 137ms/sample - loss: 0.2346 - accuracy: 0.9375 - val_loss: 0.2346 - val_accuracy: 0.9375\n",
      "Epoch 9/10\n",
      "4500/4500 [==============================] - 603s 134ms/sample - loss: 0.2346 - accuracy: 0.9375 - val_loss: 0.2346 - val_accuracy: 0.9375\n",
      "Epoch 10/10\n",
      "4500/4500 [==============================] - 538s 120ms/sample - loss: 0.2346 - accuracy: 0.9375 - val_loss: 0.2347 - val_accuracy: 0.9375\n"
     ]
    },
    {
     "data": {
      "text/plain": [
       "<tensorflow.python.keras.callbacks.History at 0x170ddfa90>"
      ]
     },
     "execution_count": 541,
     "metadata": {},
     "output_type": "execute_result"
    }
   ],
   "source": [
    "print(X_train_samp.shape)\n",
    "model.fit(X_train, Y_train, \n",
    "          batch_size=16, epochs=10, verbose=1, validation_split=0.1)"
   ]
  },
  {
   "cell_type": "code",
   "execution_count": 472,
   "metadata": {
    "scrolled": true
   },
   "outputs": [
    {
     "name": "stdout",
     "output_type": "stream",
     "text": [
      "Model: \"model_2\"\n",
      "_________________________________________________________________\n",
      "Layer (type)                 Output Shape              Param #   \n",
      "=================================================================\n",
      "input_6 (InputLayer)         [(None, 16384, 1, 1)]     0         \n",
      "_________________________________________________________________\n",
      "batch_normalization_v2_93 (B (None, 16384, 1, 1)       4         \n",
      "_________________________________________________________________\n",
      "conv2d_463 (Conv2D)          (None, 4081, 1, 96)       6240      \n",
      "_________________________________________________________________\n",
      "conv2d_464 (Conv2D)          (None, 1013, 1, 96)       295008    \n",
      "_________________________________________________________________\n",
      "conv2d_465 (Conv2D)          (None, 250, 1, 128)       196736    \n",
      "_________________________________________________________________\n",
      "conv2d_466 (Conv2D)          (None, 61, 1, 257)        263425    \n",
      "_________________________________________________________________\n",
      "reshape_54 (Reshape)         (None, 61, 257, 1)        0         \n",
      "_________________________________________________________________\n",
      "conv2d_467 (Conv2D)          (None, 31, 129, 32)       320       \n",
      "_________________________________________________________________\n",
      "conv2d_468 (Conv2D)          (None, 16, 65, 71)        20519     \n",
      "_________________________________________________________________\n",
      "conv2d_469 (Conv2D)          (None, 6, 33, 128)        109184    \n",
      "_________________________________________________________________\n",
      "conv2d_470 (Conv2D)          (None, 3, 17, 128)        147584    \n",
      "_________________________________________________________________\n",
      "conv2d_471 (Conv2D)          (None, 2, 9, 128)         147584    \n",
      "_________________________________________________________________\n",
      "conv2d_472 (Conv2D)          (None, 1, 9, 128)         147584    \n",
      "_________________________________________________________________\n",
      "flatten_84 (Flatten)         (None, 1152)              0         \n",
      "_________________________________________________________________\n",
      "dense_159 (Dense)            (None, 512)               590336    \n",
      "_________________________________________________________________\n",
      "dense_160 (Dense)            (None, 368)               188784    \n",
      "=================================================================\n",
      "Total params: 2,113,308\n",
      "Trainable params: 2,113,306\n",
      "Non-trainable params: 2\n",
      "_________________________________________________________________\n",
      "None\n"
     ]
    }
   ],
   "source": [
    "model.build(input_shape=(45056, 1, 1))\n",
    "print(model.summary())\n",
    "print()"
   ]
  },
  {
   "cell_type": "code",
   "execution_count": 542,
   "metadata": {},
   "outputs": [],
   "source": [
    "o = model.predict(X_train)"
   ]
  },
  {
   "cell_type": "code",
   "execution_count": 540,
   "metadata": {
    "scrolled": true
   },
   "outputs": [
    {
     "name": "stdout",
     "output_type": "stream",
     "text": [
      "[0.05628255 0.04270926 0.06500456 0.06868699 0.07573196 0.066273\n",
      " 0.07080418 0.0833357  0.05710584 0.07990831 0.06364202 0.09163126\n",
      " 0.07093942 0.0479199  0.03154904 0.03957188 0.04017746 0.05546996\n",
      " 0.08824024 0.06345186 0.05649811 0.05088392 0.08153579 0.0561156\n",
      " 0.07138675 0.08023167 0.04997683 0.06974939 0.0493843  0.08742726\n",
      " 0.07647741 0.05067453 0.04908192 0.08166295 0.0789291  0.06143141\n",
      " 0.05200312 0.06106475 0.06709459 0.0614354  0.04765892 0.07334092\n",
      " 0.07769474 0.05355269 0.05936807 0.06158039 0.06175458 0.06060976\n",
      " 0.07592696 0.07929996 0.05385092 0.0678978  0.06181434 0.064372\n",
      " 0.08036298 0.08136094 0.04289806 0.04069409 0.0859485  0.05049807\n",
      " 0.05608943 0.08104172 0.07498387 0.05465728 0.06286219 0.07147077\n",
      " 0.06457472 0.05262512 0.06081483 0.06714037 0.0990923  0.05345061\n",
      " 0.06031105 0.06325069 0.05964991 0.06457436 0.06005648 0.03371531\n",
      " 0.0949761  0.07652503 0.08784395 0.0524261  0.07132396 0.0593074\n",
      " 0.06656966 0.06595549 0.08101723 0.09571379 0.04291567 0.05576515\n",
      " 0.08418566 0.05145338 0.05983424 0.07602119 0.04784027 0.03987044\n",
      " 0.05938214 0.05077803 0.06206182 0.05176538 0.05480006 0.04340053\n",
      " 0.07496202 0.06348804 0.06008852 0.09175184 0.0767141  0.05231613\n",
      " 0.06311232 0.10614637 0.05041575 0.06333065 0.04648787 0.06860533\n",
      " 0.07898724 0.05142799 0.07185572 0.05361071 0.08058226 0.07942557\n",
      " 0.04111168 0.03805265 0.09299523 0.03361052 0.1337319  0.07930729\n",
      " 0.05853775 0.05665547 0.05828807 0.04601645 0.08899951 0.09794232\n",
      " 0.06485608 0.05415162 0.04141101 0.05680683 0.06014523 0.06654862\n",
      " 0.04874769 0.05545327 0.08320823 0.06064019 0.05927861 0.07156914\n",
      " 0.06327203 0.07770532 0.06908748 0.03889671 0.1019116  0.04722881\n",
      " 0.06615782 0.07536    0.05988571 0.0814541  0.08327687 0.04849392\n",
      " 0.08315927 0.05031151 0.06282127 0.0602017  0.10233659 0.06114191\n",
      " 0.04761648 0.07795531 0.05366629 0.10023245 0.05439267 0.09400311\n",
      " 0.07468477 0.05755273 0.04747751 0.05624703 0.04234853 0.05335546\n",
      " 0.06558529 0.04693538 0.0731791  0.07763168 0.07742801 0.04810384\n",
      " 0.04909343 0.0449051  0.04856154 0.0734705  0.07571357 0.05925772\n",
      " 0.06795201 0.09607226 0.08899894 0.08894384 0.04932117 0.04379007\n",
      " 0.05150872 0.07277369 0.08366063 0.05321509 0.05023438 0.10075781\n",
      " 0.05446714 0.04154512 0.06999233 0.05584717 0.04728204 0.07849845\n",
      " 0.07022333 0.04691532 0.05946678 0.07880372 0.06486002 0.06173274\n",
      " 0.09947902 0.04625767 0.0585123  0.07926199 0.07703289 0.06475246\n",
      " 0.08227256 0.08171725 0.04670313 0.05366042 0.04486665 0.04646748\n",
      " 0.09302694 0.04612678 0.06597733 0.03282878 0.09702435 0.07685658\n",
      " 0.05523321 0.09606755 0.05130944 0.05246273 0.05912721 0.06559318\n",
      " 0.06016576 0.05210182 0.05148923 0.06489819 0.06321821 0.06671664\n",
      " 0.06696567 0.05758438 0.04881287 0.03489327 0.07170954 0.06716934\n",
      " 0.09309641 0.06722763 0.0598278  0.0553726  0.05810004 0.03366801\n",
      " 0.04645792 0.08686653 0.08837691 0.09297642 0.04739997 0.07958841\n",
      " 0.05645254 0.05307522 0.08084401 0.06928125 0.06857738 0.0390957\n",
      " 0.10076591 0.04369956 0.09181044 0.06608924 0.06596163 0.08222842\n",
      " 0.04179424 0.06084037 0.06234318 0.06693959 0.05029842 0.04258472\n",
      " 0.055309   0.06354204 0.06139407 0.03886697 0.05934551 0.09774137\n",
      " 0.08789325 0.08039367 0.0808768  0.06777903 0.0545308  0.07410803\n",
      " 0.07800236 0.04351148 0.09718072 0.05421188 0.0447852  0.04534587\n",
      " 0.11859339 0.07204202 0.06438255 0.04764816 0.05627653 0.04893503\n",
      " 0.08335268 0.0584316  0.09094185 0.05722806 0.05041224 0.07028785\n",
      " 0.05992627 0.0541335  0.07690609 0.07674661 0.03950077 0.08743057\n",
      " 0.0935424  0.04337594 0.04502928 0.06737775 0.07860607 0.05040413\n",
      " 0.05848345 0.07263869 0.06364363 0.08514187 0.05099925 0.04579639\n",
      " 0.05517641 0.05769274 0.05550456 0.07773402 0.06780168 0.06870538\n",
      " 0.08789721 0.04020157 0.05411327 0.07611614 0.0587821  0.07432705\n",
      " 0.07517669 0.07019594 0.08494675 0.06134725 0.07299045 0.07333127\n",
      " 0.08977216 0.06344327 0.05177307 0.04540515 0.04894978 0.03779975\n",
      " 0.05640146 0.05625558 0.09665287 0.07331696 0.0597499  0.04219228\n",
      " 0.09660581 0.05597502 0.07233888 0.06656393 0.05450016 0.07391748\n",
      " 0.05745184 0.10658416 0.07841024 0.07083809 0.0554257  0.04019389\n",
      " 0.04903388 0.05654642]\n",
      "(5000, 368)\n"
     ]
    }
   ],
   "source": [
    "print(o[400])\n",
    "print(np.shape(o))"
   ]
  },
  {
   "cell_type": "code",
   "execution_count": 536,
   "metadata": {},
   "outputs": [
    {
     "name": "stdout",
     "output_type": "stream",
     "text": [
      "[[11.]\n",
      " [ 2.]\n",
      " [ 1.]\n",
      " [10.]\n",
      " [ 6.]\n",
      " [ 7.]\n",
      " [13.]\n",
      " [12.]\n",
      " [ 3.]\n",
      " [ 4.]\n",
      " [ 0.]\n",
      " [11.]\n",
      " [ 5.]\n",
      " [ 2.]\n",
      " [ 2.]\n",
      " [ 6.]\n",
      " [ 8.]\n",
      " [ 9.]\n",
      " [ 6.]\n",
      " [ 8.]\n",
      " [10.]\n",
      " [14.]\n",
      " [ 9.]]\n"
     ]
    }
   ],
   "source": [
    "group = 0\n",
    "classes = np.zeros((23,1))\n",
    "samp = 40\n",
    "for i in range(0, 23):\n",
    "    maxVal = o[samp, i * 16]\n",
    "    maxI = 0\n",
    "    for j in range(0, 16):\n",
    "        v = o[samp, (i*16) + j]\n",
    "        if v > maxVal:\n",
    "            maxVal = o[samp, (i*16) + j]\n",
    "            maxI = j\n",
    "    classes[i] = maxI\n",
    "print(classes)"
   ]
  },
  {
   "cell_type": "code",
   "execution_count": null,
   "metadata": {},
   "outputs": [],
   "source": []
  }
 ],
 "metadata": {
  "kernelspec": {
   "display_name": "Python 3",
   "language": "python",
   "name": "python3"
  },
  "language_info": {
   "codemirror_mode": {
    "name": "ipython",
    "version": 3
   },
   "file_extension": ".py",
   "mimetype": "text/x-python",
   "name": "python",
   "nbconvert_exporter": "python",
   "pygments_lexer": "ipython3",
   "version": "3.7.2"
  }
 },
 "nbformat": 4,
 "nbformat_minor": 2
}
