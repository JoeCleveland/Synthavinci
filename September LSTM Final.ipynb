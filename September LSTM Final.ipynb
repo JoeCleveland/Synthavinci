{
 "cells": [
  {
   "cell_type": "code",
   "execution_count": 3,
   "metadata": {},
   "outputs": [],
   "source": [
    "import numpy as np\n",
    "import wavload\n",
    "import librosa\n",
    "import math        \n",
    "import pyaudio     \n",
    "import random"
   ]
  },
  {
   "cell_type": "code",
   "execution_count": 10,
   "metadata": {},
   "outputs": [
    {
     "name": "stdout",
     "output_type": "stream",
     "text": [
      "0\n",
      "1\n",
      "2\n",
      "3\n",
      "4\n",
      "5\n",
      "6\n",
      "7\n",
      "8\n",
      "9\n",
      "10\n",
      "11\n",
      "12\n",
      "13\n",
      "14\n",
      "15\n",
      "16\n",
      "17\n",
      "18\n",
      "19\n",
      "20\n",
      "21\n",
      "22\n",
      "23\n",
      "24\n",
      "25\n",
      "26\n",
      "27\n",
      "28\n",
      "29\n",
      "30\n",
      "31\n",
      "32\n",
      "33\n",
      "34\n",
      "35\n",
      "36\n",
      "37\n",
      "38\n",
      "39\n",
      "40\n",
      "41\n",
      "42\n",
      "43\n",
      "44\n",
      "45\n",
      "46\n",
      "47\n",
      "48\n",
      "49\n",
      "50\n",
      "51\n",
      "52\n",
      "53\n",
      "54\n",
      "55\n",
      "56\n",
      "57\n",
      "58\n",
      "59\n",
      "60\n",
      "61\n",
      "62\n",
      "63\n",
      "64\n",
      "65\n",
      "66\n",
      "67\n",
      "68\n",
      "69\n",
      "70\n",
      "71\n",
      "72\n",
      "73\n",
      "74\n",
      "75\n",
      "76\n",
      "77\n",
      "78\n",
      "79\n",
      "80\n",
      "81\n",
      "82\n",
      "83\n",
      "84\n",
      "85\n",
      "86\n",
      "87\n",
      "88\n",
      "89\n",
      "90\n",
      "91\n",
      "92\n",
      "93\n",
      "94\n",
      "95\n",
      "96\n",
      "97\n",
      "98\n",
      "99\n"
     ]
    }
   ],
   "source": [
    "\"\"\"Making samples - Mark 2 \"\"\"\n",
    "\n",
    "p = pyaudio.PyAudio()\n",
    "\n",
    "fs = 44100       # sampling rate, Hz, must be integer\n",
    "duration = 5   # in seconds, may be float\n",
    "\n",
    "num_samples = 100\n",
    "freq = np.zeros((num_samples,10))\n",
    "amp = np.zeros((num_samples,10))\n",
    "X_data = np.zeros((num_samples,fs*duration))\n",
    "\n",
    "\n",
    "for i in range (0,num_samples):\n",
    "    freq1 = random.uniform(16,2000)        # sine frequency, Hz, may be float\n",
    "    freq2 = 2*freq1\n",
    "    freq3 = 3*freq1\n",
    "    freq4 = 4*freq1\n",
    "    freq5 = 5*freq1\n",
    "    freq6 = 6*freq1\n",
    "    freq7 = 7*freq1\n",
    "    freq8 = 8*freq1\n",
    "    freq9 = 9*freq1\n",
    "    freq10 = 10*freq1\n",
    "\n",
    "    amp1 = random.uniform(0,1)     # range [0.0, 1.0]\n",
    "    amp2 = random.uniform(0,amp1)\n",
    "    amp3 = random.uniform(0,amp2)\n",
    "    amp4 = random.uniform(0,amp3)\n",
    "    amp5 = random.uniform(0,amp4)\n",
    "    amp6 = random.uniform(0,amp5)\n",
    "    amp7 = random.uniform(0,amp6)\n",
    "    amp8 = random.uniform(0,amp7)\n",
    "    amp9 = random.uniform(0,amp8)\n",
    "    amp10 = random.uniform(0,amp9)\n",
    "\n",
    "\n",
    "    # generate samples, note conversion to float32 array\n",
    "    sample1 = (amp1*(np.sin(2*np.pi*np.arange(fs*duration)*freq1/fs))).astype(np.float32)\n",
    "    sample2 = (amp2*(np.sin(2*np.pi*np.arange(fs*duration)*freq2/fs))).astype(np.float32)\n",
    "    sample3 = (amp3*(np.sin(2*np.pi*np.arange(fs*duration)*freq3/fs))).astype(np.float32)\n",
    "    sample4 = (amp4*(np.sin(2*np.pi*np.arange(fs*duration)*freq4/fs))).astype(np.float32)\n",
    "    sample5 = (amp5*(np.sin(2*np.pi*np.arange(fs*duration)*freq5/fs))).astype(np.float32)\n",
    "    sample6 = (amp6*(np.sin(2*np.pi*np.arange(fs*duration)*freq6/fs))).astype(np.float32)\n",
    "    sample7 = (amp7*(np.sin(2*np.pi*np.arange(fs*duration)*freq7/fs))).astype(np.float32)\n",
    "    sample8 = (amp8*(np.sin(2*np.pi*np.arange(fs*duration)*freq8/fs))).astype(np.float32)\n",
    "    sample9 = (amp9*(np.sin(2*np.pi*np.arange(fs*duration)*freq9/fs))).astype(np.float32)\n",
    "    sample10 = (amp10*(np.sin(2*np.pi*np.arange(fs*duration)*freq10/fs))).astype(np.float32)\n",
    "\n",
    "    audio = ((sample1\n",
    "                 +sample2\n",
    "                 +sample3\n",
    "                 +sample4\n",
    "                 +sample5\n",
    "                 +sample6\n",
    "                 +sample7\n",
    "                 +sample8\n",
    "                 +sample9\n",
    "                 +sample10)/10)\n",
    "\n",
    "    freq[i] = (freq1,freq2,freq3,freq4,freq5,freq6,freq7,freq8,freq9,freq10)    \n",
    "    amp[i] = (amp1,amp2,amp3,amp4,amp5,amp6,amp7,amp8,amp9,amp10)\n",
    "    X_data[i] = audio\n",
    "    print(i)\n"
   ]
  },
  {
   "cell_type": "code",
   "execution_count": 14,
   "metadata": {},
   "outputs": [
    {
     "name": "stdout",
     "output_type": "stream",
     "text": [
      "(100, 20, 431)\n"
     ]
    }
   ],
   "source": [
    "\"\"\"Taking MFCC of audio data\"\"\"\n",
    "MFCC = np.zeros((num_samples,20,431))\n",
    "for i in range (0,num_samples):\n",
    "    MFCC[i] = librosa.feature.mfcc(y=X_data[i], sr=fs)\n",
    "print(MFCC.shape)"
   ]
  },
  {
   "cell_type": "code",
   "execution_count": 28,
   "metadata": {},
   "outputs": [
    {
     "name": "stdout",
     "output_type": "stream",
     "text": [
      "(100, 20)\n"
     ]
    }
   ],
   "source": [
    "\"\"\"Loading parameters as Y data\"\"\"\n",
    "Y_data = np.concatenate((freq , amp), axis=1)\n",
    "print(Y_data.shape)"
   ]
  },
  {
   "cell_type": "code",
   "execution_count": 34,
   "metadata": {},
   "outputs": [
    {
     "name": "stdout",
     "output_type": "stream",
     "text": [
      "20\n"
     ]
    }
   ],
   "source": [
    "\"\"\"Defining important variables for LSTM\"\"\"\n",
    "\n",
    "features_cols = X_data[0].shape[0]\n",
    "features_rows = 1\n",
    "parameter_size = Y_data[0].shape[0]\n",
    "print(parameter_size)"
   ]
  },
  {
   "cell_type": "code",
   "execution_count": null,
   "metadata": {},
   "outputs": [],
   "source": [
    "\"\"\"LSTM network\"\"\"\n",
    "\n",
    "net = tflearn.input_data([None, features_cols, features_rows])\n",
    "net = tflearn.lstm(net, 128, dropout=0.8)\n",
    "net = tflearn.fully_connected(net, parameter_size, activation='relu')\n",
    "net = tflearn.regression(net, optimizer='adam', learning_rate=0.001,\n",
    "                         loss='mean_square')\n",
    "model = tflearn.DNN(net, tensorboard_verbose=0)\n",
    "model.fit(train_x, train_y, validation_set=(test_x, test_y), show_metric=True,\n",
    "          batch_size=32, n_epoch=1000)"
   ]
  }
 ],
 "metadata": {
  "kernelspec": {
   "display_name": "Python 3",
   "language": "python",
   "name": "python3"
  },
  "language_info": {
   "codemirror_mode": {
    "name": "ipython",
    "version": 3
   },
   "file_extension": ".py",
   "mimetype": "text/x-python",
   "name": "python",
   "nbconvert_exporter": "python",
   "pygments_lexer": "ipython3",
   "version": "3.7.3"
  }
 },
 "nbformat": 4,
 "nbformat_minor": 2
}
