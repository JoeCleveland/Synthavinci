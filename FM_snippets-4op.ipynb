{
 "cells": [
  {
   "cell_type": "code",
   "execution_count": 1,
   "metadata": {},
   "outputs": [
    {
     "name": "stderr",
     "output_type": "stream",
     "text": [
      "Using TensorFlow backend.\n"
     ]
    }
   ],
   "source": [
    "import numpy as np\n",
    "import wave\n",
    "from scipy.io import wavfile\n",
    "from scipy import signal\n",
    "from keras.utils.np_utils import to_categorical\n",
    "from tensorflow.keras import initializers\n",
    "from tensorflow.keras.models import Model\n",
    "from tensorflow.keras.layers import Dense, Dropout, Activation, Flatten, Reshape, Input\n",
    "from tensorflow.keras.layers import Convolution2D, BatchNormalization, MaxPooling2D\n",
    "from librosa.core import stft\n",
    "import librosa\n",
    "import librosa.display\n",
    "import matplotlib.pyplot as plt\n",
    "import matplotlib.cm as cm\n",
    "import tensorflow.keras.backend as K\n",
    "from tensorflow.keras import optimizers\n",
    "import tensorflow as tf\n",
    "#import datagen\n",
    "import soundfile as sf\n",
    "import os\n",
    "#from sklearn.ensemble import RandomForestRegressor\n",
    "#from sklearn.datasets import make_regression"
   ]
  },
  {
   "cell_type": "code",
   "execution_count": 2,
   "metadata": {},
   "outputs": [
    {
     "name": "stdout",
     "output_type": "stream",
     "text": [
      "(11025,)\n",
      "(65, 345)\n",
      "(11025,)\n",
      "(65, 345)\n",
      "(11025,)\n",
      "(65, 345)\n",
      "(11025,)\n",
      "(65, 345)\n",
      "(11025,)\n",
      "(65, 345)\n",
      "(11025,)\n",
      "(65, 345)\n",
      "(11025,)\n",
      "(65, 345)\n",
      "(11025,)\n",
      "(65, 345)\n",
      "(11025,)\n",
      "(65, 345)\n",
      "(11025,)\n",
      "(65, 345)\n"
     ]
    },
    {
     "name": "stderr",
     "output_type": "stream",
     "text": [
      "c:\\users\\joe\\summer\\synthavinci\\env\\lib\\site-packages\\ipykernel_launcher.py:18: ComplexWarning: Casting complex values to real discards the imaginary part\n"
     ]
    }
   ],
   "source": [
    "num_data = 10\n",
    "samp_length = 11025\n",
    "\n",
    "X = np.zeros((5000, 65, 345))\n",
    "A = np.zeros((5000, 11025))\n",
    "for s in range(0, num_data):\n",
    "    audio,rate = sf.read('C:/4opData/Samps/Samp' + str(s) + '.wav')\n",
    "    print(audio.shape)\n",
    "    if(audio.shape[0] < samp_length):\n",
    "        padded = np.zeros(shape=(samp_length))\n",
    "        padded[:np.shape(audio)[0]] = audio\n",
    "        audio = padded\n",
    "    else:\n",
    "        audio = audio[0:samp_length]\n",
    "    A[s] = audio\n",
    "    spect = stft(audio, n_fft=128)\n",
    "    print(spect.shape)\n",
    "    X[s] = spect"
   ]
  },
  {
   "cell_type": "code",
   "execution_count": null,
   "metadata": {
    "scrolled": true
   },
   "outputs": [],
   "source": [
    "Spectogram = np.abs(librosa.feature.melspectrogram(A[7], sr=44100, n_mels=512))\n",
    "                                                    \n",
    "librosa.display.specshow(librosa.amplitude_to_db(Spectogram,\n",
    "                        ref=np.max),\n",
    "                          y_axis='mel', x_axis='time')\n",
    "print(Spectogram.shape)\n",
    "plt.title('Power spectrogram')\n",
    "plt.colorbar(format='%+2.0f dB')\n",
    "plt.tight_layout()"
   ]
  },
  {
   "cell_type": "markdown",
   "metadata": {},
   "source": [
    "Load waves and output stft as numpy binary files:"
   ]
  },
  {
   "cell_type": "code",
   "execution_count": null,
   "metadata": {
    "scrolled": true
   },
   "outputs": [],
   "source": [
    "num_data = 200000\n",
    "samp_length = 11025\n",
    "\n",
    "for s in range(30000, num_data):\n",
    "    audio,rate = sf.read('C:/4opData/Samps/Samp' + str(s) + '.wav')\n",
    "    if(audio.shape[0] < samp_length):\n",
    "        padded = np.zeros(shape=(samp_length))\n",
    "        padded[:np.shape(audio)[0]] = audio\n",
    "        audio = padded\n",
    "    else:\n",
    "        audio = audio[0:samp_length]\n",
    "\n",
    "    spect = np.abs(librosa.feature.melspectrogram(audio, sr=44100, n_mels=512))\n",
    "    spect = np.mean(spect, axis=1)\n",
    "    #print(np.shape(spect))\n",
    "    np.save('C:/Users/Joe/Summer/4opSpects/spect' + str(s) + '.stft', spect)\n",
    "        "
   ]
  },
  {
   "cell_type": "markdown",
   "metadata": {},
   "source": [
    "Generator to load the stft and matrix files in batches:"
   ]
  },
  {
   "cell_type": "code",
   "execution_count": 48,
   "metadata": {},
   "outputs": [],
   "source": [
    "def dataLoader(batch_size):\n",
    "\n",
    "    L = 27000\n",
    "    print(L)\n",
    "\n",
    "    #this line is just to make the generator infinite, keras needs that    \n",
    "    while True:\n",
    "        batch_start = 0\n",
    "        batch_end = batch_size\n",
    "        ymat = np.genfromtxt('C:/4opData/mat.txt', delimiter = ',', max_rows=27000)\n",
    "        while batch_start < L:\n",
    "            X = np.zeros((batch_size,512))\n",
    "            for i in range (batch_start,batch_end):\n",
    "                limit = min(batch_end, L)\n",
    "                ft = np.load('C:/Users/Joe/Summer/4opSpects/spect' + str(i) + '.stft.npy')\n",
    "                X[i - batch_start] = ft\n",
    "            Y = ymat[batch_start:batch_end]\n",
    "            X = np.expand_dims(X, axis = 3)\n",
    "            X = np.expand_dims(X, axis = 3)\n",
    "            \n",
    "            yield (X,Y) #a tuple with two numpy arrays with batch_size samples     \n",
    "\n",
    "            batch_start += batch_size   \n",
    "            batch_end += batch_size"
   ]
  },
  {
   "cell_type": "code",
   "execution_count": 37,
   "metadata": {},
   "outputs": [],
   "source": [
    "num_data = 27000\n",
    "samp_length = 11025"
   ]
  },
  {
   "cell_type": "markdown",
   "metadata": {},
   "source": [
    "Load test data"
   ]
  },
  {
   "cell_type": "code",
   "execution_count": 51,
   "metadata": {},
   "outputs": [
    {
     "name": "stderr",
     "output_type": "stream",
     "text": [
      "c:\\users\\joe\\summer\\synthavinci\\env\\lib\\site-packages\\ipykernel_launcher.py:11: DeprecationWarning: Both axis > a.ndim and axis < -a.ndim - 1 are deprecated and will raise an AxisError in the future.\n",
      "  # This is added back by InteractiveShellApp.init_path()\n"
     ]
    }
   ],
   "source": [
    "test_size = 3000\n",
    "Y_data = np.zeros(shape=(test_size))\n",
    "mat = np.genfromtxt('C:/4opData/mat.txt', delimiter=',')\n",
    "Y_test = mat[num_data:num_data+test_size]\n",
    "\n",
    "X_test = np.zeros((test_size,512))\n",
    "for i in range (num_data,num_data+test_size):\n",
    "    ft = np.load('C:/Users/Joe/Summer/4opSpects/spect' + str(i) + '.stft.npy')\n",
    "    X_test[i-num_data] = ft\n",
    "\n",
    "X_test = np.expand_dims(X_test, axis = 3)\n",
    "X_test = np.expand_dims(X_test, axis = 3)"
   ]
  },
  {
   "cell_type": "code",
   "execution_count": 5,
   "metadata": {},
   "outputs": [],
   "source": [
    "\n",
    "#def customLoss(yTrue, yPred):\n",
    "#    return K.sum(K.mean(K.square(yTrue[:, 0:2] - yPred[:, 0:2]))) + K.sum(K.mean(K.square(yTrue[:, 2:4] - yPred[:, 2:4]))) * 2 + K.sum(K.mean(K.square(yTrue[:, 4] - yPred[:, 4])))"
   ]
  },
  {
   "cell_type": "code",
   "execution_count": 57,
   "metadata": {},
   "outputs": [],
   "source": [
    "inputs = Input(shape=(512,1,1))\n",
    "\n",
    "# a layer instance is callable on a tensor, and returns a tensor\n",
    "x = BatchNormalization()(inputs)\n",
    "x = MaxPooling2D(pool_size=(2, 1))(x)\n",
    "x = Convolution2D(64, kernel_size=(12, 1), strides=(1, 1), padding=\"same\", activation='relu', kernel_initializer='he_uniform')(x)\n",
    "x = Convolution2D(128, kernel_size=(12, 1), strides=(1, 1), padding=\"same\", activation='relu', kernel_initializer='he_uniform')(x)\n",
    "x = MaxPooling2D(pool_size=(2, 1))(x)\n",
    "x = Convolution2D(256, kernel_size=(12, 1), strides=(1, 1), padding=\"same\", activation='relu', kernel_initializer='he_uniform')(x)\n",
    "x = Convolution2D(256, kernel_size=(12, 1), strides=(1, 1), padding=\"same\", activation='relu', kernel_initializer='he_uniform')(x)\n",
    "x = MaxPooling2D(pool_size=(2, 1))(x)\n",
    "x = Convolution2D(256, kernel_size=(12, 1), strides=(1, 1), padding=\"same\", activation='relu', kernel_initializer='he_uniform')(x)\n",
    "x = Convolution2D(256, kernel_size=(12, 1), strides=(1, 1), padding=\"same\", activation='relu', kernel_initializer='he_uniform')(x)\n",
    "x = MaxPooling2D(pool_size=(2, 1))(x)\n",
    "x = Convolution2D(512, kernel_size=(12, 1), strides=(1, 1), padding=\"same\", activation='relu', kernel_initializer='he_uniform')(x)\n",
    "x = Convolution2D(512, kernel_size=(12, 1), strides=(1, 1), padding=\"same\", activation='relu', kernel_initializer='he_uniform')(x)\n",
    "x = MaxPooling2D(pool_size=(2, 1))(x)\n",
    "x = Flatten()(x)\n",
    "#x = Dense(512, activation='relu', kernel_initializer='he_uniform')(x)\n",
    "x = Dense(512, activation='relu', kernel_initializer='he_uniform')(x)\n",
    "#x = Dense(512, activation='relu')(x)\n",
    "x = Dense(8)(x)\n",
    "# This creates a model that includes\n",
    "# the Input layer and three Dense layers\n",
    "adam = optimizers.Adam(lr=0.0001)\n",
    "model = Model(inputs=inputs, outputs=x)\n",
    "model.compile(adam,\n",
    "              loss='mean_squared_error',\n",
    "              metrics=['accuracy'])"
   ]
  },
  {
   "cell_type": "code",
   "execution_count": 58,
   "metadata": {},
   "outputs": [
    {
     "name": "stdout",
     "output_type": "stream",
     "text": [
      "27000\n"
     ]
    },
    {
     "name": "stderr",
     "output_type": "stream",
     "text": [
      "c:\\users\\joe\\summer\\synthavinci\\env\\lib\\site-packages\\ipykernel_launcher.py:18: DeprecationWarning: Both axis > a.ndim and axis < -a.ndim - 1 are deprecated and will raise an AxisError in the future.\n"
     ]
    },
    {
     "name": "stdout",
     "output_type": "stream",
     "text": [
      "Epoch 1/40\n",
      "   5/1000 [..............................] - ETA: 8:48 - loss: 10.6111 - acc: 0.1185 "
     ]
    },
    {
     "name": "stderr",
     "output_type": "stream",
     "text": [
      "c:\\users\\joe\\summer\\synthavinci\\env\\lib\\site-packages\\ipykernel_launcher.py:18: DeprecationWarning: Both axis > a.ndim and axis < -a.ndim - 1 are deprecated and will raise an AxisError in the future.\n"
     ]
    },
    {
     "name": "stdout",
     "output_type": "stream",
     "text": [
      "1000/1000 [==============================] - 35s 35ms/step - loss: 0.1578 - acc: 0.2435\n",
      "Epoch 2/40\n",
      "1000/1000 [==============================] - 32s 32ms/step - loss: 0.0618 - acc: 0.2806\n",
      "Epoch 3/40\n",
      "1000/1000 [==============================] - 32s 32ms/step - loss: 0.0588 - acc: 0.2952\n",
      "Epoch 4/40\n",
      "1000/1000 [==============================] - 32s 32ms/step - loss: 0.0568 - acc: 0.3034\n",
      "Epoch 5/40\n",
      "1000/1000 [==============================] - 32s 32ms/step - loss: 0.0551 - acc: 0.3119\n",
      "Epoch 6/40\n",
      "1000/1000 [==============================] - 32s 32ms/step - loss: 0.0538 - acc: 0.3176\n",
      "Epoch 7/40\n",
      "1000/1000 [==============================] - 32s 32ms/step - loss: 0.0526 - acc: 0.3260\n",
      "Epoch 8/40\n",
      "1000/1000 [==============================] - 32s 32ms/step - loss: 0.0514 - acc: 0.3327\n",
      "Epoch 9/40\n",
      "1000/1000 [==============================] - 33s 33ms/step - loss: 0.0504 - acc: 0.3370\n",
      "Epoch 10/40\n",
      "1000/1000 [==============================] - 33s 33ms/step - loss: 0.0492 - acc: 0.3440\n",
      "Epoch 11/40\n",
      "1000/1000 [==============================] - 32s 32ms/step - loss: 0.0478 - acc: 0.3493\n",
      "Epoch 12/40\n",
      "1000/1000 [==============================] - 33s 33ms/step - loss: 0.0460 - acc: 0.3593 0s - loss: 0.0460 - acc: 0.\n",
      "Epoch 13/40\n",
      "1000/1000 [==============================] - 33s 33ms/step - loss: 0.0438 - acc: 0.3716\n",
      "Epoch 14/40\n",
      "1000/1000 [==============================] - 33s 33ms/step - loss: 0.0416 - acc: 0.3866\n",
      "Epoch 15/40\n",
      "1000/1000 [==============================] - 32s 32ms/step - loss: 0.0393 - acc: 0.3990\n",
      "Epoch 16/40\n",
      "1000/1000 [==============================] - 32s 32ms/step - loss: 0.0359 - acc: 0.4220 0s - loss: 0.0359 - acc: 0.\n",
      "Epoch 17/40\n",
      "1000/1000 [==============================] - 32s 32ms/step - loss: 0.0330 - acc: 0.4425\n",
      "Epoch 18/40\n",
      "1000/1000 [==============================] - 32s 32ms/step - loss: 0.0303 - acc: 0.4728\n",
      "Epoch 19/40\n",
      "1000/1000 [==============================] - 32s 32ms/step - loss: 0.0276 - acc: 0.4904\n",
      "Epoch 20/40\n",
      "1000/1000 [==============================] - 32s 32ms/step - loss: 0.0251 - acc: 0.5086\n",
      "Epoch 21/40\n",
      "1000/1000 [==============================] - 32s 32ms/step - loss: 0.0225 - acc: 0.5377\n",
      "Epoch 22/40\n",
      "1000/1000 [==============================] - 32s 32ms/step - loss: 0.0203 - acc: 0.5537\n",
      "Epoch 23/40\n",
      "1000/1000 [==============================] - 32s 32ms/step - loss: 0.0186 - acc: 0.5748\n",
      "Epoch 24/40\n",
      "1000/1000 [==============================] - 32s 32ms/step - loss: 0.0171 - acc: 0.5861\n",
      "Epoch 25/40\n",
      "1000/1000 [==============================] - 32s 32ms/step - loss: 0.0160 - acc: 0.5986\n",
      "Epoch 26/40\n",
      "1000/1000 [==============================] - 32s 32ms/step - loss: 0.0151 - acc: 0.6091\n",
      "Epoch 27/40\n",
      "1000/1000 [==============================] - 32s 32ms/step - loss: 0.0144 - acc: 0.6153\n",
      "Epoch 28/40\n",
      "1000/1000 [==============================] - 33s 33ms/step - loss: 0.0132 - acc: 0.6311\n",
      "Epoch 29/40\n",
      "1000/1000 [==============================] - 33s 33ms/step - loss: 0.0120 - acc: 0.6473\n",
      "Epoch 30/40\n",
      "1000/1000 [==============================] - 32s 32ms/step - loss: 0.0114 - acc: 0.6584 0s - loss: 0.0114 - acc: 0.\n",
      "Epoch 31/40\n",
      "1000/1000 [==============================] - 33s 33ms/step - loss: 0.0109 - acc: 0.6657\n",
      "Epoch 32/40\n",
      "1000/1000 [==============================] - 32s 32ms/step - loss: 0.0104 - acc: 0.6691\n",
      "Epoch 33/40\n",
      "1000/1000 [==============================] - 32s 32ms/step - loss: 0.0098 - acc: 0.6810\n",
      "Epoch 34/40\n",
      "1000/1000 [==============================] - 33s 33ms/step - loss: 0.0091 - acc: 0.6898 0s - loss: 0.0091 - acc: 0\n",
      "Epoch 35/40\n",
      "1000/1000 [==============================] - 32s 32ms/step - loss: 0.0089 - acc: 0.6894\n",
      "Epoch 36/40\n",
      "1000/1000 [==============================] - 32s 32ms/step - loss: 0.0087 - acc: 0.6984\n",
      "Epoch 37/40\n",
      "1000/1000 [==============================] - 35s 35ms/step - loss: 0.0082 - acc: 0.7052\n",
      "Epoch 38/40\n",
      "1000/1000 [==============================] - 32s 32ms/step - loss: 0.0077 - acc: 0.7131\n",
      "Epoch 39/40\n",
      "1000/1000 [==============================] - 32s 32ms/step - loss: 0.0074 - acc: 0.7159\n",
      "Epoch 40/40\n",
      "1000/1000 [==============================] - 33s 33ms/step - loss: 0.0072 - acc: 0.7205\n"
     ]
    },
    {
     "data": {
      "text/plain": [
       "<tensorflow.python.keras.callbacks.History at 0x19a0438d748>"
      ]
     },
     "execution_count": 58,
     "metadata": {},
     "output_type": "execute_result"
    }
   ],
   "source": [
    "model.fit_generator(dataLoader(27), steps_per_epoch=1000, epochs=40, verbose=1)"
   ]
  },
  {
   "cell_type": "code",
   "execution_count": 103,
   "metadata": {},
   "outputs": [
    {
     "name": "stdout",
     "output_type": "stream",
     "text": [
      "Model: \"model_19\"\n",
      "_________________________________________________________________\n",
      "Layer (type)                 Output Shape              Param #   \n",
      "=================================================================\n",
      "input_23 (InputLayer)        [(None, 512, 1, 1)]       0         \n",
      "_________________________________________________________________\n",
      "batch_normalization_22 (Batc (None, 512, 1, 1)         4         \n",
      "_________________________________________________________________\n",
      "max_pooling2d_138 (MaxPoolin (None, 256, 1, 1)         0         \n",
      "_________________________________________________________________\n",
      "conv2d_177 (Conv2D)          (None, 256, 1, 64)        256       \n",
      "_________________________________________________________________\n",
      "max_pooling2d_139 (MaxPoolin (None, 128, 1, 64)        0         \n",
      "_________________________________________________________________\n",
      "conv2d_178 (Conv2D)          (None, 128, 1, 128)       24704     \n",
      "_________________________________________________________________\n",
      "max_pooling2d_140 (MaxPoolin (None, 64, 1, 128)        0         \n",
      "_________________________________________________________________\n",
      "conv2d_179 (Conv2D)          (None, 64, 1, 256)        98560     \n",
      "_________________________________________________________________\n",
      "conv2d_180 (Conv2D)          (None, 64, 1, 256)        196864    \n",
      "_________________________________________________________________\n",
      "max_pooling2d_141 (MaxPoolin (None, 32, 1, 256)        0         \n",
      "_________________________________________________________________\n",
      "conv2d_181 (Conv2D)          (None, 32, 1, 512)        393728    \n",
      "_________________________________________________________________\n",
      "conv2d_182 (Conv2D)          (None, 32, 1, 512)        786944    \n",
      "_________________________________________________________________\n",
      "max_pooling2d_142 (MaxPoolin (None, 16, 1, 512)        0         \n",
      "_________________________________________________________________\n",
      "conv2d_183 (Conv2D)          (None, 16, 1, 512)        786944    \n",
      "_________________________________________________________________\n",
      "conv2d_184 (Conv2D)          (None, 16, 1, 512)        786944    \n",
      "_________________________________________________________________\n",
      "max_pooling2d_143 (MaxPoolin (None, 8, 1, 512)         0         \n",
      "_________________________________________________________________\n",
      "flatten_21 (Flatten)         (None, 4096)              0         \n",
      "_________________________________________________________________\n",
      "dense_52 (Dense)             (None, 512)               2097664   \n",
      "_________________________________________________________________\n",
      "dense_53 (Dense)             (None, 5)                 2565      \n",
      "=================================================================\n",
      "Total params: 5,175,177\n",
      "Trainable params: 5,175,175\n",
      "Non-trainable params: 2\n",
      "_________________________________________________________________\n"
     ]
    }
   ],
   "source": [
    "model.summary()"
   ]
  },
  {
   "cell_type": "code",
   "execution_count": 59,
   "metadata": {},
   "outputs": [],
   "source": [
    "o = model.predict(X_test)"
   ]
  },
  {
   "cell_type": "code",
   "execution_count": 60,
   "metadata": {},
   "outputs": [
    {
     "name": "stdout",
     "output_type": "stream",
     "text": [
      "3000/3000 [==============================] - 1s 286us/sample - loss: 0.0630 - acc: 0.3140\n"
     ]
    },
    {
     "data": {
      "text/plain": [
       "[0.06299395408233006, 0.314]"
      ]
     },
     "execution_count": 60,
     "metadata": {},
     "output_type": "execute_result"
    }
   ],
   "source": [
    "model.evaluate(X_test, Y_test)"
   ]
  },
  {
   "cell_type": "code",
   "execution_count": 145,
   "metadata": {},
   "outputs": [
    {
     "name": "stderr",
     "output_type": "stream",
     "text": [
      "/Users/josephcleveland/Summer/venv/lib/python3.7/site-packages/ipykernel_launcher.py:6: ComplexWarning: Casting complex values to real discards the imaginary part\n",
      "  \n"
     ]
    },
    {
     "data": {
      "image/png": "[encoded data removed]",
      "text/plain": [
       "<Figure size 432x288 with 2 Axes>"
      ]
     },
     "metadata": {
      "needs_background": "light"
     },
     "output_type": "display_data"
    }
   ],
   "source": [
    "audio = wavload.readwav('/Users/josephcleveland/Desktop/Screech.wav')[2]\n",
    "audio = audio.T[0]\n",
    "\n",
    "X_audio = audio[0:67584].astype(float)\n",
    "X_piano = np.zeros((1, 64, 64))\n",
    "X_piano[0] = stft(X_audio,n_fft=1408)[0:64, 0:64]\n",
    "X_piano = np.expand_dims(X_piano, axis=3)\n",
    "\n",
    "Spectogram = np.abs(librosa.feature.melspectrogram(X_audio, sr=44100, n_mels=128))\n",
    "librosa.display.specshow(librosa.amplitude_to_db(Spectogram,\n",
    "                        ref=np.max),\n",
    "                          y_axis='mel', x_axis='time')\n",
    "plt.title('Power spectrogram')\n",
    "plt.colorbar(format='%+2.0f dB')\n",
    "plt.tight_layout()\n",
    "\n",
    "o = model.predict(X_piano)"
   ]
  },
  {
   "cell_type": "code",
   "execution_count": 61,
   "metadata": {},
   "outputs": [
    {
     "name": "stdout",
     "output_type": "stream",
     "text": [
      "[0.05612891 0.11750871 0.13971848 0.23131591 0.19847282 0.26225086\n",
      " 0.24871163 0.24980046]\n",
      "average:  0.18798847183131392\n"
     ]
    }
   ],
   "source": [
    "average_dist = np.zeros(8)\n",
    "\n",
    "for p in range(0, 8):\n",
    "    dist_total = 0\n",
    "    for i in range(0, 3000):\n",
    "        dist_total += np.absolute(o[i, p] - Y_test[i, p])\n",
    "    average_dist[p] = dist_total / 3000\n",
    "    \n",
    "print(average_dist)\n",
    "print(\"average: \", np.average(average_dist))"
   ]
  },
  {
   "cell_type": "code",
   "execution_count": 41,
   "metadata": {},
   "outputs": [
    {
     "name": "stdout",
     "output_type": "stream",
     "text": [
      "predicted [0.7553094  0.6772903  0.12203838 0.50940853 0.31881514]\n",
      "original [0.819 0.724 0.121 0.499 0.278]\n"
     ]
    }
   ],
   "source": [
    "sam = 1\n",
    "print(\"predicted\", o[sam])\n",
    "print(\"original\", Y_test[sam])"
   ]
  },
  {
   "cell_type": "code",
   "execution_count": 50,
   "metadata": {},
   "outputs": [],
   "source": [
    "np.savetxt(\"C:/Users/Joe/Summer/Seymour.csv\", o, delimiter=\",\")"
   ]
  },
  {
   "cell_type": "code",
   "execution_count": 51,
   "metadata": {},
   "outputs": [],
   "source": [
    "# Save the weights\n",
    "model.save_weights('C:/Users/Joe/Summer/ModelWeights/Seymour.h5')\n",
    "\n",
    "# Save the model architecture\n",
    "with open('C:/Users/Joe/Summer/ModelWeights/Seymour.json', 'w') as f:\n",
    "    f.write(model.to_json())"
   ]
  },
  {
   "cell_type": "code",
   "execution_count": null,
   "metadata": {},
   "outputs": [],
   "source": []
  }
 ],
 "metadata": {
  "kernelspec": {
   "display_name": "Python 3",
   "language": "python",
   "name": "python3"
  },
  "language_info": {
   "codemirror_mode": {
    "name": "ipython",
    "version": 3
   },
   "file_extension": ".py",
   "mimetype": "text/x-python",
   "name": "python",
   "nbconvert_exporter": "python",
   "pygments_lexer": "ipython3",
   "version": "3.7.3"
  }
 },
 "nbformat": 4,
 "nbformat_minor": 2
}
