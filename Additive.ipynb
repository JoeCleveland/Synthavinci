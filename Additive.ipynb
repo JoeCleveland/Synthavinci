{
 "cells": [
  {
   "cell_type": "code",
   "execution_count": 2,
   "metadata": {},
   "outputs": [],
   "source": [
    "import numpy as np\n",
    "import pyaudio\n",
    "import time\n",
    "import math\n",
    "from random import randrange\n",
    "import librosa as rosa\n",
    "import librosa.display as rsdsp\n",
    "import matplotlib.pyplot as plt\n",
    "from tensorflow.keras.models import Sequential\n",
    "from tensorflow.keras.layers import Dense, LSTM, Convolution2D, Flatten, TimeDistributed, MaxPooling2D, BatchNormalization"
   ]
  },
  {
   "cell_type": "code",
   "execution_count": 60,
   "metadata": {},
   "outputs": [],
   "source": [
    "\n",
    "num_tones = 6\n",
    "\n",
    "f = 440\n",
    "srate = 11025\n",
    "frame_count = 44100\n",
    "clips = 3000\n",
    "output = np.zeros((clips, frame_count))\n",
    "Y = np.zeros((clips, num_tones*2))\n",
    "\n",
    "for c in range(0, clips):\n",
    "    #amplitudes = np.random.uniform(0, 1/num_tones, num_tones)\n",
    "    amplitudes = np.repeat([1/num_tones], num_tones)\n",
    "    \n",
    "    ratios = np.random.uniform(1, randrange(2, 12), num_tones)\n",
    "    ratios[0] = 1\n",
    "    ratios = np.sort(ratios)\n",
    "    \n",
    "    rates = np.random.uniform(0.9995, 0.99999, num_tones)\n",
    "    rates = -np.sort(-rates)\n",
    "    t = 0\n",
    "    Y[c] = np.concatenate((ratios, rates))\n",
    "    \n",
    "    for i in range(0, frame_count):\n",
    "        for ot in range(0, num_tones):\n",
    "            output[c, i] += amplitudes[ot]*math.sin(math.pi * t * f * ratios[ot] / srate)\n",
    "        amplitudes = amplitudes * rates\n",
    "        t = t + 1\n",
    "#output = output * 1000\n",
    "#output = output.astype('int16')\n"
   ]
  },
  {
   "cell_type": "code",
   "execution_count": 80,
   "metadata": {},
   "outputs": [
    {
     "name": "stdout",
     "output_type": "stream",
     "text": [
      "[1.         1.2845767  2.35165924 5.50202628 7.26005955 9.23278085\n",
      " 0.99981121 0.99976923 0.99976326 0.9996211  0.99961421 0.99960086]\n"
     ]
    }
   ],
   "source": [
    "p = pyaudio.PyAudio()\n",
    "stream = p.open(format=pyaudio.paInt16,\n",
    "                channels=1,\n",
    "                rate=srate,\n",
    "                output=True)\n",
    "\n",
    "#stream.start_stream()\n",
    "stream.write((output[50]*1000).astype('int16'))\n",
    "print(Y[1])\n",
    "stream.stop_stream()\n",
    "stream.close()\n",
    "p.terminate()"
   ]
  },
  {
   "cell_type": "code",
   "execution_count": 64,
   "metadata": {},
   "outputs": [],
   "source": [
    "MFCC = np.zeros((clips, 64, 87))\n",
    "for i in range(clips):\n",
    "    MFCC[i] = rosa.feature.melspectrogram(output[i], sr=11025, n_mels=64)\n",
    "    #MFCC[i] = rosa.feature.mfcc(output[i], sr=11025, n_mfcc=40)"
   ]
  },
  {
   "cell_type": "code",
   "execution_count": 189,
   "metadata": {},
   "outputs": [],
   "source": [
    "CmprMFCC = np.mean(MFCC, axis=2)"
   ]
  },
  {
   "cell_type": "code",
   "execution_count": 190,
   "metadata": {},
   "outputs": [
    {
     "data": {
      "image/png": "[encoded data removed]",
      "text/plain": [
       "<Figure size 432x288 with 1 Axes>"
      ]
     },
     "metadata": {
      "needs_background": "light"
     },
     "output_type": "display_data"
    },
    {
     "name": "stdout",
     "output_type": "stream",
     "text": [
      "(10000, 64)\n"
     ]
    },
    {
     "data": {
      "image/png": "[encoded data removed]",
      "text/plain": [
       "<Figure size 432x288 with 1 Axes>"
      ]
     },
     "metadata": {
      "needs_background": "light"
     },
     "output_type": "display_data"
    }
   ],
   "source": [
    "rsdsp.specshow(MFCC[1], x_axis='time')\n",
    "plt.show()\n",
    "plt.plot(CmprMFCC[1])\n",
    "print(CmprMFCC.shape)"
   ]
  },
  {
   "cell_type": "code",
   "execution_count": 65,
   "metadata": {},
   "outputs": [],
   "source": [
    "\"\"\"CNN network\"\"\"\n",
    "#MFCC_EXP = np.expand_dims(CmprMFCC, axis=2)\n",
    "MFCC_EXP = np.expand_dims(MFCC, axis=3)\n",
    "cnn_model = Sequential()\n",
    "cnn_model.add(BatchNormalization())\n",
    "cnn_model.add(Convolution2D(32, padding=\"same\", activation='relu', kernel_size=(8, 8), strides=(1, 1), input_shape=(128, 87, 1)))\n",
    "cnn_model.add(MaxPooling2D(pool_size=(1, 1)))\n",
    "cnn_model.add(Convolution2D(32, padding=\"same\", activation='relu', kernel_size=(6, 6), strides=(1, 1)))\n",
    "cnn_model.add(MaxPooling2D(pool_size=(1, 1)))\n",
    "cnn_model.add(Convolution2D(32, padding=\"same\", activation='relu', kernel_size=(4, 4), strides=(1, 1)))\n",
    "cnn_model.add(MaxPooling2D(pool_size=(2, 2)))\n",
    "cnn_model.add(Convolution2D(32, padding=\"same\", activation='relu', kernel_size=(4, 4), strides=(1, 1)))\n",
    "cnn_model.add(MaxPooling2D(pool_size=(4, 4)))\n",
    "cnn_model.add(Convolution2D(32, padding=\"same\", activation='relu', kernel_size=(4, 4), strides=(1, 1)))\n",
    "cnn_model.add(Convolution2D(32, padding=\"same\", activation='relu', kernel_size=(2, 2), strides=(1, 1)))\n",
    "cnn_model.add(Flatten())\n",
    "cnn_model.add(Dense(units=128, activation='relu'))\n",
    "cnn_model.add(Dense(units=12))\n",
    "cnn_model.compile(loss='mean_squared_error',\n",
    "              optimizer='adam',\n",
    "              metrics=['accuracy'])\n"
   ]
  },
  {
   "cell_type": "code",
   "execution_count": 66,
   "metadata": {},
   "outputs": [
    {
     "name": "stdout",
     "output_type": "stream",
     "text": [
      "Epoch 1/10\n",
      "3000/3000 [==============================] - 52s 17ms/sample - loss: 1.4816 - acc: 0.9180\n",
      "Epoch 2/10\n",
      "3000/3000 [==============================] - 52s 17ms/sample - loss: 0.2272 - acc: 0.9753\n",
      "Epoch 3/10\n",
      "3000/3000 [==============================] - 52s 17ms/sample - loss: 0.2009 - acc: 0.9717\n",
      "Epoch 4/10\n",
      "3000/3000 [==============================] - 52s 17ms/sample - loss: 0.0994 - acc: 0.9680\n",
      "Epoch 5/10\n",
      "3000/3000 [==============================] - 52s 17ms/sample - loss: 0.0908 - acc: 0.9510\n",
      "Epoch 6/10\n",
      "3000/3000 [==============================] - 53s 18ms/sample - loss: 0.0936 - acc: 0.9607\n",
      "Epoch 7/10\n",
      "3000/3000 [==============================] - 52s 17ms/sample - loss: 0.0621 - acc: 0.9483\n",
      "Epoch 8/10\n",
      "3000/3000 [==============================] - 54s 18ms/sample - loss: 0.0524 - acc: 0.9553\n",
      "Epoch 9/10\n",
      "3000/3000 [==============================] - 52s 17ms/sample - loss: 0.0505 - acc: 0.9400\n",
      "Epoch 10/10\n",
      "3000/3000 [==============================] - 52s 17ms/sample - loss: 0.0544 - acc: 0.9233\n"
     ]
    },
    {
     "data": {
      "text/plain": [
       "<tensorflow.python.keras.callbacks.History at 0x7efb4ad2d240>"
      ]
     },
     "execution_count": 66,
     "metadata": {},
     "output_type": "execute_result"
    }
   ],
   "source": [
    "cnn_model.fit(MFCC_EXP, Y, epochs=10)"
   ]
  },
  {
   "cell_type": "code",
   "execution_count": 67,
   "metadata": {},
   "outputs": [
    {
     "name": "stdout",
     "output_type": "stream",
     "text": [
      "Epoch 1/5\n",
      "3000/3000 [==============================] - 4s 1ms/sample - loss: 2.0141 - acc: 0.9573\n",
      "Epoch 2/5\n",
      "3000/3000 [==============================] - 4s 1ms/sample - loss: 1.5403 - acc: 1.0000\n",
      "Epoch 3/5\n",
      "3000/3000 [==============================] - 4s 1ms/sample - loss: 1.5402 - acc: 1.0000\n",
      "Epoch 4/5\n",
      "3000/3000 [==============================] - 4s 1ms/sample - loss: 1.5379 - acc: 1.0000\n",
      "Epoch 5/5\n",
      "3000/3000 [==============================] - 4s 1ms/sample - loss: 1.5374 - acc: 1.0000\n"
     ]
    },
    {
     "data": {
      "text/plain": [
       "<tensorflow.python.keras.callbacks.History at 0x7efb1b1e0f98>"
      ]
     },
     "execution_count": 67,
     "metadata": {},
     "output_type": "execute_result"
    }
   ],
   "source": [
    "\"\"\"LSTM network\"\"\"\n",
    "\n",
    "lstm_model = Sequential()\n",
    "lstm_model.add(LSTM(128))\n",
    "lstm_model.add(Dense(units=256, activation='sigmoid'))\n",
    "lstm_model.add(Dense(units=12))\n",
    "lstm_model.compile(loss='mean_squared_error',\n",
    "              optimizer='sgd',\n",
    "              metrics=['accuracy'])\n",
    "lstm_model.fit(MFCC, Y, epochs=5)"
   ]
  },
  {
   "cell_type": "code",
   "execution_count": 68,
   "metadata": {},
   "outputs": [
    {
     "name": "stdout",
     "output_type": "stream",
     "text": [
      "[0.9222497  1.3867108  1.7901326  2.220046   3.2274184  4.8750696\n",
      " 0.9424491  0.98494446 0.92385185 0.9547227  1.0090489  0.9465811 ]\n",
      "[1.0001673  1.9776639  2.9089115  3.8677425  4.704889   5.555651\n",
      " 0.99995565 1.0013021  0.99949497 0.9998628  0.99958336 0.9990152 ]\n",
      "[1.         1.07458654 2.24153151 2.32781355 3.37804371 4.96750507\n",
      " 0.99996445 0.99987288 0.99987216 0.999697   0.99963172 0.99950516]\n"
     ]
    }
   ],
   "source": [
    "cnn_o = cnn_model.predict(MFCC_EXP)\n",
    "lstm_o = lstm_model.predict(MFCC)\n",
    "print(cnn_o[41])\n",
    "print(lstm_o[41])\n",
    "print(Y[41])"
   ]
  },
  {
   "cell_type": "code",
   "execution_count": 51,
   "metadata": {},
   "outputs": [
    {
     "name": "stdout",
     "output_type": "stream",
     "text": [
      "[0.9990496 1.9408184 2.8537488 3.7443464 4.598113  5.52269   0.999747\n",
      " 1.0001667 1.0002912 0.9992079 1.0004032 0.9991425]\n",
      "[1.         1.00049439 3.15232853 7.22713684 7.58449371 8.17264358\n",
      " 0.99986904 0.99985635 0.99977507 0.99977502 0.99972072 0.99965161]\n"
     ]
    }
   ],
   "source": [
    "g = 10\n",
    "print(lstm_o[g])\n",
    "print(Y[g])"
   ]
  },
  {
   "cell_type": "code",
   "execution_count": 69,
   "metadata": {},
   "outputs": [
    {
     "name": "stdout",
     "output_type": "stream",
     "text": [
      "-0.18406817924589866 ... 0.06809481201955712\n"
     ]
    }
   ],
   "source": [
    "cnn_diff_sum = 0\n",
    "lstm_diff_sum = 0\n",
    "for i in range(100):\n",
    "    for j in range(6):\n",
    "        cnn_diff_sum += cnn_o[i, j] - Y[i, j]\n",
    "        lstm_diff_sum += lstm_o[i, j] - Y[i, j]\n",
    "\n",
    "print(cnn_diff_sum / 600, \"...\", lstm_diff_sum / 600)"
   ]
  },
  {
   "cell_type": "code",
   "execution_count": 78,
   "metadata": {},
   "outputs": [
    {
     "name": "stdout",
     "output_type": "stream",
     "text": [
      "[1.        1.9807171 2.911826  3.8714955 4.7081847 5.5603523]  ...  [0.99979067 0.9991071  1.0000362  0.99918395 0.9997174  0.99996126]\n"
     ]
    }
   ],
   "source": [
    "recreation = np.zeros((frame_count))\n",
    "t = 0\n",
    "smp = 50\n",
    "ratios = lstm_o[smp, 0:6]\n",
    "ratios[0] = 1\n",
    "amplitudes = np.repeat([1/num_tones], num_tones)\n",
    "rates = lstm_o[smp, 6:12]\n",
    "print(ratios, \" ... \", rates)\n",
    "for i in range(6):\n",
    "    if rates[i] > 1:\n",
    "        rates[i] = 0.9999\n",
    "for i in range(0, frame_count):\n",
    "    for ot in range(0, num_tones):\n",
    "        recreation[i] += amplitudes[ot]*math.sin(math.pi * t * f * ratios[ot] / srate)\n",
    "    amplitudes = amplitudes * rates\n",
    "    t = t + 1\n",
    "    \n",
    "p = pyaudio.PyAudio()\n",
    "stream = p.open(format=pyaudio.paInt16,\n",
    "                channels=1,\n",
    "                rate=srate,\n",
    "                output=True)\n",
    "\n",
    "stream.write((recreation*1000).astype('int16'))\n",
    "stream.stop_stream()\n",
    "stream.close()\n",
    "p.terminate()"
   ]
  },
  {
   "cell_type": "code",
   "execution_count": 201,
   "metadata": {},
   "outputs": [],
   "source": [
    "# Save the weights\n",
    "cnn_model.save_weights('/home/josephcleveland/Research/models/weights.h5')"
   ]
  },
  {
   "cell_type": "code",
   "execution_count": null,
   "metadata": {},
   "outputs": [],
   "source": []
  }
 ],
 "metadata": {
  "kernelspec": {
   "display_name": "Python 3",
   "language": "python",
   "name": "python3"
  },
  "language_info": {
   "codemirror_mode": {
    "name": "ipython",
    "version": 3
   },
   "file_extension": ".py",
   "mimetype": "text/x-python",
   "name": "python",
   "nbconvert_exporter": "python",
   "pygments_lexer": "ipython3",
   "version": "3.6.8"
  }
 },
 "nbformat": 4,
 "nbformat_minor": 2
}
