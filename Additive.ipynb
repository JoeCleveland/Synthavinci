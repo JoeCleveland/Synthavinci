{
 "cells": [
  {
   "cell_type": "code",
   "execution_count": 240,
   "metadata": {},
   "outputs": [],
   "source": [
    "import numpy as np\n",
    "import pyaudio\n",
    "import time\n",
    "import math\n",
    "from random import randrange\n",
    "import librosa as rosa\n",
    "import matplotlib.pyplot as plt\n",
    "from tensorflow.keras.models import Sequential\n",
    "from tensorflow.keras.layers import Dense, LSTM, Convolution2D, Flatten, TimeDistributed"
   ]
  },
  {
   "cell_type": "code",
   "execution_count": 236,
   "metadata": {},
   "outputs": [],
   "source": [
    "\n",
    "num_tones = 6\n",
    "\n",
    "f = 440\n",
    "srate = 11025\n",
    "frame_count = 44100\n",
    "clips = 2000\n",
    "output = np.zeros((clips, frame_count))\n",
    "Y = np.zeros((clips, num_tones))\n",
    "\n",
    "for c in range(0, clips):\n",
    "    #amplitudes = np.random.uniform(0, 1/num_tones, num_tones)\n",
    "    amplitudes = np.repeat([1/num_tones], num_tones)\n",
    "    ratios = np.random.uniform(1, randrange(2, 12), num_tones)\n",
    "    ratios[0] = 1\n",
    "    #rates = np.random.uniform(0.9996, 0.99999, num_tones)\n",
    "    rates = np.repeat([0.9999], num_tones)\n",
    "    #amplitudes = -np.sort(-amplitudes)\n",
    "    t = 0\n",
    "    #Y[c] = np.concatenate((amplitudes, ratios, rates))\n",
    "    Y[c] = ratios\n",
    "    \n",
    "    for i in range(0, frame_count):\n",
    "        for ot in range(0, num_tones):\n",
    "            output[c, i] += amplitudes[ot]*math.sin(math.pi * t * f * ratios[ot] / srate)\n",
    "        amplitudes = amplitudes * rates\n",
    "        t = t + 1\n",
    "#output = output * 1000\n",
    "#output = output.astype('int16')\n",
    "\n"
   ]
  },
  {
   "cell_type": "code",
   "execution_count": 270,
   "metadata": {},
   "outputs": [
    {
     "name": "stdout",
     "output_type": "stream",
     "text": [
      "[ 1.         10.39384446  3.98724159  3.79010153  1.11528312  8.13715916]\n"
     ]
    }
   ],
   "source": [
    "p = pyaudio.PyAudio()\n",
    "stream = p.open(format=pyaudio.paInt16,\n",
    "                channels=1,\n",
    "                rate=srate,\n",
    "                output=True)\n",
    "\n",
    "#stream.start_stream()\n",
    "stream.write((output[5]*1000).astype('int16'))\n",
    "print(Y[1])\n",
    "stream.stop_stream()\n",
    "stream.close()\n",
    "p.terminate()"
   ]
  },
  {
   "cell_type": "code",
   "execution_count": 274,
   "metadata": {},
   "outputs": [],
   "source": [
    "MFCC = np.zeros((clips, 512, 87))\n",
    "for i in range(clips):\n",
    "    MFCC[i] = rosa.feature.melspectrogram(output[i], sr=11025, n_mels=512)\n",
    "    #MFCC[i] = rosa.feature.mfcc(output[i], sr=11025, n_mfcc=20)"
   ]
  },
  {
   "cell_type": "code",
   "execution_count": 276,
   "metadata": {},
   "outputs": [
    {
     "name": "stdout",
     "output_type": "stream",
     "text": [
      "Epoch 1/5\n",
      "2000/2000 [==============================] - 73s 36ms/sample - loss: 8.4721 - accuracy: 0.1990\n",
      "Epoch 2/5\n",
      "2000/2000 [==============================] - 70s 35ms/sample - loss: 6.1781 - accuracy: 0.2025\n",
      "Epoch 3/5\n",
      "2000/2000 [==============================] - 65s 32ms/sample - loss: 5.2233 - accuracy: 0.2035\n",
      "Epoch 4/5\n",
      "2000/2000 [==============================] - 76s 38ms/sample - loss: 4.7720 - accuracy: 0.2050\n",
      "Epoch 5/5\n",
      "2000/2000 [==============================] - 67s 33ms/sample - loss: 4.5602 - accuracy: 0.2045\n"
     ]
    },
    {
     "data": {
      "text/plain": [
       "<tensorflow.python.keras.callbacks.History at 0x14000bda0>"
      ]
     },
     "execution_count": 276,
     "metadata": {},
     "output_type": "execute_result"
    }
   ],
   "source": [
    "\"\"\"CNN network\"\"\"\n",
    "MFCC_EXP = np.expand_dims(MFCC, axis=3)\n",
    "cnn_model = Sequential()\n",
    "cnn_model.add(Convolution2D(32, (4, 4), strides=(1, 1)))\n",
    "cnn_model.add(Convolution2D(32, (2, 2), strides=(1, 1)))\n",
    "cnn_model.add(Flatten())\n",
    "cnn_model.add(Dense(units=36, activation='sigmoid'))\n",
    "cnn_model.add(Dense(units=6))\n",
    "cnn_model.compile(loss='mean_squared_error',\n",
    "              optimizer='sgd',\n",
    "              metrics=['accuracy'])\n",
    "cnn_model.fit(MFCC_EXP, Y, epochs=5)"
   ]
  },
  {
   "cell_type": "code",
   "execution_count": 249,
   "metadata": {},
   "outputs": [
    {
     "name": "stdout",
     "output_type": "stream",
     "text": [
      "Epoch 1/5\n",
      "2000/2000 [==============================] - 8s 4ms/sample - loss: 9.7661 - accuracy: 0.2060\n",
      "Epoch 2/5\n",
      "2000/2000 [==============================] - 6s 3ms/sample - loss: 4.6973 - accuracy: 0.2000\n",
      "Epoch 3/5\n",
      "2000/2000 [==============================] - 6s 3ms/sample - loss: 4.3957 - accuracy: 0.1975\n",
      "Epoch 4/5\n",
      "2000/2000 [==============================] - 6s 3ms/sample - loss: 4.3763 - accuracy: 0.2025\n",
      "Epoch 5/5\n",
      "2000/2000 [==============================] - 6s 3ms/sample - loss: 4.3750 - accuracy: 0.1955\n"
     ]
    },
    {
     "data": {
      "text/plain": [
       "<tensorflow.python.keras.callbacks.History at 0x145f65e48>"
      ]
     },
     "execution_count": 249,
     "metadata": {},
     "output_type": "execute_result"
    }
   ],
   "source": [
    "\"\"\"LSTM network\"\"\"\n",
    "\n",
    "lstm_model = Sequential()\n",
    "lstm_model.add(LSTM(6))\n",
    "lstm_model.add(Dense(units=256, activation='sigmoid'))\n",
    "lstm_model.add(Dense(units=6))\n",
    "lstm_model.compile(loss='mean_squared_error',\n",
    "              optimizer='sgd',\n",
    "              metrics=['accuracy'])\n",
    "lstm_model.fit(MFCC, Y, epochs=5)"
   ]
  },
  {
   "cell_type": "code",
   "execution_count": 277,
   "metadata": {},
   "outputs": [
    {
     "name": "stdout",
     "output_type": "stream",
     "text": [
      "[0.90120107 3.2703967  3.2859488  3.3186808  3.4688032  3.5348306 ]\n",
      "[0.99735785 3.6584399  3.7307768  3.757041   3.762695   3.8094149 ]\n",
      "[1.         2.4564495  1.74668936 1.47902497 2.16641377 2.23719866]\n"
     ]
    }
   ],
   "source": [
    "cnn_o = cnn_model.predict(MFCC_EXP)\n",
    "lstm_o = lstm_model.predict(MFCC)\n",
    "print(cnn_o[41])\n",
    "print(lstm_o[41])\n",
    "print(Y[41])"
   ]
  },
  {
   "cell_type": "code",
   "execution_count": 281,
   "metadata": {},
   "outputs": [
    {
     "name": "stdout",
     "output_type": "stream",
     "text": [
      "[0.99735785 3.6584399  3.7307768  3.757041   3.762695   3.8094149 ]\n",
      "[1.         7.57747292 6.17471285 3.72331313 5.94116858 9.82988944]\n"
     ]
    }
   ],
   "source": [
    "g = 10\n",
    "print(lstm_o[g])\n",
    "print(Y[g])"
   ]
  },
  {
   "cell_type": "code",
   "execution_count": 282,
   "metadata": {},
   "outputs": [
    {
     "name": "stdout",
     "output_type": "stream",
     "text": [
      "-0.5029616348644725 ... -0.18209069139765036\n"
     ]
    }
   ],
   "source": [
    "cnn_diff_sum = 0\n",
    "lstm_diff_sum = 0\n",
    "for i in range(100):\n",
    "    for j in range(6):\n",
    "        cnn_diff_sum += cnn_o[i, j] - Y[i, j]\n",
    "        lstm_diff_sum += lstm_o[i, j] - Y[i, j]\n",
    "\n",
    "print(cnn_diff_sum / 600, \"...\", lstm_diff_sum / 600)"
   ]
  },
  {
   "cell_type": "code",
   "execution_count": 271,
   "metadata": {},
   "outputs": [],
   "source": [
    "recreation = np.zeros((frame_count))\n",
    "t = 0\n",
    "ratios = cnn_o[5]\n",
    "ratios[0] = 1\n",
    "amplitudes = np.repeat([1/num_tones], num_tones)\n",
    "rates = np.repeat([0.9999], num_tones)\n",
    "for i in range(0, frame_count):\n",
    "    for ot in range(0, num_tones):\n",
    "        recreation[i] += amplitudes[ot]*math.sin(math.pi * t * f * ratios[ot] / srate)\n",
    "    amplitudes = amplitudes * rates\n",
    "    t = t + 1\n",
    "    \n",
    "p = pyaudio.PyAudio()\n",
    "stream = p.open(format=pyaudio.paInt16,\n",
    "                channels=1,\n",
    "                rate=srate,\n",
    "                output=True)\n",
    "\n",
    "stream.write((recreation*1000).astype('int16'))\n",
    "stream.stop_stream()\n",
    "stream.close()\n",
    "p.terminate()"
   ]
  },
  {
   "cell_type": "code",
   "execution_count": null,
   "metadata": {},
   "outputs": [],
   "source": []
  }
 ],
 "metadata": {
  "kernelspec": {
   "display_name": "Python 3",
   "language": "python",
   "name": "python3"
  },
  "language_info": {
   "codemirror_mode": {
    "name": "ipython",
    "version": 3
   },
   "file_extension": ".py",
   "mimetype": "text/x-python",
   "name": "python",
   "nbconvert_exporter": "python",
   "pygments_lexer": "ipython3",
   "version": "3.7.2"
  }
 },
 "nbformat": 4,
 "nbformat_minor": 2
}
