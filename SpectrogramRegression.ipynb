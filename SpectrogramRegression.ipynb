{
 "cells": [
  {
   "cell_type": "code",
   "execution_count": 1,
   "metadata": {},
   "outputs": [
    {
     "name": "stderr",
     "output_type": "stream",
     "text": [
      "Using TensorFlow backend.\n"
     ]
    }
   ],
   "source": [
    "import numpy as np\n",
    "import wave\n",
    "from scipy.io import wavfile\n",
    "from scipy import signal\n",
    "from keras.utils.np_utils import to_categorical\n",
    "from tensorflow.keras.models import Model\n",
    "from tensorflow.keras.layers import Dense, Dropout, Activation, Flatten, Reshape, Input\n",
    "from tensorflow.keras.layers import Convolution2D, BatchNormalization\n",
    "from librosa.core import stft\n",
    "import matplotlib.pyplot as plot\n",
    "import matplotlib.cm as cm\n",
    "import tensorflow.keras.backend as K\n",
    "from tensorflow.keras import optimizers"
   ]
  },
  {
   "cell_type": "code",
   "execution_count": 2,
   "metadata": {},
   "outputs": [],
   "source": [
    "def _wav2array(nchannels, sampwidth, data):\n",
    "    \"\"\"data must be the string containing the bytes from the wav file.\"\"\"\n",
    "    num_samples, remainder = divmod(len(data), sampwidth * nchannels)\n",
    "    if remainder > 0:\n",
    "        raise ValueError('The length of data is not a multiple of '\n",
    "                         'sampwidth * num_channels.')\n",
    "    if sampwidth > 4:\n",
    "        raise ValueError(\"sampwidth must not be greater than 4.\")\n",
    "\n",
    "    if sampwidth == 3:\n",
    "        a = np.empty((num_samples, nchannels, 4), dtype=np.uint8)\n",
    "        raw_bytes = np.fromstring(data, dtype=np.uint8)\n",
    "        a[:, :, :sampwidth] = raw_bytes.reshape(-1, nchannels, sampwidth)\n",
    "        a[:, :, sampwidth:] = (a[:, :, sampwidth - 1:sampwidth] >> 7) * 255\n",
    "        result = a.view('<i4').reshape(a.shape[:-1])\n",
    "    else:\n",
    "        # 8 bit samples are stored as unsigned ints; others as signed ints.\n",
    "        dt_char = 'u' if sampwidth == 1 else 'i'\n",
    "        a = np.fromstring(data, dtype='<%s%d' % (dt_char, sampwidth))\n",
    "        result = a.reshape(-1, nchannels)\n",
    "    return result\n",
    "\n",
    "\n",
    "def readwav(file):\n",
    "    \"\"\"\n",
    "    Read a wav file.\n",
    "    Returns the frame rate, sample width (in bytes) and a numpy array\n",
    "    containing the data.\n",
    "    This function does not read compressed wav files.\n",
    "    \"\"\"\n",
    "    wav = wave.open(file)\n",
    "    rate = wav.getframerate()\n",
    "    nchannels = wav.getnchannels()\n",
    "    sampwidth = wav.getsampwidth()\n",
    "    nframes = wav.getnframes()\n",
    "    data = wav.readframes(nframes)\n",
    "    wav.close()\n",
    "    array = _wav2array(nchannels, sampwidth, data)\n",
    "    return rate, sampwidth, array"
   ]
  },
  {
   "cell_type": "code",
   "execution_count": null,
   "metadata": {},
   "outputs": [
    {
     "name": "stdout",
     "output_type": "stream",
     "text": [
      "(184214, 45056)\n"
     ]
    },
    {
     "name": "stderr",
     "output_type": "stream",
     "text": [
      "/Users/josephcleveland/Summer/venv/lib/python3.7/site-packages/ipykernel_launcher.py:19: DeprecationWarning: The binary mode of fromstring is deprecated, as it behaves surprisingly on unicode inputs. Use frombuffer instead\n"
     ]
    }
   ],
   "source": [
    "X_data = np.zeros(shape=(184214,45056))\n",
    "print(X_data.shape)\n",
    "\n",
    "for r in range(0, 184214):\n",
    "    audio = readwav('/Users/josephcleveland/LongerDataset/samp' + str(r) + '.wav')[2]\n",
    "    audio = audio.T[0]\n",
    "    if(audio.shape != 45056):\n",
    "        padded = np.zeros(shape=(45056))\n",
    "        padded[:np.shape(audio)[0]] = audio\n",
    "        audio = padded\n",
    "    X_data[r] = audio\n",
    "    \n"
   ]
  },
  {
   "cell_type": "code",
   "execution_count": null,
   "metadata": {
    "scrolled": true
   },
   "outputs": [],
   "source": [
    "spect = stft(X_data[15],n_fft=1408)\n",
    "print(spect.shape)\n",
    "plot.imshow(spect.real[0:64], aspect='auto', cmap=cm.gist_rainbow)\n",
    "plot.show()"
   ]
  },
  {
   "cell_type": "code",
   "execution_count": null,
   "metadata": {},
   "outputs": [],
   "source": [
    "Y_data = np.zeros(shape=(184214, 23))\n",
    "mat = np.genfromtxt('/Users/josephcleveland/FullData/mat.txt', delimiter=',')\n",
    "Y_data = mat[0:184214]\n",
    "Y_train = Y_data\n",
    "#for i in range(0, 10000):\n",
    "#    onehot = to_categorical(mat[i], 16)\n",
    "#    Y_data[i] = onehot.ravel()"
   ]
  },
  {
   "cell_type": "code",
   "execution_count": null,
   "metadata": {},
   "outputs": [],
   "source": [
    "#X_data = signal.resample(X_data, 16384)\n",
    "X_train = np.zeros((184214, 64, 64))\n",
    "for i in range(0, 184214):\n",
    "    X_train[i] = stft(X_data[i],n_fft=1408)[0:64, 0:64]\n",
    "Y_train = Y_data\n",
    "X_train = np.expand_dims(X_train, axis=3)\n",
    "\n",
    "print(X_train.shape)"
   ]
  },
  {
   "cell_type": "code",
   "execution_count": 458,
   "metadata": {},
   "outputs": [],
   "source": [
    "#model = Sequential()\n",
    "#model.add(BatchNormalization())\n",
    "#model.add(Convolution2D(96, kernel_size=(64, 1), strides=(4, 1), padding=\"valid\", activation='relu', data_format=\"channels_last\", input_shape=(16384, 1, 1)))\n",
    "#model.add(Convolution2D(96, kernel_size=(32, 1), strides=(4, 1), padding=\"valid\", activation='relu'))\n",
    "#model.add(Convolution2D(128, kernel_size=(16, 1), strides=(4, 1), padding=\"valid\", activation='relu'))\n",
    "#model.add(Convolution2D(257, kernel_size=(8, 1), strides=(4, 1), padding=\"valid\", activation='relu'))\n",
    "#model.add(Reshape((173, 257, 1)))\n",
    "#model.add(Reshape((61, 257, 1)))\n",
    "#model.add(Convolution2D(32, kernel_size=(3, 3), strides=(2, 2), padding=\"same\", activation='relu'))\n",
    "#model.add(Convolution2D(71, kernel_size=(3, 3), strides=(2, 2), padding=\"same\", activation='relu'))\n",
    "#model.add(Convolution2D(128, kernel_size=(4, 3), strides=(3, 2), padding=\"same\", activation='relu'))\n",
    "#model.add(Convolution2D(128, kernel_size=(3, 3), strides=(2, 2), padding=\"same\", activation='relu'))\n",
    "#model.add(Convolution2D(128, kernel_size=(3, 3), strides=(2, 2), padding=\"same\", activation='relu'))\n",
    "#model.add(Convolution2D(128, kernel_size=(3, 3), strides=(2, 1), padding=\"same\", activation='relu'))\n",
    "#model.add(Flatten())\n",
    "#model.add(Dense(512, activation='relu'))\n",
    "#model.add(Dense(368, activation='relu'))\n",
    "\n",
    "#model.compile(loss='categorical_crossentropy',\n",
    "#              optimizer='adam',\n",
    "#              metrics=['accuracy'])"
   ]
  },
  {
   "cell_type": "code",
   "execution_count": null,
   "metadata": {},
   "outputs": [],
   "source": [
    "inputs = Input(shape=(64,64,1))\n",
    "\n",
    "# a layer instance is callable on a tensor, and returns a tensor\n",
    "x = BatchNormalization()(inputs)\n",
    "x = Convolution2D(32, kernel_size=(4, 5), strides=(3, 4), padding=\"same\", activation='relu')(x)\n",
    "x = Convolution2D(98, kernel_size=(4, 6), strides=(3, 5), padding=\"same\", activation='relu')(x)\n",
    "x = Convolution2D(128, kernel_size=(4, 6), strides=(3, 5), padding=\"same\", activation='relu')(x)\n",
    "#x = Convolution2D(128, kernel_size=(3, 3), strides=(2, 2), padding=\"same\", activation='relu')(x)\n",
    "#x = Convolution2D(128, kernel_size=(3, 3), strides=(2, 2), padding=\"same\", activation='relu')(x)\n",
    "#x = Convolution2D(128, kernel_size=(3, 3), strides=(2, 1), padding=\"same\", activation='relu')(x)\n",
    "x = Flatten()(x)\n",
    "x = Dense(512, activation='relu')(x)\n",
    "x = Dense(23)(x)\n",
    "# This creates a model that includes\n",
    "# the Input layer and three Dense layers\n",
    "adam = optimizers.Adam(lr=0.0001)\n",
    "model = Model(inputs=inputs, outputs=x)\n",
    "model.compile(adam,\n",
    "              loss='mean_squared_error',\n",
    "              metrics=['accuracy'])"
   ]
  },
  {
   "cell_type": "code",
   "execution_count": null,
   "metadata": {
    "scrolled": true
   },
   "outputs": [],
   "source": [
    "\n",
    "model.fit(X_train, Y_train, \n",
    "          batch_size=16, epochs=100, verbose=1, validation_split=0.1)"
   ]
  },
  {
   "cell_type": "code",
   "execution_count": 17,
   "metadata": {
    "scrolled": true
   },
   "outputs": [
    {
     "name": "stdout",
     "output_type": "stream",
     "text": [
      "Model: \"model_1\"\n",
      "_________________________________________________________________\n",
      "Layer (type)                 Output Shape              Param #   \n",
      "=================================================================\n",
      "input_2 (InputLayer)         [(None, 64, 64, 1)]       0         \n",
      "_________________________________________________________________\n",
      "batch_normalization_v2_1 (Ba (None, 64, 64, 1)         4         \n",
      "_________________________________________________________________\n",
      "conv2d_3 (Conv2D)            (None, 22, 16, 32)        672       \n",
      "_________________________________________________________________\n",
      "conv2d_4 (Conv2D)            (None, 8, 4, 98)          75362     \n",
      "_________________________________________________________________\n",
      "conv2d_5 (Conv2D)            (None, 3, 1, 128)         301184    \n",
      "_________________________________________________________________\n",
      "conv2d_6 (Conv2D)            (None, 2, 1, 128)         147584    \n",
      "_________________________________________________________________\n",
      "flatten_1 (Flatten)          (None, 256)               0         \n",
      "_________________________________________________________________\n",
      "dense_2 (Dense)              (None, 512)               131584    \n",
      "_________________________________________________________________\n",
      "dense_3 (Dense)              (None, 23)                11799     \n",
      "=================================================================\n",
      "Total params: 668,189\n",
      "Trainable params: 668,187\n",
      "Non-trainable params: 2\n",
      "_________________________________________________________________\n",
      "None\n",
      "\n"
     ]
    }
   ],
   "source": [
    "model.build(input_shape=(45056, 1, 1))\n",
    "print(model.summary())\n",
    "print()"
   ]
  },
  {
   "cell_type": "code",
   "execution_count": 25,
   "metadata": {},
   "outputs": [],
   "source": [
    "o = model.predict(X_train)"
   ]
  },
  {
   "cell_type": "code",
   "execution_count": 10,
   "metadata": {
    "scrolled": true
   },
   "outputs": [
    {
     "name": "stdout",
     "output_type": "stream",
     "text": [
      "[ 4.077089   4.661457   7.319432   7.1032705 10.003686   4.011772\n",
      " 11.534853   7.038624  14.273697  12.439068  11.698097  13.491874\n",
      "  9.351921   2.8655946 11.80694    4.845967   9.220253   4.9304028\n",
      "  7.0712137  5.054822   2.8614168  2.1464577  2.2779913]\n",
      "[ 2.  9.  4. 12. 15.  4.  7.  3. 15. 12. 12. 14.  9.  0. 12.  8.  8.  5.\n",
      "  7.  8.  7.  1.  0.]\n",
      "(82280, 23)\n"
     ]
    }
   ],
   "source": [
    "print(o[1])\n",
    "print(mat[1])\n",
    "print(np.shape(o))"
   ]
  },
  {
   "cell_type": "code",
   "execution_count": 9,
   "metadata": {
    "scrolled": true
   },
   "outputs": [
    {
     "ename": "IndexError",
     "evalue": "index 23 is out of bounds for axis 1 with size 23",
     "output_type": "error",
     "traceback": [
      "\u001b[0;31m---------------------------------------------------------------------------\u001b[0m",
      "\u001b[0;31mIndexError\u001b[0m                                Traceback (most recent call last)",
      "\u001b[0;32m<ipython-input-9-a4c6137882da>\u001b[0m in \u001b[0;36m<module>\u001b[0;34m\u001b[0m\n\u001b[1;32m      7\u001b[0m         \u001b[0mmaxI\u001b[0m \u001b[0;34m=\u001b[0m \u001b[0;36m0\u001b[0m\u001b[0;34m\u001b[0m\u001b[0;34m\u001b[0m\u001b[0m\n\u001b[1;32m      8\u001b[0m         \u001b[0;32mfor\u001b[0m \u001b[0mj\u001b[0m \u001b[0;32min\u001b[0m \u001b[0mrange\u001b[0m\u001b[0;34m(\u001b[0m\u001b[0;36m0\u001b[0m\u001b[0;34m,\u001b[0m \u001b[0;36m16\u001b[0m\u001b[0;34m)\u001b[0m\u001b[0;34m:\u001b[0m\u001b[0;34m\u001b[0m\u001b[0;34m\u001b[0m\u001b[0m\n\u001b[0;32m----> 9\u001b[0;31m             \u001b[0mv\u001b[0m \u001b[0;34m=\u001b[0m \u001b[0mo\u001b[0m\u001b[0;34m[\u001b[0m\u001b[0ms\u001b[0m\u001b[0;34m,\u001b[0m \u001b[0;34m(\u001b[0m\u001b[0mi\u001b[0m\u001b[0;34m*\u001b[0m\u001b[0;36m16\u001b[0m\u001b[0;34m)\u001b[0m \u001b[0;34m+\u001b[0m \u001b[0mj\u001b[0m\u001b[0;34m]\u001b[0m\u001b[0;34m\u001b[0m\u001b[0;34m\u001b[0m\u001b[0m\n\u001b[0m\u001b[1;32m     10\u001b[0m             \u001b[0;32mif\u001b[0m \u001b[0mv\u001b[0m \u001b[0;34m>\u001b[0m \u001b[0mmaxVal\u001b[0m\u001b[0;34m:\u001b[0m\u001b[0;34m\u001b[0m\u001b[0;34m\u001b[0m\u001b[0m\n\u001b[1;32m     11\u001b[0m                 \u001b[0mmaxVal\u001b[0m \u001b[0;34m=\u001b[0m \u001b[0mo\u001b[0m\u001b[0;34m[\u001b[0m\u001b[0ms\u001b[0m\u001b[0;34m,\u001b[0m \u001b[0;34m(\u001b[0m\u001b[0mi\u001b[0m\u001b[0;34m*\u001b[0m\u001b[0;36m16\u001b[0m\u001b[0;34m)\u001b[0m \u001b[0;34m+\u001b[0m \u001b[0mj\u001b[0m\u001b[0;34m]\u001b[0m\u001b[0;34m\u001b[0m\u001b[0;34m\u001b[0m\u001b[0m\n",
      "\u001b[0;31mIndexError\u001b[0m: index 23 is out of bounds for axis 1 with size 23"
     ]
    }
   ],
   "source": [
    "group = 0\n",
    "classes = np.zeros((o.shape[0], 23))\n",
    "samp = 1\n",
    "for s in range(0, o.shape[0]):\n",
    "    for i in range(0, 23):\n",
    "        maxVal = o[s, i * 16]\n",
    "        maxI = 0\n",
    "        for j in range(0, 16):\n",
    "            v = o[s, (i*16) + j]\n",
    "            if v > maxVal:\n",
    "                maxVal = o[s, (i*16) + j]\n",
    "                maxI = j\n",
    "        classes[s, i] = maxI\n",
    "print(classes)"
   ]
  },
  {
   "cell_type": "code",
   "execution_count": 29,
   "metadata": {},
   "outputs": [
    {
     "name": "stdout",
     "output_type": "stream",
     "text": [
      "[11.702169   5.7339787  6.2017517  9.970756   9.639844   3.9807825\n",
      "  6.853554   5.038217  12.988592   9.821326  10.291265   5.4956775\n",
      " 12.666799   5.187009   3.8794165  8.454811   6.2328587 15.02384\n",
      "  8.572933   5.468956  12.684594   7.267308   7.9432487]\n",
      "[13.  8.  7. 11. 13.  4.  6.  6.  7. 10. 10.  8. 14.  1.  3.  4.  7. 15.\n",
      "  8.  7. 11.  9. 13.]\n"
     ]
    }
   ],
   "source": [
    "print(o[10])\n",
    "print(mat[10])"
   ]
  },
  {
   "cell_type": "code",
   "execution_count": 26,
   "metadata": {},
   "outputs": [
    {
     "name": "stdout",
     "output_type": "stream",
     "text": [
      "[2.78356618 2.81261644 2.69903284 2.71368652 2.5583678  2.59226454\n",
      " 2.31497561 2.48821694 2.33285342 2.48370028 2.11280012 2.1474281\n",
      " 2.49421588 2.58072394 2.15158778 2.38844072 0.79193505 1.05900752\n",
      " 2.9915637  2.96803418 1.70201075 1.40181092 2.97580169]\n"
     ]
    }
   ],
   "source": [
    "average_dist = np.zeros(23)\n",
    "\n",
    "for p in range(0, 23):\n",
    "    dist_total = 0\n",
    "    for i in range(0, 82280):\n",
    "        dist_total += np.absolute(o[i, p] - mat[i, p])\n",
    "    average_dist[p] = dist_total / 82280\n",
    "    \n",
    "print(average_dist)\n"
   ]
  },
  {
   "cell_type": "code",
   "execution_count": 279,
   "metadata": {},
   "outputs": [],
   "source": [
    "# Save the weights\n",
    "model.save_weights('Regression1_weights.h5')\n",
    "\n",
    "# Save the model architecture\n",
    "with open('Regression1_architecture.json', 'w') as f:\n",
    "    f.write(model.to_json())"
   ]
  },
  {
   "cell_type": "code",
   "execution_count": null,
   "metadata": {},
   "outputs": [],
   "source": []
  }
 ],
 "metadata": {
  "kernelspec": {
   "display_name": "Python 3",
   "language": "python",
   "name": "python3"
  },
  "language_info": {
   "codemirror_mode": {
    "name": "ipython",
    "version": 3
   },
   "file_extension": ".py",
   "mimetype": "text/x-python",
   "name": "python",
   "nbconvert_exporter": "python",
   "pygments_lexer": "ipython3",
   "version": "3.7.2"
  }
 },
 "nbformat": 4,
 "nbformat_minor": 2
}
