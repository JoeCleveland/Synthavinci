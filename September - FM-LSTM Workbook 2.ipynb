{
 "cells": [
  {
   "cell_type": "code",
   "execution_count": 9,
   "metadata": {},
   "outputs": [],
   "source": [
    "import numpy as np\n",
    "import wavload\n",
    "import librosa\n",
    "import math        \n",
    "import pyaudio  \n",
    "import random\n",
    "import scipy\n",
    "from scipy import signal\n",
    "import matplotlib.pyplot as plt\n",
    "from librosa.core import stft\n",
    "import librosa\n",
    "import librosa.display\n",
    "import matplotlib.pyplot as plt\n",
    "import matplotlib.cm as cm\n",
    "from random import randrange\n",
    "#import tensorflow as tf\n",
    "\n",
    "\n",
    "from tqdm import tqdm\n",
    "import numpy as np\n",
    "import matplotlib.pyplot as plt\n",
    "#import tflearn\n",
    "#import keras"
   ]
  },
  {
   "cell_type": "code",
   "execution_count": 4,
   "metadata": {},
   "outputs": [
    {
     "name": "stdout",
     "output_type": "stream",
     "text": [
      "5\n"
     ]
    }
   ],
   "source": [
    "\"\"\"variable freqs only - synth 1\"\"\"\n",
    "num_tones = 6\n",
    "\n",
    "f = 440\n",
    "srate = 11025\n",
    "frame_count = 44100\n",
    "clips = 5\n",
    "output = np.zeros((clips, frame_count),dtype=(np.float16))\n",
    "Y = np.zeros((clips, num_tones))\n",
    "\n",
    "#amplitudes = np.random.uniform(0, 1/num_tones, num_tones)\n",
    "amplitudes = 1/num_tones\n",
    "    \n",
    "ratios = np.random.uniform(1, randrange(2, 12), size = (clips,num_tones))\n",
    "ratios[:,0] = 1\n",
    "ratios = np.sort(ratios)\n",
    " \n",
    "#rates = np.random.uniform(0.9995, 0.99999, num_tones)\n",
    "#rates = -np.sort(-rates)\n",
    "#t = 0\n",
    "rates = 0.99999\n",
    "Y = ratios\n",
    "\n",
    "#for i in range(0, frame_count):\n",
    "for ot in range(0, num_tones):\n",
    "    overtone_data = (np.tile((amplitudes**(np.arange(frame_count)/10000*rates)),(clips,1)))*(np.sin(2*np.pi * ((np.tile((np.arange(frame_count)),(clips,1))) * (ratios[:,ot])[:,np.newaxis]) *f / srate)).astype(np.float16)\n",
    "    output = np.add(output,overtone_data)\n",
    "print(ot)\n",
    "\n",
    "    #amplitudes = amplitudes * rates\n",
    "    #t = t + 1\n",
    "#output = output * 1000\n",
    "#output = output.astype('int16')\n"
   ]
  },
  {
   "cell_type": "code",
   "execution_count": 10,
   "metadata": {},
   "outputs": [
    {
     "ename": "TypeError",
     "evalue": "'numpy.ndarray' object is not callable",
     "output_type": "error",
     "traceback": [
      "\u001b[1;31m---------------------------------------------------------------------------\u001b[0m",
      "\u001b[1;31mTypeError\u001b[0m                                 Traceback (most recent call last)",
      "\u001b[1;32m<ipython-input-10-7885571256d5>\u001b[0m in \u001b[0;36m<module>\u001b[1;34m\u001b[0m\n\u001b[0;32m     10\u001b[0m \u001b[0mY\u001b[0m \u001b[1;33m=\u001b[0m \u001b[0mnp\u001b[0m\u001b[1;33m.\u001b[0m\u001b[0mzeros\u001b[0m\u001b[1;33m(\u001b[0m\u001b[1;33m(\u001b[0m\u001b[0mclips\u001b[0m\u001b[1;33m,\u001b[0m \u001b[0mnum_tones\u001b[0m\u001b[1;33m*\u001b[0m\u001b[1;36m2\u001b[0m\u001b[1;33m)\u001b[0m\u001b[1;33m)\u001b[0m\u001b[1;33m\u001b[0m\u001b[1;33m\u001b[0m\u001b[0m\n\u001b[0;32m     11\u001b[0m \u001b[1;33m\u001b[0m\u001b[0m\n\u001b[1;32m---> 12\u001b[1;33m \u001b[1;32mfor\u001b[0m \u001b[0mc\u001b[0m \u001b[1;32min\u001b[0m \u001b[0mrange\u001b[0m\u001b[1;33m(\u001b[0m\u001b[1;36m0\u001b[0m\u001b[1;33m,\u001b[0m \u001b[0mclips\u001b[0m\u001b[1;33m)\u001b[0m\u001b[1;33m:\u001b[0m\u001b[1;33m\u001b[0m\u001b[1;33m\u001b[0m\u001b[0m\n\u001b[0m\u001b[0;32m     13\u001b[0m     \u001b[1;31m#amplitudes = np.random.uniform(0, 1/num_tones, num_tones)\u001b[0m\u001b[1;33m\u001b[0m\u001b[1;33m\u001b[0m\u001b[1;33m\u001b[0m\u001b[0m\n\u001b[0;32m     14\u001b[0m     \u001b[0mamplitudes\u001b[0m \u001b[1;33m=\u001b[0m \u001b[0mnp\u001b[0m\u001b[1;33m.\u001b[0m\u001b[0mrepeat\u001b[0m\u001b[1;33m(\u001b[0m\u001b[1;33m[\u001b[0m\u001b[1;36m1\u001b[0m\u001b[1;33m/\u001b[0m\u001b[0mnum_tones\u001b[0m\u001b[1;33m]\u001b[0m\u001b[1;33m,\u001b[0m \u001b[0mnum_tones\u001b[0m\u001b[1;33m)\u001b[0m\u001b[1;33m\u001b[0m\u001b[1;33m\u001b[0m\u001b[0m\n",
      "\u001b[1;31mTypeError\u001b[0m: 'numpy.ndarray' object is not callable"
     ]
    }
   ],
   "source": [
    "\"\"\"variable decay rates only\"\"\"\n",
    "\n",
    "num_tones = 6\n",
    "\n",
    "f = 440\n",
    "srate = 11025\n",
    "frame_count = 44100\n",
    "clips = 5\n",
    "output = np.zeros((clips, frame_count),dtype=(np.float16))\n",
    "Y = np.zeros((clips, num_tones*2))\n",
    "\n",
    "for c in range(0, clips):\n",
    "    #amplitudes = np.random.uniform(0, 1/num_tones, num_tones)\n",
    "    amplitudes = np.repeat([1/num_tones], num_tones)\n",
    "    \n",
    "    ratios = np.arange(1, num_tones +1)\n",
    "    #ratios[0] = 1\n",
    "    #ratios = np.sort(ratios)\n",
    "    \n",
    "    rates = np.random.uniform(0.9995, 0.99999, num_tones)\n",
    "    rates = -np.sort(-rates)\n",
    "    #t = 0\n",
    "    Y[c] = np.concatenate((ratios, rates))\n",
    "\n",
    "    #for i in range(0, frame_count):\n",
    "    for ot in range(0, num_tones):\n",
    "        output[c] += (amplitudes[ot]**(np.arange(frame_count)/10000*rates[ot]))*(np.sin(2*np.pi * np.arange(frame_count)* f * ratios[ot] / srate)).astype(np.float32)\n",
    "    print(c)\n",
    "\n",
    "    #amplitudes = amplitudes * rates\n",
    "    #t = t + 1\n",
    "#output = output * 1000\n",
    "#output = output.astype('int16')\n"
   ]
  },
  {
   "cell_type": "code",
   "execution_count": 11,
   "metadata": {},
   "outputs": [
    {
     "ename": "TypeError",
     "evalue": "'numpy.ndarray' object is not callable",
     "output_type": "error",
     "traceback": [
      "\u001b[1;31m---------------------------------------------------------------------------\u001b[0m",
      "\u001b[1;31mTypeError\u001b[0m                                 Traceback (most recent call last)",
      "\u001b[1;32m<ipython-input-11-dd0f218ca260>\u001b[0m in \u001b[0;36m<module>\u001b[1;34m\u001b[0m\n\u001b[0;32m      9\u001b[0m \u001b[0mY\u001b[0m \u001b[1;33m=\u001b[0m \u001b[0mnp\u001b[0m\u001b[1;33m.\u001b[0m\u001b[0mzeros\u001b[0m\u001b[1;33m(\u001b[0m\u001b[1;33m(\u001b[0m\u001b[0mclips\u001b[0m\u001b[1;33m,\u001b[0m \u001b[0mnum_tones\u001b[0m\u001b[1;33m*\u001b[0m\u001b[1;36m2\u001b[0m\u001b[1;33m)\u001b[0m\u001b[1;33m)\u001b[0m\u001b[1;33m\u001b[0m\u001b[1;33m\u001b[0m\u001b[0m\n\u001b[0;32m     10\u001b[0m \u001b[1;33m\u001b[0m\u001b[0m\n\u001b[1;32m---> 11\u001b[1;33m \u001b[1;32mfor\u001b[0m \u001b[0mc\u001b[0m \u001b[1;32min\u001b[0m \u001b[0mrange\u001b[0m\u001b[1;33m(\u001b[0m\u001b[1;36m0\u001b[0m\u001b[1;33m,\u001b[0m \u001b[0mclips\u001b[0m\u001b[1;33m)\u001b[0m\u001b[1;33m:\u001b[0m\u001b[1;33m\u001b[0m\u001b[1;33m\u001b[0m\u001b[0m\n\u001b[0m\u001b[0;32m     12\u001b[0m     \u001b[1;31m#amplitudes = np.random.uniform(0, 1/num_tones, num_tones)\u001b[0m\u001b[1;33m\u001b[0m\u001b[1;33m\u001b[0m\u001b[1;33m\u001b[0m\u001b[0m\n\u001b[0;32m     13\u001b[0m     \u001b[0mamplitudes\u001b[0m \u001b[1;33m=\u001b[0m \u001b[0mnp\u001b[0m\u001b[1;33m.\u001b[0m\u001b[0mrepeat\u001b[0m\u001b[1;33m(\u001b[0m\u001b[1;33m[\u001b[0m\u001b[1;36m1\u001b[0m\u001b[1;33m/\u001b[0m\u001b[0mnum_tones\u001b[0m\u001b[1;33m]\u001b[0m\u001b[1;33m,\u001b[0m \u001b[0mnum_tones\u001b[0m\u001b[1;33m)\u001b[0m\u001b[1;33m\u001b[0m\u001b[1;33m\u001b[0m\u001b[0m\n",
      "\u001b[1;31mTypeError\u001b[0m: 'numpy.ndarray' object is not callable"
     ]
    }
   ],
   "source": [
    "\"\"\"freqs + decay rates\"\"\"\n",
    "num_tones = 6\n",
    "\n",
    "f = 440\n",
    "srate = 11025\n",
    "frame_count = 44100\n",
    "clips = 5\n",
    "output = np.zeros((clips, frame_count),dtype=(np.float16))\n",
    "Y = np.zeros((clips, num_tones*2))\n",
    "\n",
    "for c in range(0, clips):\n",
    "    #amplitudes = np.random.uniform(0, 1/num_tones, num_tones)\n",
    "    amplitudes = np.repeat([1/num_tones], num_tones)\n",
    "    \n",
    "    ratios = np.random.uniform(1, randrange(2, 12), num_tones)\n",
    "    ratios[0] = 1\n",
    "    ratios = np.sort(ratios)\n",
    "    \n",
    "    rates = np.random.uniform(0.9995, 0.99999, num_tones)\n",
    "    rates = -np.sort(-rates)\n",
    "    #t = 0\n",
    "    Y[c] = np.concatenate((ratios, rates))\n",
    "\n",
    "    #for i in range(0, frame_count):\n",
    "    for ot in range(0, num_tones):\n",
    "        output[c] += (amplitudes[ot]**(np.arange(frame_count)/10000*rates[ot]))*(np.sin(2*np.pi * np.arange(frame_count)* f * ratios[ot] / srate)).astype(np.float32)\n",
    "    print(c)\n",
    "\n",
    "    #amplitudes = amplitudes * rates\n",
    "    #t = t + 1\n",
    "#output = output * 1000\n",
    "#output = output.astype('int16')\n"
   ]
  },
  {
   "cell_type": "code",
   "execution_count": 4,
   "metadata": {},
   "outputs": [],
   "source": [
    "\"\"\"Transformer Model Mark 1 from Additive Synth Mark 2\"\"\"\n",
    "\n",
    "class PositionalEncoding(object):\n",
    "    def __init__(self, position, d):\n",
    "        angle_rads = self._get_angles(np.arange(position)[:, np.newaxis], np.arange(d)[np.newaxis, :], d)\n",
    "\n",
    "        sines = np.sin(angle_rads[:, 0::2])\n",
    "        cosines = np.cos(angle_rads[:, 1::2])\n",
    "        self._encoding = np.concatenate([sines, cosines], axis=-1)\n",
    "        self._encoding = self._encoding[np.newaxis, ...]\n",
    "    \n",
    "    def _get_angles(self, position, i, d):\n",
    "        angle_rates = 1 / np.power(10000, (2 * (i//2)) / np.float32(d))\n",
    "        return position * angle_rates\n",
    "    \n",
    "    def get_positional_encoding(self):\n",
    "        return tf.cast(self._encoding, dtype=tf.float32)\n"
   ]
  },
  {
   "cell_type": "code",
   "execution_count": 5,
   "metadata": {},
   "outputs": [
    {
     "name": "stdout",
     "output_type": "stream",
     "text": [
      "Positional Encoding Example:\n",
      "-----------\n",
      "Tensor(\"Cast:0\", shape=(1, 50, 512), dtype=float32)\n",
      "-----------\n"
     ]
    }
   ],
   "source": [
    "positional_encoding = PositionalEncoding(50, 512)\n",
    "positional_encoding_values = positional_encoding.get_positional_encoding()\n",
    "\n",
    "print(\"Positional Encoding Example:\")\n",
    "print(\"-----------\")\n",
    "print(positional_encoding_values)\n",
    "print(\"-----------\")"
   ]
  },
  {
   "cell_type": "code",
   "execution_count": 285,
   "metadata": {},
   "outputs": [
    {
     "name": "stdout",
     "output_type": "stream",
     "text": [
      "(10, 220500)\n"
     ]
    }
   ],
   "source": [
    "\"\"\"Modal synth Mark 1\"\"\"\n",
    "\n",
    "fs = 44100       # sampling rate, Hz, must be integer\n",
    "duration = 5     # in seconds, may be float\n",
    "\n",
    "num_samples = 10\n",
    "num_overtones = 2\n",
    "\n",
    "overtones = np.random.uniform (20 , 20000 , size = (num_samples,num_overtones))\n",
    "overtones = np.sort(overtones,axis=1)\n",
    "amp  = np.random.uniform (1,10   , size = (num_samples,num_overtones))\n",
    "#amp = np.sort(amp, axis = 1)\n",
    "#amp = np.flip(amp,axis=1)\n",
    "audio = np.zeros((num_samples,(fs*duration)))\n",
    "d = np.linspace(0.001,0.01, num = num_overtones)\n",
    "\n",
    "\n",
    "for i in range (0,num_samples):\n",
    "    combined_sine = np.zeros((1,(fs*duration)))\n",
    "    for j in range (0,num_overtones):\n",
    "        sine = ((amp[i][j]**(-d[j]*np.arange(fs*duration))/fs)*(np.sin(2*np.pi*np.arange(fs*duration)*overtones[i][j]/fs))).astype(np.float32)\n",
    "        combined_sine = combined_sine + sine\n",
    "    audio[i] = combined_sine\n",
    "audio = audio/num_overtones\n",
    "print(audio.shape)"
   ]
  },
  {
   "cell_type": "code",
   "execution_count": 282,
   "metadata": {},
   "outputs": [
    {
     "name": "stdout",
     "output_type": "stream",
     "text": [
      "(10, 220500)\n",
      "(10, 220500)\n"
     ]
    }
   ],
   "source": [
    "\"\"\"Additive synth Mark 3\"\"\"\n",
    "\n",
    "fs = 44100       # sampling rate, Hz, must be integer\n",
    "duration = 5   # in seconds, may be float\n",
    "\n",
    "num_samples = 10\n",
    "num_overtones = 1\n",
    "\n",
    "overtones = np.random.uniform (20 , 20000 , size = (num_samples,num_overtones))\n",
    "amp  = np.random.uniform (0  , 1    , size = (num_samples,num_overtones))\n",
    "audio = np.zeros((num_samples,(fs*duration)))\n",
    "print(audio.shape)\n",
    "\n",
    "for i in range (0,num_samples):\n",
    "    combined_sine = np.zeros((1,(fs*duration)))\n",
    "    for j in range (0,num_overtones):\n",
    "        sine = (amp[i][j]*(np.sin(2*np.pi*np.arange(fs*duration)*overtones[i][j]/fs))).astype(np.float32)\n",
    "        combined_sine = combined_sine + sine\n",
    "    audio[i] = combined_sine\n",
    "audio = audio/num_overtones\n",
    "print(audio.shape)\n",
    "    \n",
    "\n",
    "   "
   ]
  },
  {
   "cell_type": "code",
   "execution_count": 8,
   "metadata": {},
   "outputs": [],
   "source": [
    "# for paFloat32 sample values must be in range [-1.0, 1.0]\n",
    "p = pyaudio.PyAudio()\n",
    "fs=srate\n",
    "\n",
    "stream = p.open(format=pyaudio.paFloat32,\n",
    "                    channels=1,\n",
    "                    rate=fs,\n",
    "                    output=True)\n",
    "\n",
    "# play. May repeat with different volume values (if done interactively) \n",
    "stream.write(output[3])\n",
    "\n",
    "stream.stop_stream()\n",
    "stream.close()\n",
    "\n",
    "p.terminate()\n",
    "\n"
   ]
  },
  {
   "cell_type": "code",
   "execution_count": 16,
   "metadata": {},
   "outputs": [
    {
     "data": {
      "image/png": "[encoded data removed]",
      "text/plain": [
       "<Figure size 432x288 with 2 Axes>"
      ]
     },
     "metadata": {
      "needs_background": "light"
     },
     "output_type": "display_data"
    }
   ],
   "source": [
    "Spectogram = np.abs(librosa.feature.melspectrogram(output[0], sr=fs, n_mels=128))\n",
    "librosa.display.specshow(librosa.amplitude_to_db(Spectogram,\n",
    "                        ref=np.max),\n",
    "                          y_axis='mel', x_axis='time')\n",
    "plt.title('Power spectrogram')\n",
    "plt.colorbar(format='%+2.0f dB')\n",
    "plt.tight_layout()"
   ]
  },
  {
   "cell_type": "code",
   "execution_count": 12,
   "metadata": {},
   "outputs": [
    {
     "data": {
      "image/png": "[encoded data removed]",
      "text/plain": [
       "<Figure size 432x288 with 1 Axes>"
      ]
     },
     "metadata": {
      "needs_background": "light"
     },
     "output_type": "display_data"
    }
   ],
   "source": [
    "\n",
    "f, t, Sxx = signal.spectrogram(output[1], fs)\n",
    "plt.pcolormesh(t, f, Sxx)\n",
    "plt.ylabel('Frequency [Hz]')\n",
    "plt.xlabel('Time [sec]')\n",
    "plt.show()"
   ]
  },
  {
   "cell_type": "code",
   "execution_count": 3,
   "metadata": {},
   "outputs": [
    {
     "name": "stdout",
     "output_type": "stream",
     "text": [
      "(10, 10)\n",
      "(10, 10)\n",
      "(10, 10)\n",
      "(10, 10)\n",
      "(10, 10)\n",
      "(10, 10)\n",
      "(10, 10)\n",
      "(10, 10)\n",
      "(10, 10)\n",
      "(10, 10)\n"
     ]
    }
   ],
   "source": [
    "\"\"\"Additive synth - Mark 2 \"\"\"\n",
    "\n",
    "fs = 22050      # sampling rate, Hz, must be integer\n",
    "duration = 5   # in seconds, may be float\n",
    "\n",
    "num_samples = 10\n",
    "freq = np.zeros((num_samples,10))\n",
    "amp = np.zeros((num_samples,10))\n",
    "X_data = np.zeros((num_samples,fs*duration))\n",
    "\n",
    "\n",
    "for i in range (0,num_samples):\n",
    "    freq1 = random.uniform(16,2000)        # sine frequency, Hz, may be float\n",
    "    freq2 = 2*freq1\n",
    "    freq3 = 3*freq1\n",
    "    freq4 = 4*freq1\n",
    "    freq5 = 5*freq1\n",
    "    freq6 = 6*freq1\n",
    "    freq7 = 7*freq1\n",
    "    freq8 = 8*freq1\n",
    "    freq9 = 9*freq1\n",
    "    freq10 = 10*freq1\n",
    "\n",
    "    amp1 = random.uniform(0,1)     # range [0.0, 1.0]\n",
    "    amp2 = random.uniform(0,amp1)\n",
    "    amp3 = random.uniform(0,amp2)\n",
    "    amp4 = random.uniform(0,amp3)\n",
    "    amp5 = random.uniform(0,amp4)\n",
    "    amp6 = random.uniform(0,amp5)\n",
    "    amp7 = random.uniform(0,amp6)\n",
    "    amp8 = random.uniform(0,amp7)\n",
    "    amp9 = random.uniform(0,amp8)\n",
    "    amp10 = random.uniform(0,amp9)\n",
    "\n",
    "\n",
    "    # generate samples, note conversion to float32 array\n",
    "    sample1 = (amp1*(np.sin(2*np.pi*np.arange(fs*duration)*freq1/fs))).astype(np.float32)\n",
    "    sample2 = (amp2*(np.sin(2*np.pi*np.arange(fs*duration)*freq2/fs))).astype(np.float32)\n",
    "    sample3 = (amp3*(np.sin(2*np.pi*np.arange(fs*duration)*freq3/fs))).astype(np.float32)\n",
    "    sample4 = (amp4*(np.sin(2*np.pi*np.arange(fs*duration)*freq4/fs))).astype(np.float32)\n",
    "    sample5 = (amp5*(np.sin(2*np.pi*np.arange(fs*duration)*freq5/fs))).astype(np.float32)\n",
    "    sample6 = (amp6*(np.sin(2*np.pi*np.arange(fs*duration)*freq6/fs))).astype(np.float32)\n",
    "    sample7 = (amp7*(np.sin(2*np.pi*np.arange(fs*duration)*freq7/fs))).astype(np.float32)\n",
    "    sample8 = (amp8*(np.sin(2*np.pi*np.arange(fs*duration)*freq8/fs))).astype(np.float32)\n",
    "    sample9 = (amp9*(np.sin(2*np.pi*np.arange(fs*duration)*freq9/fs))).astype(np.float32)\n",
    "    sample10 = (amp10*(np.sin(2*np.pi*np.arange(fs*duration)*freq10/fs))).astype(np.float32)\n",
    "\n",
    "    audio = ((sample1\n",
    "                 +sample2\n",
    "                 +sample3\n",
    "                 +sample4\n",
    "                 +sample5\n",
    "                 +sample6\n",
    "                 +sample7\n",
    "                 +sample8\n",
    "                 +sample9\n",
    "                 +sample10)/10)\n",
    "\n",
    "    freq[i] = (freq1,freq2,freq3,freq4,freq5,freq6,freq7,freq8,freq9,freq10)    \n",
    "    amp[i] = (amp1,amp2,amp3,amp4,amp5,amp6,amp7,amp8,amp9,amp10)\n",
    "    X_data[i] = audio\n",
    "    print(freq.shape)\n",
    "    \n"
   ]
  },
  {
   "cell_type": "code",
   "execution_count": null,
   "metadata": {},
   "outputs": [],
   "source": [
    "# for paFloat32 sample values must be in range [-1.0, 1.0]\n",
    "\n",
    "p = pyaudio.PyAudio()\n",
    "\n",
    "stream = p.open(format=pyaudio.paFloat32,\n",
    "                    channels=1,\n",
    "                    rate=fs,\n",
    "                    output=True)\n",
    "\n",
    "# play. May repeat with different volume values (if done interactively) \n",
    "stream.write(audio)\n",
    "\n",
    "stream.stop_stream()\n",
    "stream.close()\n",
    "\n",
    "p.terminate()\n"
   ]
  },
  {
   "cell_type": "code",
   "execution_count": 90,
   "metadata": {},
   "outputs": [],
   "source": [
    "\"\"\"Additive synth Mark 1 \"\"\"\n",
    "\n",
    "PyAudio = pyaudio.PyAudio     \n",
    "\n",
    "BITRATE = 44100     #number of frames per second/frameset.      \n",
    "\n",
    "FREQUENCY1 = 200     #Hz, waves per second, 261.63=C4-note.\n",
    "FREQUENCY2 = 400\n",
    "FREQUENCY3 = 600\n",
    "FREQUENCY4 = 100\n",
    "LENGTH = 1     #seconds to play sound\n",
    "\n",
    "\n",
    "\n",
    "NUMBEROFFRAMES = int(BITRATE * LENGTH)\n",
    "RESTFRAMES = NUMBEROFFRAMES % BITRATE\n",
    "WAVEDATA = ''    \n",
    "\n",
    "#generating wawes\n",
    "for x in range(NUMBEROFFRAMES):\n",
    "    WAVEDATA = WAVEDATA+chr(int(math.sin(x/((BITRATE/FREQUENCY1)/math.pi))*127+128)\n",
    "                            +int(math.sin(x/((BITRATE/FREQUENCY2)/math.pi))*127+128)\n",
    "                            +int(math.sin(x/((BITRATE/FREQUENCY3)/math.pi))*127+128)\n",
    "                           +int(math.sin(x/((BITRATE/FREQUENCY4)/math.pi))*127+128))   \n",
    "\n",
    "for x in range(RESTFRAMES): \n",
    "    WAVEDATA = WAVEDATA+chr(128)\n",
    "\n",
    "p = PyAudio()\n",
    "stream = p.open(format = p.get_format_from_width(1), \n",
    "                channels = 1, \n",
    "                rate = BITRATE, \n",
    "                output = True)\n",
    "\n",
    "stream.write(WAVEDATA)\n",
    "stream.stop_stream()\n",
    "stream.close()\n",
    "p.terminate()"
   ]
  },
  {
   "cell_type": "code",
   "execution_count": null,
   "metadata": {},
   "outputs": [],
   "source": [
    "\"\"\"Writing wav file\"\"\"\n",
    "\n",
    "w = wave.open(filename, 'w')\n"
   ]
  },
  {
   "cell_type": "code",
   "execution_count": 45,
   "metadata": {},
   "outputs": [
    {
     "name": "stdout",
     "output_type": "stream",
     "text": [
      "(1, 229411)\n",
      "[[0]\n",
      " [0]\n",
      " [0]\n",
      " ...\n",
      " [0]\n",
      " [0]\n",
      " [0]]\n",
      "(229411,)\n"
     ]
    }
   ],
   "source": [
    "\"\"\"Loading audio data\"\"\"\n",
    "\n",
    "num_data = 1\n",
    "num_params = 16\n",
    "samp_length = 229411\n",
    "sr = 44100\n",
    "\n",
    "X_data = np.zeros(shape=(num_data,samp_length))\n",
    "print(X_data.shape)\n",
    "\n",
    "for r in range(0, num_data):\n",
    "    audio = wavload.readwav('C:/Users/arshi/Desktop/FM Synth Data/BeepBoop.wav')[2]\n",
    "    print(audio)\n",
    "    audio = audio.T[0]\n",
    "    if(audio.shape != samp_length):\n",
    "        padded = np.zeros(shape=(samp_length))\n",
    "        padded[:np.shape(audio)[0]] = audio\n",
    "        audio = padded\n",
    "    X_data[r] = audio\n",
    "    print(X_data[0].shape)\n",
    "    "
   ]
  },
  {
   "cell_type": "code",
   "execution_count": null,
   "metadata": {},
   "outputs": [],
   "source": [
    "\"\"\"LSTM network\"\"\"\n",
    "\n",
    "model = Sequential()\n",
    "model.add(LSTM(128))\n",
    "model.add(Dense(units=20, activation='relu'))\n",
    "model.compile(loss='mean_squared_error',\n",
    "              optimizer='sgd',\n",
    "              metrics=['accuracy'])\n",
    "model.fit(MFCC, Y_data)"
   ]
  },
  {
   "cell_type": "code",
   "execution_count": null,
   "metadata": {},
   "outputs": [],
   "source": [
    "outs = model.predict(MFCC)"
   ]
  }
 ],
 "metadata": {
  "kernelspec": {
   "display_name": "Python 3",
   "language": "python",
   "name": "python3"
  },
  "language_info": {
   "codemirror_mode": {
    "name": "ipython",
    "version": 3
   },
   "file_extension": ".py",
   "mimetype": "text/x-python",
   "name": "python",
   "nbconvert_exporter": "python",
   "pygments_lexer": "ipython3",
   "version": "3.7.3"
  }
 },
 "nbformat": 4,
 "nbformat_minor": 2
}
