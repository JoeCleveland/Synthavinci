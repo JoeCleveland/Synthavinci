{
 "cells": [
  {
   "cell_type": "code",
   "execution_count": 31,
   "metadata": {},
   "outputs": [],
   "source": [
    "import numpy as np\n",
    "import wavload\n",
    "import librosa as rosa\n",
    "import math        \n",
    "import pyaudio\n",
    "p = pyaudio.PyAudio()\n",
    "from random import randrange\n",
    "import librosa.display as rsdsp\n",
    "import matplotlib.pyplot as plt\n",
    "import pyaudio     \n",
    "import random\n",
    "import tensorflow as tf\n",
    "from tensorflow.keras.models import Sequential\n",
    "from tensorflow.keras.layers import Dense, LSTM, Convolution2D, Flatten, TimeDistributed, MaxPooling2D, BatchNormalization"
   ]
  },
  {
   "cell_type": "code",
   "execution_count": 4,
   "metadata": {},
   "outputs": [
    {
     "name": "stdout",
     "output_type": "stream",
     "text": [
      "5\n"
     ]
    }
   ],
   "source": [
    "\"\"\"variable freqs only - synth 1\"\"\"\n",
    "num_tones = 6\n",
    "\n",
    "f = 440\n",
    "srate = 11025\n",
    "frame_count = 44100\n",
    "clips = 5\n",
    "output = np.zeros((clips, frame_count),dtype=(np.float16))\n",
    "Y = np.zeros((clips, num_tones))\n",
    "\n",
    "#amplitudes = np.random.uniform(0, 1/num_tones, num_tones)\n",
    "amplitudes = 1/num_tones\n",
    "    \n",
    "ratios = np.random.uniform(1, randrange(2, 12), size = (clips,num_tones))\n",
    "ratios[:,0] = 1\n",
    "ratios = np.sort(ratios)\n",
    " \n",
    "#rates = np.random.uniform(0.9995, 0.99999, num_tones)\n",
    "#rates = -np.sort(-rates)\n",
    "#t = 0\n",
    "rates = 0.99999\n",
    "Y = ratios\n",
    "\n",
    "#for i in range(0, frame_count):\n",
    "for ot in range(0, num_tones):\n",
    "    overtone_data = (np.tile((amplitudes**(np.arange(frame_count)/10000*rates)),(clips,1)))*(np.sin(2*np.pi * ((np.tile((np.arange(frame_count)),(clips,1))) * (ratios[:,ot])[:,np.newaxis]) *f / srate)).astype(np.float16)\n",
    "    output = np.add(output,overtone_data)\n",
    "print(ot)\n",
    "\n",
    "    #amplitudes = amplitudes * rates\n",
    "    #t = t + 1\n",
    "#output = output * 1000\n",
    "#output = output.astype('int16')\n"
   ]
  },
  {
   "cell_type": "code",
   "execution_count": 5,
   "metadata": {},
   "outputs": [
    {
     "name": "stdout",
     "output_type": "stream",
     "text": [
      "0\n",
      "1\n",
      "2\n",
      "3\n",
      "4\n"
     ]
    }
   ],
   "source": [
    "\"\"\"variable amps only\"\"\"\n",
    "num_tones = 6\n",
    "\n",
    "f = 440\n",
    "srate = 11025\n",
    "frame_count = 44100\n",
    "clips = 5\n",
    "output = np.zeros((clips, frame_count),dtype=(np.float16))\n",
    "Y = np.zeros((clips, num_tones))\n",
    "\n",
    "for c in range(0, clips):\n",
    "    amplitudes = np.random.uniform(0, 1/num_tones, num_tones)\n",
    "    #amplitudes = np.repeat([1/num_tones], num_tones)\n",
    "    \n",
    "    ratios = np.arange(1, num_tones +1)\n",
    "    #ratios[0] = 1\n",
    "    #ratios = np.sort(ratios)\n",
    "    \n",
    "    #rates = np.random.uniform(0.9995, 0.99999, num_tones)\n",
    "    #rates = -np.sort(-rates)\n",
    "    #t = 0\n",
    "    rates = 0.99999\n",
    "    Y[c] = amplitudes\n",
    "\n",
    "    #for i in range(0, frame_count):\n",
    "    for ot in range(0, num_tones):\n",
    "        output[c] += (amplitudes[ot]**(np.arange(frame_count)/10000*rates))*(np.sin(2*np.pi * np.arange(frame_count)* f * ratios[ot] / srate)).astype(np.float32)\n",
    "    print(c)\n",
    "\n",
    "    #amplitudes = amplitudes * rates\n",
    "    #t = t + 1\n",
    "#output = output * 1000\n",
    "#output = output.astype('int16')\n"
   ]
  },
  {
   "cell_type": "code",
   "execution_count": 6,
   "metadata": {},
   "outputs": [
    {
     "name": "stdout",
     "output_type": "stream",
     "text": [
      "0\n",
      "1\n",
      "2\n",
      "3\n",
      "4\n"
     ]
    }
   ],
   "source": [
    "\"\"\"variable decay rates only\"\"\"\n",
    "\n",
    "num_tones = 6\n",
    "\n",
    "f = 440\n",
    "srate = 11025\n",
    "frame_count = 44100\n",
    "clips = 5\n",
    "output = np.zeros((clips, frame_count),dtype=(np.float16))\n",
    "Y = np.zeros((clips, num_tones))\n",
    "\n",
    "for c in range(0, clips):\n",
    "    #amplitudes = np.random.uniform(0, 1/num_tones, num_tones)\n",
    "    amplitudes = np.repeat([1/num_tones], num_tones)\n",
    "    \n",
    "    ratios = np.arange(1, num_tones +1)\n",
    "    #ratios[0] = 1\n",
    "    #ratios = np.sort(ratios)\n",
    "    \n",
    "    rates = np.random.uniform(0.9995, 0.99999, num_tones)\n",
    "    rates = -np.sort(-rates)\n",
    "    #t = 0\n",
    "    Y[c] = rates\n",
    "\n",
    "    #for i in range(0, frame_count):\n",
    "    for ot in range(0, num_tones):\n",
    "        output[c] += (amplitudes[ot]**(np.arange(frame_count)/10000*rates[ot]))*(np.sin(2*np.pi * np.arange(frame_count)* f * ratios[ot] / srate)).astype(np.float32)\n",
    "    print(c)\n",
    "\n",
    "    #amplitudes = amplitudes * rates\n",
    "    #t = t + 1\n",
    "#output = output * 1000\n",
    "#output = output.astype('int16')\n"
   ]
  },
  {
   "cell_type": "code",
   "execution_count": 7,
   "metadata": {},
   "outputs": [
    {
     "name": "stdout",
     "output_type": "stream",
     "text": [
      "0\n",
      "1\n",
      "2\n",
      "3\n",
      "4\n"
     ]
    }
   ],
   "source": [
    "\"\"\"freqs + amp\"\"\"\n",
    "num_tones = 6\n",
    "\n",
    "f = 440\n",
    "srate = 11025\n",
    "frame_count = 44100\n",
    "clips = 5\n",
    "output = np.zeros((clips, frame_count),dtype=(np.float16))\n",
    "Y = np.zeros((clips, num_tones*2))\n",
    "\n",
    "for c in range(0, clips):\n",
    "    amplitudes = np.random.uniform(0, 1/num_tones, num_tones)\n",
    "    #amplitudes = np.repeat([1/num_tones], num_tones)\n",
    "    \n",
    "    ratios = np.random.uniform(1, randrange(2, 12), num_tones)\n",
    "    ratios[0] = 1\n",
    "    ratios = np.sort(ratios)\n",
    "    \n",
    "    #rates = np.random.uniform(0.9995, 0.99999, num_tones)\n",
    "    #rates = -np.sort(-rates)\n",
    "    #t = 0\n",
    "    rates = 0.99999\n",
    "    Y[c] = np.concatenate((ratios, amplitudes))\n",
    "\n",
    "    #for i in range(0, frame_count):\n",
    "    for ot in range(0, num_tones):\n",
    "        output[c] += (amplitudes[ot]**(np.arange(frame_count)/10000*rates))*(np.sin(2*np.pi * np.arange(frame_count)* f * ratios[ot] / srate)).astype(np.float32)\n",
    "    print(c)\n",
    "\n",
    "    #amplitudes = amplitudes * rates\n",
    "    #t = t + 1\n",
    "#output = output * 1000\n",
    "#output = output.astype('int16')\n"
   ]
  },
  {
   "cell_type": "code",
   "execution_count": 8,
   "metadata": {},
   "outputs": [
    {
     "name": "stdout",
     "output_type": "stream",
     "text": [
      "0\n",
      "1\n",
      "2\n",
      "3\n",
      "4\n"
     ]
    }
   ],
   "source": [
    "\"\"\"freqs + decay rates\"\"\"\n",
    "num_tones = 6\n",
    "\n",
    "f = 440\n",
    "srate = 11025\n",
    "frame_count = 44100\n",
    "clips = 5\n",
    "output = np.zeros((clips, frame_count),dtype=(np.float16))\n",
    "Y = np.zeros((clips, num_tones*2))\n",
    "\n",
    "for c in range(0, clips):\n",
    "    #amplitudes = np.random.uniform(0, 1/num_tones, num_tones)\n",
    "    amplitudes = np.repeat([1/num_tones], num_tones)\n",
    "    \n",
    "    ratios = np.random.uniform(1, randrange(2, 12), num_tones)\n",
    "    ratios[0] = 1\n",
    "    ratios = np.sort(ratios)\n",
    "    \n",
    "    rates = np.random.uniform(0.9995, 0.99999, num_tones)\n",
    "    rates = -np.sort(-rates)\n",
    "    #t = 0\n",
    "    Y[c] = np.concatenate((ratios, rates))\n",
    "\n",
    "    #for i in range(0, frame_count):\n",
    "    for ot in range(0, num_tones):\n",
    "        output[c] += (amplitudes[ot]**(np.arange(frame_count)/10000*rates[ot]))*(np.sin(2*np.pi * np.arange(frame_count)* f * ratios[ot] / srate)).astype(np.float32)\n",
    "    print(c)\n",
    "\n",
    "    #amplitudes = amplitudes * rates\n",
    "    #t = t + 1\n",
    "#output = output * 1000\n",
    "#output = output.astype('int16')\n"
   ]
  },
  {
   "cell_type": "code",
   "execution_count": 9,
   "metadata": {},
   "outputs": [
    {
     "name": "stdout",
     "output_type": "stream",
     "text": [
      "0\n",
      "1\n",
      "2\n",
      "3\n",
      "4\n"
     ]
    }
   ],
   "source": [
    "\"\"\"amp + decay rates\"\"\"\n",
    "num_tones = 6\n",
    "\n",
    "f = 440\n",
    "srate = 11025\n",
    "frame_count = 44100\n",
    "clips = 5\n",
    "output = np.zeros((clips, frame_count),dtype=(np.float16))\n",
    "Y = np.zeros((clips, num_tones*2))\n",
    "\n",
    "for c in range(0, clips):\n",
    "    amplitudes = np.random.uniform(0, 1/num_tones, num_tones)\n",
    "    #amplitudes = np.repeat([1/num_tones], num_tones)\n",
    "    \n",
    "    ratios = np.arange(1, num_tones +1)\n",
    "    #ratios[0] = 1\n",
    "    #ratios = np.sort(ratios)\n",
    "    \n",
    "    rates = np.random.uniform(0.9995, 0.99999, num_tones)\n",
    "    rates = -np.sort(-rates)\n",
    "    #t = 0\n",
    "    Y[c] = np.concatenate((amplitudes, rates))\n",
    "\n",
    "    #for i in range(0, frame_count):\n",
    "    for ot in range(0, num_tones):\n",
    "        output[c] += (amplitudes[ot]**(np.arange(frame_count)/10000*rates[ot]))*(np.sin(2*np.pi * np.arange(frame_count)* f * ratios[ot] / srate)).astype(np.float32)\n",
    "    print(c)\n",
    "\n",
    "    #amplitudes = amplitudes * rates\n",
    "    #t = t + 1\n",
    "#output = output * 1000\n",
    "#output = output.astype('int16')\n"
   ]
  },
  {
   "cell_type": "code",
   "execution_count": 10,
   "metadata": {},
   "outputs": [
    {
     "name": "stdout",
     "output_type": "stream",
     "text": [
      "0\n",
      "1\n",
      "2\n",
      "3\n",
      "4\n"
     ]
    }
   ],
   "source": [
    "\"\"\"freqs + amp + decay rates\"\"\"\n",
    "num_tones = 6\n",
    "\n",
    "f = 440\n",
    "srate = 11025\n",
    "frame_count = 44100\n",
    "clips = 5\n",
    "output = np.zeros((clips, frame_count),dtype=(np.float16))\n",
    "Y = np.zeros((clips, num_tones*3))\n",
    "\n",
    "for c in range(0, clips):\n",
    "    amplitudes = np.random.uniform(0, 1/num_tones, num_tones)\n",
    "    #amplitudes = np.repeat([1/num_tones], num_tones)\n",
    "    \n",
    "    ratios = np.random.uniform(1, randrange(2, 12), num_tones)\n",
    "    ratios[0] = 1\n",
    "    ratios = np.sort(ratios)\n",
    "    \n",
    "    rates = np.random.uniform(0.9995, 0.99999, num_tones)\n",
    "    rates = -np.sort(-rates)\n",
    "    #t = 0\n",
    "    Y[c] = np.concatenate((ratios, amplitudes, rates))\n",
    "\n",
    "    #for i in range(0, frame_count):\n",
    "    for ot in range(0, num_tones):\n",
    "        output[c] += (amplitudes[ot]**(np.arange(frame_count)/10000*rates[ot]))*(np.sin(2*np.pi * np.arange(frame_count)* f * ratios[ot] / srate)).astype(np.float32)\n",
    "    print(c)\n",
    "\n",
    "    #amplitudes = amplitudes * rates\n",
    "    #t = t + 1\n",
    "#output = output * 1000\n",
    "#output = output.astype('int16')\n"
   ]
  },
  {
   "cell_type": "code",
   "execution_count": 2,
   "metadata": {},
   "outputs": [
    {
     "name": "stdout",
     "output_type": "stream",
     "text": [
      "(10, 220500)\n",
      "(10, 220500)\n"
     ]
    }
   ],
   "source": [
    "\"\"\"Additive Synth \n",
    "20 params - 10 freq, 10 amp \"\"\"\n",
    "\n",
    "fs = 44100       # sampling rate, Hz, must be integer\n",
    "duration = 5   # in seconds, may be float\n",
    "\n",
    "num_samples = 10\n",
    "num_overtones = 10\n",
    "\n",
    "overtones = np.random.uniform (20 , 20000 , size = (num_samples,num_overtones))\n",
    "amp  = np.random.uniform (0  , 1    , size = (num_samples,num_overtones))\n",
    "audio = np.zeros((num_samples,(fs*duration)))\n",
    "print(audio.shape)\n",
    "\n",
    "for i in range (0,num_samples):\n",
    "    combined_sine = np.zeros((1,(fs*duration)))\n",
    "    for j in range (0,num_overtones):\n",
    "        sine = (amp[i][j]*(np.sin(2*np.pi*np.arange(fs*duration)*overtones[i][j]/fs))).astype(np.float32)\n",
    "        combined_sine = combined_sine + sine\n",
    "    audio[i] = combined_sine\n",
    "audio = audio/num_overtones\n",
    "print(audio.shape)\n",
    "X_data = audio"
   ]
  },
  {
   "cell_type": "code",
   "execution_count": 4,
   "metadata": {},
   "outputs": [
    {
     "name": "stdout",
     "output_type": "stream",
     "text": [
      "0\n",
      "1\n",
      "2\n",
      "3\n",
      "4\n",
      "5\n",
      "6\n",
      "7\n",
      "8\n",
      "9\n"
     ]
    }
   ],
   "source": [
    "fs = 44100      # sampling rate, Hz, must be integer\n",
    "duration = 5   # in seconds, may be float\n",
    "\n",
    "num_samples = 10\n",
    "freq = np.zeros((num_samples,10))\n",
    "amp = np.zeros((num_samples,10))\n",
    "X_data = np.zeros((num_samples,fs*duration))\n",
    "\n",
    "\n",
    "for i in range (0,num_samples):\n",
    "    freq1 = random.uniform(16,2000)        # sine frequency, Hz, may be float\n",
    "    freq2 = 2*freq1\n",
    "    freq3 = 3*freq1\n",
    "    freq4 = 4*freq1\n",
    "    freq5 = 5*freq1\n",
    "    freq6 = 6*freq1\n",
    "    freq7 = 7*freq1\n",
    "    freq8 = 8*freq1\n",
    "    freq9 = 9*freq1\n",
    "    freq10 = 10*freq1\n",
    "\n",
    "    amp1 = random.uniform(0,1)     # range [0.0, 1.0]\n",
    "    amp2 = random.uniform(0,amp1)\n",
    "    amp3 = random.uniform(0,amp2)\n",
    "    amp4 = random.uniform(0,amp3)\n",
    "    amp5 = random.uniform(0,amp4)\n",
    "    amp6 = random.uniform(0,amp5)\n",
    "    amp7 = random.uniform(0,amp6)\n",
    "    amp8 = random.uniform(0,amp7)\n",
    "    amp9 = random.uniform(0,amp8)\n",
    "    amp10 = random.uniform(0,amp9)\n",
    "\n",
    "\n",
    "    # generate samples, note conversion to float32 array\n",
    "    sample1 = (amp1*(np.sin(2*np.pi*np.arange(fs*duration)*freq1/fs))).astype(np.float32)\n",
    "    sample2 = (amp2*(np.sin(2*np.pi*np.arange(fs*duration)*freq2/fs))).astype(np.float32)\n",
    "    sample3 = (amp3*(np.sin(2*np.pi*np.arange(fs*duration)*freq3/fs))).astype(np.float32)\n",
    "    sample4 = (amp4*(np.sin(2*np.pi*np.arange(fs*duration)*freq4/fs))).astype(np.float32)\n",
    "    sample5 = (amp5*(np.sin(2*np.pi*np.arange(fs*duration)*freq5/fs))).astype(np.float32)\n",
    "    sample6 = (amp6*(np.sin(2*np.pi*np.arange(fs*duration)*freq6/fs))).astype(np.float32)\n",
    "    sample7 = (amp7*(np.sin(2*np.pi*np.arange(fs*duration)*freq7/fs))).astype(np.float32)\n",
    "    sample8 = (amp8*(np.sin(2*np.pi*np.arange(fs*duration)*freq8/fs))).astype(np.float32)\n",
    "    sample9 = (amp9*(np.sin(2*np.pi*np.arange(fs*duration)*freq9/fs))).astype(np.float32)\n",
    "    sample10 = (amp10*(np.sin(2*np.pi*np.arange(fs*duration)*freq10/fs))).astype(np.float32)\n",
    "\n",
    "    audio = ((sample1\n",
    "                 +sample2\n",
    "                 +sample3\n",
    "                 +sample4\n",
    "                 +sample5\n",
    "                 +sample6\n",
    "                 +sample7\n",
    "                 +sample8\n",
    "                 +sample9\n",
    "                 +sample10)/10)\n",
    "\n",
    "    freq[i] = (freq1,freq2,freq3,freq4,freq5,freq6,freq7,freq8,freq9,freq10)    \n",
    "    amp[i] = (amp1,amp2,amp3,amp4,amp5,amp6,amp7,amp8,amp9,amp10)\n",
    "    X_data[i] = audio\n",
    "    print(i)\n",
    "    \n"
   ]
  },
  {
   "cell_type": "code",
   "execution_count": 18,
   "metadata": {},
   "outputs": [],
   "source": [
    "# for paFloat32 sample values must be in range [-1.0, 1.0]\n",
    "p = pyaudio.PyAudio()\n",
    "\n",
    "\n",
    "stream = p.open(format=pyaudio.paFloat32,\n",
    "                    channels=1,\n",
    "                    rate=fs,\n",
    "                    output=True)\n",
    "\n",
    "# play. May repeat with different volume values (if done interactively) \n",
    "stream.write(audio[0])\n",
    "\n",
    "stream.stop_stream()\n",
    "stream.close()\n",
    "\n",
    "p.terminate()\n"
   ]
  },
  {
   "cell_type": "code",
   "execution_count": 12,
   "metadata": {},
   "outputs": [
    {
     "name": "stdout",
     "output_type": "stream",
     "text": [
      "(5, 20, 87)\n"
     ]
    }
   ],
   "source": [
    "\"\"\"Taking MFCC of audio data\"\"\"\n",
    "MFCC = np.zeros((clips,20,87))\n",
    "for i in range (0,clips):\n",
    "    MFCC[i] = rosa.feature.mfcc(y=output[i], sr=11025, n_mfcc=20)\n",
    "print(MFCC.shape)"
   ]
  },
  {
   "cell_type": "code",
   "execution_count": 17,
   "metadata": {},
   "outputs": [
    {
     "data": {
      "image/png": "[encoded data removed]",
      "text/plain": [
       "<Figure size 432x288 with 1 Axes>"
      ]
     },
     "metadata": {
      "needs_background": "light"
     },
     "output_type": "display_data"
    },
    {
     "name": "stdout",
     "output_type": "stream",
     "text": [
      "(5, 20, 87)\n"
     ]
    },
    {
     "data": {
      "image/png": "[encoded data removed]",
      "text/plain": [
       "<Figure size 432x288 with 1 Axes>"
      ]
     },
     "metadata": {
      "needs_background": "light"
     },
     "output_type": "display_data"
    }
   ],
   "source": [
    "rsdsp.specshow(MFCC[1], x_axis='time')\n",
    "plt.show()\n",
    "plt.plot(MFCC[1])\n",
    "print(MFCC.shape)"
   ]
  },
  {
   "cell_type": "code",
   "execution_count": 26,
   "metadata": {},
   "outputs": [
    {
     "name": "stdout",
     "output_type": "stream",
     "text": [
      "(1000, 20)\n"
     ]
    }
   ],
   "source": [
    "#\"\"\"Loading parameters as Y data\"\"\"\n",
    "#Y_data = np.concatenate((overtones , amp), axis=1)\n",
    "#print(Y_data.shape)"
   ]
  },
  {
   "cell_type": "code",
   "execution_count": 27,
   "metadata": {},
   "outputs": [
    {
     "name": "stdout",
     "output_type": "stream",
     "text": [
      "20\n"
     ]
    }
   ],
   "source": [
    "\"\"\"Defining important variables for LSTM\"\"\"\n",
    "\n",
    "#features_cols = MFCC[0].shape[0]\n",
    "#features_rows = 1\n",
    "#parameter_size = Y_data[0].shape[0]\n",
    "#print(parameter_size)"
   ]
  },
  {
   "cell_type": "code",
   "execution_count": 18,
   "metadata": {},
   "outputs": [],
   "source": [
    "\n",
    "#net = tflearn.input_data([None, features_cols, features_rows])\n",
    "#net = tflearn.lstm(net, 128, dropout=0.8)\n",
    "#net = tflearn.fully_connected(net, parameter_size, activation='relu')\n",
    "#net = tflearn.regression(net, optimizer='adam', learning_rate=0.001,\n",
    "#                         loss='mean_square')\n",
    "#model = tflearn.DNN(net, tensorboard_verbose=0)\n",
    "#model.fit(train_x, train_y, validation_set=(test_x, test_y), show_metric=True,\n",
    " #         batch_size=32, n_epoch=1)"
   ]
  },
  {
   "cell_type": "code",
   "execution_count": 7,
   "metadata": {},
   "outputs": [],
   "source": [
    "#X_data = np.expand_dims(X_data, axis = 2)"
   ]
  },
  {
   "cell_type": "code",
   "execution_count": 39,
   "metadata": {},
   "outputs": [],
   "source": [
    "\"\"\"CNN network\"\"\"\n",
    "#MFCC_EXP = np.expand_dims(CmprMFCC, axis=2)\n",
    "MFCC_EXP = np.expand_dims(MFCC, axis=3)\n",
    "cnn_model = tf.keras.Sequential()\n",
    "cnn_model.add(BatchNormalization())\n",
    "cnn_model.add(Convolution2D(32, padding=\"same\", activation='relu', kernel_size=(8, 8), strides=(1, 1), input_shape=(128, 87, 1)))\n",
    "cnn_model.add(MaxPooling2D(pool_size=(1, 1)))\n",
    "#cnn_model.add(Convolution2D(32, padding=\"same\", activation='relu', kernel_size=(6, 6), strides=(1, 1)))\n",
    "#cnn_model.add(MaxPooling2D(pool_size=(1, 1)))\n",
    "#cnn_model.add(Convolution2D(32, padding=\"same\", activation='relu', kernel_size=(4, 4), strides=(1, 1)))\n",
    "#cnn_model.add(MaxPooling2D(pool_size=(2, 2)))\n",
    "#cnn_model.add(Convolution2D(32, padding=\"same\", activation='relu', kernel_size=(4, 4), strides=(1, 1)))\n",
    "#cnn_model.add(MaxPooling2D(pool_size=(4, 4)))\n",
    "#cnn_model.add(Convolution2D(32, padding=\"same\", activation='relu', kernel_size=(4, 4), strides=(1, 1)))\n",
    "#cnn_model.add(Convolution2D(32, padding=\"same\", activation='relu', kernel_size=(2, 2), strides=(1, 1)))\n",
    "cnn_model.add(Flatten())\n",
    "cnn_model.add(Dense(units=128, activation='relu'))\n",
    "cnn_model.add(Dense(units=18, activation = 'relu'))\n",
    "cnn_model.compile(loss='mean_squared_error',\n",
    "              optimizer='adam',\n",
    "              metrics=['accuracy'])\n"
   ]
  },
  {
   "cell_type": "code",
   "execution_count": 40,
   "metadata": {},
   "outputs": [
    {
     "name": "stdout",
     "output_type": "stream",
     "text": [
      "Epoch 1/10\n",
      "5/5 [==============================] - 1s 254ms/sample - loss: 3.4621 - acc: 0.0000e+00\n",
      "Epoch 2/10\n",
      "5/5 [==============================] - 0s 85ms/sample - loss: 3.6973 - acc: 1.0000\n",
      "Epoch 3/10\n",
      "5/5 [==============================] - 0s 27ms/sample - loss: 1.4508 - acc: 1.0000\n",
      "Epoch 4/10\n",
      "5/5 [==============================] - 0s 36ms/sample - loss: 1.2459 - acc: 1.0000\n",
      "Epoch 5/10\n",
      "5/5 [==============================] - 0s 24ms/sample - loss: 1.2897 - acc: 0.8000\n",
      "Epoch 6/10\n",
      "5/5 [==============================] - 0s 36ms/sample - loss: 1.0949 - acc: 1.0000\n",
      "Epoch 7/10\n",
      "5/5 [==============================] - 0s 31ms/sample - loss: 0.9870 - acc: 1.0000\n",
      "Epoch 8/10\n",
      "5/5 [==============================] - 1s 121ms/sample - loss: 0.9580 - acc: 1.0000\n",
      "Epoch 9/10\n",
      "5/5 [==============================] - 0s 62ms/sample - loss: 0.9182 - acc: 1.0000\n",
      "Epoch 10/10\n",
      "5/5 [==============================] - 0s 54ms/sample - loss: 0.8705 - acc: 1.0000\n"
     ]
    },
    {
     "data": {
      "text/plain": [
       "<tensorflow.python.keras.callbacks.History at 0x2e7fd837908>"
      ]
     },
     "execution_count": 40,
     "metadata": {},
     "output_type": "execute_result"
    }
   ],
   "source": [
    "cnn_model.fit(MFCC_EXP, Y, epochs=10)"
   ]
  },
  {
   "cell_type": "code",
   "execution_count": 26,
   "metadata": {},
   "outputs": [
    {
     "name": "stdout",
     "output_type": "stream",
     "text": [
      "\r",
      "5/5 [==============================] - 3s 510ms/sample - loss: 3.3559 - acc: 0.0000e+00\n"
     ]
    },
    {
     "data": {
      "text/plain": [
       "<tensorflow.python.keras.callbacks.History at 0x2e7e7350198>"
      ]
     },
     "execution_count": 26,
     "metadata": {},
     "output_type": "execute_result"
    }
   ],
   "source": [
    "\"\"\"LSTM network\"\"\"\n",
    "\n",
    "\n",
    "model = Sequential()\n",
    "model.add(LSTM(128))\n",
    "model.add(Dense(units=18, activation='relu'))\n",
    "model.compile(loss='mean_squared_error',\n",
    "              optimizer='sgd',\n",
    "              metrics=['accuracy'])\n",
    "model.fit(MFCC, Y)"
   ]
  },
  {
   "cell_type": "code",
   "execution_count": 39,
   "metadata": {},
   "outputs": [],
   "source": [
    "outs = model.predict(MFCC)"
   ]
  },
  {
   "cell_type": "code",
   "execution_count": 42,
   "metadata": {},
   "outputs": [
    {
     "data": {
      "text/plain": [
       "array([8.6155450e+02, 1.7232880e+03, 2.5850974e+03, 3.4463672e+03,\n",
       "       4.3091665e+03, 5.1688496e+03, 6.0312080e+03, 6.8897549e+03,\n",
       "       7.7516074e+03, 8.6209453e+03, 6.1200924e-02, 3.6561254e-01,\n",
       "       0.0000000e+00, 0.0000000e+00, 0.0000000e+00, 0.0000000e+00,\n",
       "       2.5388947e-01, 0.0000000e+00, 0.0000000e+00, 0.0000000e+00],\n",
       "      dtype=float32)"
      ]
     },
     "execution_count": 42,
     "metadata": {},
     "output_type": "execute_result"
    }
   ],
   "source": [
    "outs[4]"
   ]
  },
  {
   "cell_type": "code",
   "execution_count": 43,
   "metadata": {},
   "outputs": [
    {
     "data": {
      "text/plain": [
       "array([4.25396355e+02, 8.50792710e+02, 1.27618906e+03, 1.70158542e+03,\n",
       "       2.12698177e+03, 2.55237813e+03, 2.97777448e+03, 3.40317084e+03,\n",
       "       3.82856719e+03, 4.25396355e+03, 2.64696885e-01, 1.54517722e-01,\n",
       "       1.00156167e-01, 2.29255772e-02, 1.23416455e-02, 7.02777104e-03,\n",
       "       3.10745778e-03, 2.44213197e-03, 9.97888219e-04, 7.17068789e-05])"
      ]
     },
     "execution_count": 43,
     "metadata": {},
     "output_type": "execute_result"
    }
   ],
   "source": [
    "Y_data[4]"
   ]
  },
  {
   "cell_type": "code",
   "execution_count": 42,
   "metadata": {},
   "outputs": [],
   "source": [
    "pred = ([8.6155450e+02, 1.7232880e+03, 2.5850974e+03, 3.4463672e+03,4.3091665e+03, 5.1688496e+03, 6.0312080e+03, 6.8897549e+03,\n",
    "       7.7516074e+03, 8.6209453e+03, 6.1200924e-02, 3.6561254e-01,\n",
    "       0.0000000e+00, 0.0000000e+00, 0.0000000e+00, 0.0000000e+00,\n",
    "       2.5388947e-01, 0.0000000e+00, 0.0000000e+00, 0.0000000e+00])\n",
    "\n",
    "sample1 = (pred[10]*(np.sin(2*np.pi*np.arange(fs*duration)*pred[0]/fs))).astype(np.float32)\n",
    "sample2 = (pred[11]*(np.sin(2*np.pi*np.arange(fs*duration)*pred[1]/fs))).astype(np.float32)\n",
    "sample3 = (pred[12]*(np.sin(2*np.pi*np.arange(fs*duration)*pred[2]/fs))).astype(np.float32)\n",
    "sample4 = (pred[13]*(np.sin(2*np.pi*np.arange(fs*duration)*pred[3]/fs))).astype(np.float32)\n",
    "sample5 = (pred[14]*(np.sin(2*np.pi*np.arange(fs*duration)*pred[4]/fs))).astype(np.float32)\n",
    "sample6 = (pred[15]*(np.sin(2*np.pi*np.arange(fs*duration)*pred[5]/fs))).astype(np.float32)\n",
    "sample7 = (pred[16]*(np.sin(2*np.pi*np.arange(fs*duration)*pred[6]/fs))).astype(np.float32)\n",
    "sample8 = (pred[17]*(np.sin(2*np.pi*np.arange(fs*duration)*pred[7]/fs))).astype(np.float32)\n",
    "sample9 = (pred[18]*(np.sin(2*np.pi*np.arange(fs*duration)*pred[8]/fs))).astype(np.float32)\n",
    "sample10 = (pred[19]*(np.sin(2*np.pi*np.arange(fs*duration)*pred[9]/fs))).astype(np.float32)\n",
    "\n",
    "pred_audio = ((sample1\n",
    "             +sample2\n",
    "             +sample3\n",
    "             +sample4\n",
    "             +sample5\n",
    "             +sample6\n",
    "             +sample7\n",
    "             +sample8\n",
    "             +sample9\n",
    "             +sample10)/10)\n",
    "\n",
    "\n",
    "\n",
    "# for paFloat32 sample values must be in range [-1.0, 1.0]\n",
    "stream = p.open(format=pyaudio.paFloat32,\n",
    "                    channels=1,\n",
    "                    rate=fs,\n",
    "                    output=True)\n",
    "\n",
    "# play. May repeat with different volume values (if done interactively) \n",
    "stream.write(pred_audio)\n",
    "\n",
    "stream.stop_stream()\n",
    "stream.close()\n",
    "\n",
    "p.terminate()"
   ]
  },
  {
   "cell_type": "code",
   "execution_count": 43,
   "metadata": {},
   "outputs": [],
   "source": [
    "actual = ([4.25396355e+02, 8.50792710e+02, 1.27618906e+03, 1.70158542e+03,\n",
    "       2.12698177e+03, 2.55237813e+03, 2.97777448e+03, 3.40317084e+03,\n",
    "       3.82856719e+03, 4.25396355e+03, 2.64696885e-01, 1.54517722e-01,\n",
    "       1.00156167e-01, 2.29255772e-02, 1.23416455e-02, 7.02777104e-03,\n",
    "       3.10745778e-03, 2.44213197e-03, 9.97888219e-04, 7.17068789e-05])\n",
    "\n",
    "\n",
    "\n",
    "sample1 = (pred[10]*(np.sin(2*np.pi*np.arange(fs*duration)*pred[0]/fs))).astype(np.float32)\n",
    "sample2 = (pred[11]*(np.sin(2*np.pi*np.arange(fs*duration)*pred[1]/fs))).astype(np.float32)\n",
    "sample3 = (pred[12]*(np.sin(2*np.pi*np.arange(fs*duration)*pred[2]/fs))).astype(np.float32)\n",
    "sample4 = (pred[13]*(np.sin(2*np.pi*np.arange(fs*duration)*pred[3]/fs))).astype(np.float32)\n",
    "sample5 = (pred[14]*(np.sin(2*np.pi*np.arange(fs*duration)*pred[4]/fs))).astype(np.float32)\n",
    "sample6 = (pred[15]*(np.sin(2*np.pi*np.arange(fs*duration)*pred[5]/fs))).astype(np.float32)\n",
    "sample7 = (pred[16]*(np.sin(2*np.pi*np.arange(fs*duration)*pred[6]/fs))).astype(np.float32)\n",
    "sample8 = (pred[17]*(np.sin(2*np.pi*np.arange(fs*duration)*pred[7]/fs))).astype(np.float32)\n",
    "sample9 = (pred[18]*(np.sin(2*np.pi*np.arange(fs*duration)*pred[8]/fs))).astype(np.float32)\n",
    "sample10 = (pred[19]*(np.sin(2*np.pi*np.arange(fs*duration)*pred[9]/fs))).astype(np.float32)\n",
    "\n",
    "actual_audio = ((sample1\n",
    "             +sample2\n",
    "             +sample3\n",
    "             +sample4\n",
    "             +sample5\n",
    "             +sample6\n",
    "             +sample7\n",
    "             +sample8\n",
    "             +sample9\n",
    "             +sample10)/10)\n",
    "\n",
    "\n",
    "\n",
    "# for paFloat32 sample values must be in range [-1.0, 1.0]\n",
    "stream = p.open(format=pyaudio.paFloat32,\n",
    "                    channels=1,\n",
    "                    rate=fs,\n",
    "                    output=True)\n",
    "\n",
    "# play. May repeat with different volume values (if done interactively) \n",
    "stream.write(pred_audio)\n",
    "\n",
    "stream.stop_stream()\n",
    "stream.close()\n",
    "\n",
    "p.terminate()"
   ]
  },
  {
   "cell_type": "code",
   "execution_count": 46,
   "metadata": {},
   "outputs": [],
   "source": [
    "import scipy\n",
    "scipy.io.wavfile.write(\"actual_audio.wav\", 22050, actual_audio)"
   ]
  },
  {
   "cell_type": "code",
   "execution_count": 47,
   "metadata": {},
   "outputs": [],
   "source": [
    "import scipy\n",
    "scipy.io.wavfile.write(\"predicted_audio.wav\", 22050, pred_audio)"
   ]
  },
  {
   "cell_type": "code",
   "execution_count": null,
   "metadata": {},
   "outputs": [],
   "source": []
  }
 ],
 "metadata": {
  "kernelspec": {
   "display_name": "Python 3",
   "language": "python",
   "name": "python3"
  },
  "language_info": {
   "codemirror_mode": {
    "name": "ipython",
    "version": 3
   },
   "file_extension": ".py",
   "mimetype": "text/x-python",
   "name": "python",
   "nbconvert_exporter": "python",
   "pygments_lexer": "ipython3",
   "version": "3.7.3"
  }
 },
 "nbformat": 4,
 "nbformat_minor": 2
}
