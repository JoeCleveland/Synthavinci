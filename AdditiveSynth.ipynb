{
 "cells": [
  {
   "cell_type": "code",
   "execution_count": 2,
   "metadata": {},
   "outputs": [],
   "source": [
    "import numpy as np\n",
    "import wave\n",
    "import librosa\n",
    "import librosa.display\n",
    "from librosa.core import stft\n",
    "import matplotlib.pyplot as plt\n",
    "import scipy \n",
    "import matplotlib.cm as cm"
   ]
  },
  {
   "cell_type": "code",
   "execution_count": 3,
   "metadata": {},
   "outputs": [],
   "source": [
    "def _wav2array(nchannels, sampwidth, data):\n",
    "    \"\"\"data must be the string containing the bytes from the wav file.\"\"\"\n",
    "    num_samples, remainder = divmod(len(data), sampwidth * nchannels)\n",
    "    if remainder > 0:\n",
    "        raise ValueError('The length of data is not a multiple of '\n",
    "                         'sampwidth * num_channels.')\n",
    "    if sampwidth > 4:\n",
    "        raise ValueError(\"sampwidth must not be greater than 4.\")\n",
    "\n",
    "    if sampwidth == 3:\n",
    "        a = np.empty((num_samples, nchannels, 4), dtype=np.uint8)\n",
    "        raw_bytes = np.fromstring(data, dtype=np.uint8)\n",
    "        a[:, :, :sampwidth] = raw_bytes.reshape(-1, nchannels, sampwidth)\n",
    "        a[:, :, sampwidth:] = (a[:, :, sampwidth - 1:sampwidth] >> 7) * 255\n",
    "        result = a.view('<i4').reshape(a.shape[:-1])\n",
    "    else:\n",
    "        # 8 bit samples are stored as unsigned ints; others as signed ints.\n",
    "        dt_char = 'u' if sampwidth == 1 else 'i'\n",
    "        a = np.fromstring(data, dtype='<%s%d' % (dt_char, sampwidth))\n",
    "        result = a.reshape(-1, nchannels)\n",
    "    return result\n",
    "\n",
    "\n",
    "def readwav(file):\n",
    "    \"\"\"\n",
    "    Read a wav file.\n",
    "    Returns the frame rate, sample width (in bytes) and a numpy array\n",
    "    containing the data.\n",
    "    This function does not read compressed wav files.\n",
    "    \"\"\"\n",
    "    wav = wave.open(file)\n",
    "    rate = wav.getframerate()\n",
    "    nchannels = wav.getnchannels()\n",
    "    sampwidth = wav.getsampwidth()\n",
    "    nframes = wav.getnframes()\n",
    "    data = wav.readframes(nframes)\n",
    "    wav.close()\n",
    "    array = _wav2array(nchannels, sampwidth, data)\n",
    "    return rate, sampwidth, array"
   ]
  },
  {
   "cell_type": "code",
   "execution_count": 4,
   "metadata": {},
   "outputs": [
    {
     "name": "stdout",
     "output_type": "stream",
     "text": [
      "[ 13   0   4 ... -36 -27 -49]\n"
     ]
    },
    {
     "name": "stderr",
     "output_type": "stream",
     "text": [
      "C:\\Users\\arshi\\Anaconda3\\envs\\venv\\lib\\site-packages\\ipykernel_launcher.py:19: DeprecationWarning: The binary mode of fromstring is deprecated, as it behaves surprisingly on unicode inputs. Use frombuffer instead\n"
     ]
    }
   ],
   "source": [
    "audio = readwav('C:/Users/arshi/Downloads/1980s-Casio-Piano-C5.wav')[2]\n",
    "print(audio.T[0])\n",
    "audio = audio.astype(np.floating)"
   ]
  },
  {
   "cell_type": "code",
   "execution_count": 5,
   "metadata": {},
   "outputs": [
    {
     "data": {
      "image/png": "[encoded data removed]",
      "text/plain": [
       "<Figure size 432x288 with 2 Axes>"
      ]
     },
     "metadata": {
      "needs_background": "light"
     },
     "output_type": "display_data"
    }
   ],
   "source": [
    "D = np.abs(librosa.feature.melspectrogram(audio.T[0], n_mels=64, fmax=2048))\n",
    "librosa.display.specshow(librosa.amplitude_to_db(D,\n",
    "                        ref=np.max),\n",
    "                          y_axis='mel', x_axis='time')\n",
    "plt.title('Power spectrogram')\n",
    "plt.colorbar(format='%+2.0f dB')\n",
    "plt.tight_layout()"
   ]
  },
  {
   "cell_type": "code",
   "execution_count": 94,
   "metadata": {},
   "outputs": [
    {
     "name": "stdout",
     "output_type": "stream",
     "text": [
      "2870465093630.8325\n",
      "(64, 182)\n"
     ]
    }
   ],
   "source": [
    "print(np.amax(D[:,10],axis=0))\n",
    "print(D.shape)"
   ]
  },
  {
   "cell_type": "code",
   "execution_count": 7,
   "metadata": {},
   "outputs": [
    {
     "name": "stdout",
     "output_type": "stream",
     "text": [
      "(1025, 182)\n"
     ]
    }
   ],
   "source": [
    "print(D.shape)"
   ]
  },
  {
   "cell_type": "code",
   "execution_count": 49,
   "metadata": {
    "scrolled": true
   },
   "outputs": [
    {
     "data": {
      "text/plain": [
       "2533423924805.7"
      ]
     },
     "execution_count": 49,
     "metadata": {},
     "output_type": "execute_result"
    }
   ],
   "source": [
    "D[:,40].max()"
   ]
  },
  {
   "cell_type": "code",
   "execution_count": 58,
   "metadata": {},
   "outputs": [
    {
     "name": "stdout",
     "output_type": "stream",
     "text": [
      "[ 0  0  9  9  9  9  9  9  9  9  9  9  9  9  9  9  9  9  9  9  9  9  9  9\n",
      "  9  9  9  9  9  9  9  9  9  9  9  9  9  9  9  9  9  9  9  9  9  9  9  9\n",
      "  9  9  9  9  9  9  9  9  9  9  9  9  9  9  9  9  9  9  9  9  9  9  9  9\n",
      "  9  9  9  9  9  9  9  9  9  9  9  9  9  9  9  9  9  9  9  9  9  9  9  9\n",
      "  9  9  9  9  9  9  9  9  9  9  9  9  9  9  9  9  9  9  9  9  9  9  9  9\n",
      "  9  9  9  9  9  9  9  9  9  9  9  9  9  9  9  9  9  9  9  9  9  9  0  0\n",
      "  0  0  0  0  0  0  0  0  0  0  0  0  0  0  0  0  0  0  0  0  0  0  0  0\n",
      "  0  0  0  0  0  0  0  0  0  0  0 37 37 38]\n"
     ]
    },
    {
     "ename": "NameError",
     "evalue": "name 'index' is not defined",
     "output_type": "error",
     "traceback": [
      "\u001b[1;31m---------------------------------------------------------------------------\u001b[0m",
      "\u001b[1;31mNameError\u001b[0m                                 Traceback (most recent call last)",
      "\u001b[1;32m<ipython-input-58-c181d12c76a8>\u001b[0m in \u001b[0;36m<module>\u001b[1;34m\u001b[0m\n\u001b[0;32m      1\u001b[0m \u001b[0mq\u001b[0m\u001b[1;33m=\u001b[0m\u001b[0mnp\u001b[0m\u001b[1;33m.\u001b[0m\u001b[0margmax\u001b[0m\u001b[1;33m(\u001b[0m\u001b[0mD\u001b[0m\u001b[1;33m[\u001b[0m\u001b[1;33m:\u001b[0m\u001b[1;33m,\u001b[0m\u001b[1;33m]\u001b[0m\u001b[1;33m,\u001b[0m\u001b[0maxis\u001b[0m\u001b[1;33m=\u001b[0m\u001b[1;36m0\u001b[0m\u001b[1;33m)\u001b[0m\u001b[1;33m\u001b[0m\u001b[1;33m\u001b[0m\u001b[0m\n\u001b[0;32m      2\u001b[0m \u001b[0mprint\u001b[0m\u001b[1;33m(\u001b[0m\u001b[0mq\u001b[0m\u001b[1;33m)\u001b[0m\u001b[1;33m\u001b[0m\u001b[1;33m\u001b[0m\u001b[0m\n\u001b[1;32m----> 3\u001b[1;33m \u001b[0mindex\u001b[0m\u001b[1;33m(\u001b[0m\u001b[0mq\u001b[0m\u001b[1;33m)\u001b[0m\u001b[1;33m\u001b[0m\u001b[1;33m\u001b[0m\u001b[0m\n\u001b[0m",
      "\u001b[1;31mNameError\u001b[0m: name 'index' is not defined"
     ]
    }
   ],
   "source": [
    "q=np.argmax(D[:,],axis=0)\n",
    "print(q)\n"
   ]
  },
  {
   "cell_type": "code",
   "execution_count": 46,
   "metadata": {},
   "outputs": [
    {
     "data": {
      "text/plain": [
       "array([[0]], dtype=int64)"
      ]
     },
     "execution_count": 46,
     "metadata": {},
     "output_type": "execute_result"
    }
   ],
   "source": [
    "np.argwhere(np.amax(D[:,40],axis=0))"
   ]
  },
  {
   "cell_type": "code",
   "execution_count": 28,
   "metadata": {},
   "outputs": [
    {
     "ename": "SyntaxError",
     "evalue": "unexpected EOF while parsing (<ipython-input-28-17523d13419d>, line 1)",
     "output_type": "error",
     "traceback": [
      "\u001b[1;36m  File \u001b[1;32m\"<ipython-input-28-17523d13419d>\"\u001b[1;36m, line \u001b[1;32m1\u001b[0m\n\u001b[1;33m    np.transpose(np.nonzero(np.amax(D[:,0],axis=0))\u001b[0m\n\u001b[1;37m                                                   ^\u001b[0m\n\u001b[1;31mSyntaxError\u001b[0m\u001b[1;31m:\u001b[0m unexpected EOF while parsing\n"
     ]
    }
   ],
   "source": [
    "np.transpose(np.nonzero(q))"
   ]
  },
  {
   "cell_type": "code",
   "execution_count": 10,
   "metadata": {},
   "outputs": [
    {
     "name": "stdout",
     "output_type": "stream",
     "text": [
      "18\n"
     ]
    },
    {
     "data": {
      "text/plain": [
       "484.3207409303188"
      ]
     },
     "execution_count": 10,
     "metadata": {},
     "output_type": "execute_result"
    }
   ],
   "source": [
    "\"\"\"Pitch of oscillator\"\"\"\n",
    "\n",
    "w=librosa.mel_frequencies(n_mels = 64, fmax = 2048)\n",
    "q=np.argmax(D[:,180],axis=0)\n",
    "print(q)\n",
    "w[q]\n"
   ]
  },
  {
   "cell_type": "code",
   "execution_count": null,
   "metadata": {},
   "outputs": [],
   "source": [
    "\"\"\"Get amplitude of each Mel bin. Classify them as F0, Overtone 1, Ovrrtone 2, ..\n",
    "Output every freq to each oscillator\"\"\""
   ]
  },
  {
   "cell_type": "code",
   "execution_count": null,
   "metadata": {},
   "outputs": [],
   "source": [
    "\"\"\"\"\"\""
   ]
  },
  {
   "cell_type": "code",
   "execution_count": 84,
   "metadata": {},
   "outputs": [
    {
     "data": {
      "image/png": "[encoded data removed]",
      "text/plain": [
       "<Figure size 432x288 with 2 Axes>"
      ]
     },
     "metadata": {
      "needs_background": "light"
     },
     "output_type": "display_data"
    }
   ],
   "source": [
    "D = np.abs(librosa.feature.melspectrogram(audio.T[0], n_mels=64, fmax=2048))\n",
    "librosa.display.specshow(librosa.amplitude_to_db(D,\n",
    "                        ref=np.max),\n",
    "                          y_axis='mel', x_axis='time')\n",
    "plt.title('Power spectrogram')\n",
    "plt.colorbar(format='%+2.0f dB')\n",
    "plt.tight_layout()"
   ]
  },
  {
   "cell_type": "code",
   "execution_count": 92,
   "metadata": {},
   "outputs": [
    {
     "name": "stdout",
     "output_type": "stream",
     "text": [
      "(64, 182)\n",
      "<class 'numpy.ndarray'>\n",
      "[[45 42 42 ... 28 50 26]\n",
      " [42 31 45 ... 43 26 50]\n",
      " [56 45 56 ... 32 29 27]\n",
      " ...\n",
      " [ 1  5  9 ... 38 19 37]\n",
      " [ 4  4  0 ... 37 37 19]\n",
      " [ 0  0  4 ... 18 18 18]]\n"
     ]
    }
   ],
   "source": [
    "print(D.shape)\n",
    "print(type(D))\n",
    "d = np.argsort(D, axis=0)\n",
    "print(d)"
   ]
  },
  {
   "cell_type": "code",
   "execution_count": 99,
   "metadata": {},
   "outputs": [
    {
     "name": "stdout",
     "output_type": "stream",
     "text": [
      "[[3.29256989e+11 9.27679167e+10 3.32384035e+09 ... 3.09438327e+05\n",
      "  3.99826880e+05 1.12689388e+06]\n",
      " [3.24920208e+10 9.89910903e+09 2.08127129e+08 ... 2.45056610e+04\n",
      "  3.73950932e+04 1.76674363e+05]\n",
      " [2.51808376e+11 2.64482395e+11 2.24568891e+11 ... 4.21133463e+03\n",
      "  2.80772303e+04 1.13722282e+05]\n",
      " ...\n",
      " [1.05117425e+07 1.42020705e+07 5.09913740e+06 ... 6.91803008e+05\n",
      "  1.38290456e+06 4.56661185e+06]\n",
      " [2.96707229e+09 3.03325614e+09 2.79418040e+09 ... 3.32689608e+07\n",
      "  2.95436531e+07 1.61736684e+07]\n",
      " [1.06006998e+10 2.98389414e+10 4.50372623e+10 ... 7.99897148e+06\n",
      "  8.83502326e+06 1.46407139e+07]]\n"
     ]
    }
   ],
   "source": [
    "print(D[1:20])"
   ]
  },
  {
   "cell_type": "code",
   "execution_count": 104,
   "metadata": {},
   "outputs": [
    {
     "name": "stdout",
     "output_type": "stream",
     "text": [
      "2870465093630.8325\n",
      "4\n",
      "392333534656.81366\n",
      "9\n",
      "47824872675.581825\n",
      "19\n",
      "31753530692.13386\n",
      "24\n",
      "8745914025.40146\n",
      "34\n",
      "9017718503.161068\n",
      "39\n",
      "1613218125.7442386\n",
      "48\n",
      "3289080292.9025073\n",
      "51\n"
     ]
    }
   ],
   "source": [
    "\"\"\"Bins \"\"\"\n",
    "max = D[0,10]\n",
    "d = D\n",
    "index = 0\n",
    "for j in range (0,8):\n",
    "    max = D[j*7,10]\n",
    "    index=j*7\n",
    "    for i in range (0,8):\n",
    "        q = D[i+(7*j),10]\n",
    "        if q>max:\n",
    "            max = q\n",
    "            index = (j*7) + i\n",
    "    print(max)    \n",
    "    print(index)"
   ]
  },
  {
   "cell_type": "code",
   "execution_count": 112,
   "metadata": {},
   "outputs": [
    {
     "data": {
      "image/png": "[encoded data removed]",
      "text/plain": [
       "<Figure size 432x288 with 1 Axes>"
      ]
     },
     "metadata": {
      "needs_background": "light"
     },
     "output_type": "display_data"
    }
   ],
   "source": [
    "plt.plot(D[:,0])\n",
    "plt.show()"
   ]
  },
  {
   "cell_type": "code",
   "execution_count": 27,
   "metadata": {},
   "outputs": [
    {
     "name": "stdout",
     "output_type": "stream",
     "text": [
      "{}\n",
      "(array([ 4,  9, 14, 19, 24, 29, 34, 39, 44, 48, 51, 54, 57, 60],\n",
      "      dtype=int64), {})\n"
     ]
    }
   ],
   "source": [
    "q = scipy.signal.find_peaks(D [:,20])\n",
    "print(properties)\n",
    "print(q)"
   ]
  },
  {
   "cell_type": "code",
   "execution_count": 28,
   "metadata": {},
   "outputs": [
    {
     "data": {
      "text/plain": [
       "array([ 107.62683132,  242.16037047,  376.69390961,  511.22744876,\n",
       "        645.76098791,  780.29452705,  914.8280662 , 1052.22342354,\n",
       "       1208.82253064, 1350.72273697, 1467.97601187, 1595.40778609,\n",
       "       1733.90163282, 1884.41782629])"
      ]
     },
     "execution_count": 28,
     "metadata": {},
     "output_type": "execute_result"
    }
   ],
   "source": [
    "w[q[0]]\n",
    "#print(properties['peak_heights'])\n",
    "#print(properties)"
   ]
  },
  {
   "cell_type": "code",
   "execution_count": 32,
   "metadata": {},
   "outputs": [
    {
     "name": "stdout",
     "output_type": "stream",
     "text": [
      "[2.23591720e+12 3.05867184e+11 2.10444146e+09 3.73104437e+10\n",
      " 2.47628844e+10 7.71490101e+08 6.82297808e+09 7.03666288e+09\n",
      " 4.05747004e+08 1.26855989e+09 2.57598290e+09 2.60670583e+08\n",
      " 4.61100850e+08 1.02461471e+09]\n"
     ]
    }
   ],
   "source": [
    "a = D[q[0],20]\n",
    "print(a)"
   ]
  },
  {
   "cell_type": "code",
   "execution_count": null,
   "metadata": {},
   "outputs": [],
   "source": []
  }
 ],
 "metadata": {
  "kernelspec": {
   "display_name": "Python 3",
   "language": "python",
   "name": "python3"
  },
  "language_info": {
   "codemirror_mode": {
    "name": "ipython",
    "version": 3
   },
   "file_extension": ".py",
   "mimetype": "text/x-python",
   "name": "python",
   "nbconvert_exporter": "python",
   "pygments_lexer": "ipython3",
   "version": "3.7.2"
  }
 },
 "nbformat": 4,
 "nbformat_minor": 2
}
