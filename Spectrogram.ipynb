{
 "cells": [
  {
   "cell_type": "code",
   "execution_count": 230,
   "metadata": {},
   "outputs": [],
   "source": [
    "import numpy as np\n",
    "import wave\n",
    "from scipy.io import wavfile\n",
    "from scipy import signal\n",
    "from keras.utils.np_utils import to_categorical\n",
    "from tensorflow.keras.models import Model\n",
    "from tensorflow.keras.layers import Dense, Dropout, Activation, Flatten, Reshape, Input\n",
    "from tensorflow.keras.layers import Convolution2D, BatchNormalization\n",
    "from librosa.core import stft\n",
    "import matplotlib.pyplot as plot\n",
    "import matplotlib.cm as cm\n",
    "import keras.backend as K"
   ]
  },
  {
   "cell_type": "code",
   "execution_count": 3,
   "metadata": {},
   "outputs": [],
   "source": [
    "def _wav2array(nchannels, sampwidth, data):\n",
    "    \"\"\"data must be the string containing the bytes from the wav file.\"\"\"\n",
    "    num_samples, remainder = divmod(len(data), sampwidth * nchannels)\n",
    "    if remainder > 0:\n",
    "        raise ValueError('The length of data is not a multiple of '\n",
    "                         'sampwidth * num_channels.')\n",
    "    if sampwidth > 4:\n",
    "        raise ValueError(\"sampwidth must not be greater than 4.\")\n",
    "\n",
    "    if sampwidth == 3:\n",
    "        a = np.empty((num_samples, nchannels, 4), dtype=np.uint8)\n",
    "        raw_bytes = np.fromstring(data, dtype=np.uint8)\n",
    "        a[:, :, :sampwidth] = raw_bytes.reshape(-1, nchannels, sampwidth)\n",
    "        a[:, :, sampwidth:] = (a[:, :, sampwidth - 1:sampwidth] >> 7) * 255\n",
    "        result = a.view('<i4').reshape(a.shape[:-1])\n",
    "    else:\n",
    "        # 8 bit samples are stored as unsigned ints; others as signed ints.\n",
    "        dt_char = 'u' if sampwidth == 1 else 'i'\n",
    "        a = np.fromstring(data, dtype='<%s%d' % (dt_char, sampwidth))\n",
    "        result = a.reshape(-1, nchannels)\n",
    "    return result\n",
    "\n",
    "\n",
    "def readwav(file):\n",
    "    \"\"\"\n",
    "    Read a wav file.\n",
    "    Returns the frame rate, sample width (in bytes) and a numpy array\n",
    "    containing the data.\n",
    "    This function does not read compressed wav files.\n",
    "    \"\"\"\n",
    "    wav = wave.open(file)\n",
    "    rate = wav.getframerate()\n",
    "    nchannels = wav.getnchannels()\n",
    "    sampwidth = wav.getsampwidth()\n",
    "    nframes = wav.getnframes()\n",
    "    data = wav.readframes(nframes)\n",
    "    wav.close()\n",
    "    array = _wav2array(nchannels, sampwidth, data)\n",
    "    return rate, sampwidth, array"
   ]
  },
  {
   "cell_type": "code",
   "execution_count": 253,
   "metadata": {},
   "outputs": [
    {
     "name": "stdout",
     "output_type": "stream",
     "text": [
      "(60999, 45056)\n"
     ]
    },
    {
     "name": "stderr",
     "output_type": "stream",
     "text": [
      "/Users/josephcleveland/Summer/venv/lib/python3.7/site-packages/ipykernel_launcher.py:19: DeprecationWarning: The binary mode of fromstring is deprecated, as it behaves surprisingly on unicode inputs. Use frombuffer instead\n"
     ]
    }
   ],
   "source": [
    "X_data = np.zeros(shape=(60999,45056))\n",
    "print(X_data.shape)\n",
    "\n",
    "for r in range(0, 60999):\n",
    "    audio = readwav('/Users/josephcleveland/Dataset/samp' + str(r) + '.wav')[2]\n",
    "    audio = audio.T[0]\n",
    "    if(audio.shape != 45056):\n",
    "        padded = np.zeros(shape=(45056))\n",
    "        padded[:np.shape(audio)[0]] = audio\n",
    "        audio = padded\n",
    "    X_data[r] = audio\n",
    "    \n"
   ]
  },
  {
   "cell_type": "code",
   "execution_count": 236,
   "metadata": {
    "scrolled": true
   },
   "outputs": [
    {
     "name": "stdout",
     "output_type": "stream",
     "text": [
      "(705, 129)\n"
     ]
    },
    {
     "data": {
      "image/png": "[encoded data removed]",
      "text/plain": [
       "<Figure size 432x288 with 1 Axes>"
      ]
     },
     "metadata": {
      "needs_background": "light"
     },
     "output_type": "display_data"
    }
   ],
   "source": [
    "spect = stft(X_data[15],n_fft=1408)\n",
    "print(spect.shape)\n",
    "plot.imshow(spect.real[0:64], aspect='auto', cmap=cm.gist_rainbow)\n",
    "plot.show()"
   ]
  },
  {
   "cell_type": "code",
   "execution_count": 254,
   "metadata": {},
   "outputs": [],
   "source": [
    "Y_data = np.zeros(shape=(60999, 23))\n",
    "mat = np.genfromtxt('/Users/josephcleveland/Dataset/mat.txt', delimiter=',')\n",
    "Y_data = mat[0:60999]\n",
    "#for i in range(0, 10000):\n",
    "#    onehot = to_categorical(mat[i], 16)\n",
    "#    Y_data[i] = onehot.ravel()"
   ]
  },
  {
   "cell_type": "code",
   "execution_count": 255,
   "metadata": {},
   "outputs": [
    {
     "name": "stderr",
     "output_type": "stream",
     "text": [
      "/Users/josephcleveland/Summer/venv/lib/python3.7/site-packages/ipykernel_launcher.py:4: ComplexWarning: Casting complex values to real discards the imaginary part\n",
      "  after removing the cwd from sys.path.\n"
     ]
    },
    {
     "name": "stdout",
     "output_type": "stream",
     "text": [
      "(60999, 64, 64, 1)\n"
     ]
    }
   ],
   "source": [
    "#X_data = signal.resample(X_data, 16384)\n",
    "X_train = np.zeros((60999, 64, 64))\n",
    "for i in range(0, 60999):\n",
    "    X_train[i] = stft(X_data[i],n_fft=1408)[0:64, 0:64]\n",
    "Y_train = Y_data\n",
    "X_train = np.expand_dims(X_train, axis=3)\n",
    "\n",
    "print(X_train.shape)"
   ]
  },
  {
   "cell_type": "code",
   "execution_count": 458,
   "metadata": {},
   "outputs": [],
   "source": [
    "#model = Sequential()\n",
    "#model.add(BatchNormalization())\n",
    "#model.add(Convolution2D(96, kernel_size=(64, 1), strides=(4, 1), padding=\"valid\", activation='relu', data_format=\"channels_last\", input_shape=(16384, 1, 1)))\n",
    "#model.add(Convolution2D(96, kernel_size=(32, 1), strides=(4, 1), padding=\"valid\", activation='relu'))\n",
    "#model.add(Convolution2D(128, kernel_size=(16, 1), strides=(4, 1), padding=\"valid\", activation='relu'))\n",
    "#model.add(Convolution2D(257, kernel_size=(8, 1), strides=(4, 1), padding=\"valid\", activation='relu'))\n",
    "#model.add(Reshape((173, 257, 1)))\n",
    "#model.add(Reshape((61, 257, 1)))\n",
    "#model.add(Convolution2D(32, kernel_size=(3, 3), strides=(2, 2), padding=\"same\", activation='relu'))\n",
    "#model.add(Convolution2D(71, kernel_size=(3, 3), strides=(2, 2), padding=\"same\", activation='relu'))\n",
    "#model.add(Convolution2D(128, kernel_size=(4, 3), strides=(3, 2), padding=\"same\", activation='relu'))\n",
    "#model.add(Convolution2D(128, kernel_size=(3, 3), strides=(2, 2), padding=\"same\", activation='relu'))\n",
    "#model.add(Convolution2D(128, kernel_size=(3, 3), strides=(2, 2), padding=\"same\", activation='relu'))\n",
    "#model.add(Convolution2D(128, kernel_size=(3, 3), strides=(2, 1), padding=\"same\", activation='relu'))\n",
    "#model.add(Flatten())\n",
    "#model.add(Dense(512, activation='relu'))\n",
    "#model.add(Dense(368, activation='relu'))\n",
    "\n",
    "#model.compile(loss='categorical_crossentropy',\n",
    "#              optimizer='adam',\n",
    "#              metrics=['accuracy'])"
   ]
  },
  {
   "cell_type": "code",
   "execution_count": 256,
   "metadata": {},
   "outputs": [],
   "source": [
    "inputs = Input(shape=(64,64,1))\n",
    "\n",
    "# a layer instance is callable on a tensor, and returns a tensor\n",
    "x = BatchNormalization()(inputs)\n",
    "x = Convolution2D(32, kernel_size=(3, 3), strides=(2, 2), padding=\"same\", activation='relu')(x)\n",
    "x = Convolution2D(71, kernel_size=(3, 3), strides=(2, 2), padding=\"same\", activation='relu')(x)\n",
    "x = Convolution2D(128, kernel_size=(4, 3), strides=(3, 2), padding=\"same\", activation='relu')(x)\n",
    "x = Convolution2D(128, kernel_size=(3, 3), strides=(2, 2), padding=\"same\", activation='relu')(x)\n",
    "x = Convolution2D(128, kernel_size=(3, 3), strides=(2, 2), padding=\"same\", activation='relu')(x)\n",
    "x = Convolution2D(128, kernel_size=(3, 3), strides=(2, 1), padding=\"same\", activation='relu')(x)\n",
    "x = Flatten()(x)\n",
    "x = Dense(512, activation='relu')(x)\n",
    "x = Dense(23)(x)\n",
    "# This creates a model that includes\n",
    "# the Input layer and three Dense layers\n",
    "model = Model(inputs=inputs, outputs=x)\n",
    "model.compile(optimizer='adam',\n",
    "              loss='mean_squared_error',\n",
    "              metrics=['accuracy'])"
   ]
  },
  {
   "cell_type": "code",
   "execution_count": 257,
   "metadata": {
    "scrolled": true
   },
   "outputs": [
    {
     "name": "stdout",
     "output_type": "stream",
     "text": [
      "Train on 54899 samples, validate on 6100 samples\n",
      "Epoch 1/10\n",
      "54899/54899 [==============================] - 86s 2ms/sample - loss: 19.2103 - accuracy: 0.0644 - val_loss: 17.8719 - val_accuracy: 0.0803\n",
      "Epoch 2/10\n",
      "54899/54899 [==============================] - 78s 1ms/sample - loss: 17.4221 - accuracy: 0.0837 - val_loss: 16.9683 - val_accuracy: 0.0907\n",
      "Epoch 3/10\n",
      "54899/54899 [==============================] - 83s 2ms/sample - loss: 16.8042 - accuracy: 0.0927 - val_loss: 16.4973 - val_accuracy: 0.0949\n",
      "Epoch 4/10\n",
      "54899/54899 [==============================] - 82s 1ms/sample - loss: 16.3616 - accuracy: 0.1003 - val_loss: 16.5174 - val_accuracy: 0.0972\n",
      "Epoch 5/10\n",
      "54899/54899 [==============================] - 87s 2ms/sample - loss: 16.0301 - accuracy: 0.1060 - val_loss: 16.1193 - val_accuracy: 0.1043\n",
      "Epoch 6/10\n",
      "54899/54899 [==============================] - 88s 2ms/sample - loss: 15.7157 - accuracy: 0.1113 - val_loss: 16.0447 - val_accuracy: 0.1080\n",
      "Epoch 7/10\n",
      "54899/54899 [==============================] - 84s 2ms/sample - loss: 15.4627 - accuracy: 0.1151 - val_loss: 15.9679 - val_accuracy: 0.1198\n",
      "Epoch 8/10\n",
      "54899/54899 [==============================] - 84s 2ms/sample - loss: 15.2247 - accuracy: 0.1204 - val_loss: 15.9361 - val_accuracy: 0.1146\n",
      "Epoch 9/10\n",
      "54899/54899 [==============================] - 83s 2ms/sample - loss: 15.0072 - accuracy: 0.1246 - val_loss: 15.8489 - val_accuracy: 0.1210\n",
      "Epoch 10/10\n",
      "54899/54899 [==============================] - 84s 2ms/sample - loss: 14.8069 - accuracy: 0.1304 - val_loss: 15.9181 - val_accuracy: 0.1162\n"
     ]
    },
    {
     "data": {
      "text/plain": [
       "<tensorflow.python.keras.callbacks.History at 0x13d552320>"
      ]
     },
     "execution_count": 257,
     "metadata": {},
     "output_type": "execute_result"
    }
   ],
   "source": [
    "\n",
    "model.fit(X_train, Y_train, \n",
    "          batch_size=16, epochs=10, verbose=1, validation_split=0.1)"
   ]
  },
  {
   "cell_type": "code",
   "execution_count": 131,
   "metadata": {
    "scrolled": true
   },
   "outputs": [
    {
     "name": "stdout",
     "output_type": "stream",
     "text": [
      "Model: \"model_1\"\n",
      "_________________________________________________________________\n",
      "Layer (type)                 Output Shape              Param #   \n",
      "=================================================================\n",
      "input_3 (InputLayer)         [(None, 64, 64, 1)]       0         \n",
      "_________________________________________________________________\n",
      "batch_normalization_v2_2 (Ba (None, 64, 64, 1)         4         \n",
      "_________________________________________________________________\n",
      "conv2d_6 (Conv2D)            (None, 32, 32, 32)        320       \n",
      "_________________________________________________________________\n",
      "conv2d_7 (Conv2D)            (None, 16, 16, 71)        20519     \n",
      "_________________________________________________________________\n",
      "conv2d_8 (Conv2D)            (None, 6, 8, 128)         109184    \n",
      "_________________________________________________________________\n",
      "conv2d_9 (Conv2D)            (None, 3, 4, 128)         147584    \n",
      "_________________________________________________________________\n",
      "conv2d_10 (Conv2D)           (None, 2, 2, 128)         147584    \n",
      "_________________________________________________________________\n",
      "conv2d_11 (Conv2D)           (None, 1, 2, 128)         147584    \n",
      "_________________________________________________________________\n",
      "flatten_1 (Flatten)          (None, 256)               0         \n",
      "_________________________________________________________________\n",
      "dense_2 (Dense)              (None, 512)               131584    \n",
      "_________________________________________________________________\n",
      "dense_3 (Dense)              (None, 368)               188784    \n",
      "=================================================================\n",
      "Total params: 893,147\n",
      "Trainable params: 893,145\n",
      "Non-trainable params: 2\n",
      "_________________________________________________________________\n",
      "None\n",
      "\n"
     ]
    }
   ],
   "source": [
    "model.build(input_shape=(45056, 1, 1))\n",
    "print(model.summary())\n",
    "print()"
   ]
  },
  {
   "cell_type": "code",
   "execution_count": 258,
   "metadata": {},
   "outputs": [],
   "source": [
    "o = model.predict(X_train)"
   ]
  },
  {
   "cell_type": "code",
   "execution_count": 261,
   "metadata": {
    "scrolled": true
   },
   "outputs": [
    {
     "name": "stdout",
     "output_type": "stream",
     "text": [
      "[ 6.182178   7.0129404  5.2405615  6.3629007  6.918915   6.602991\n",
      "  9.891388   9.643138   7.7352896  8.138434   9.469395  10.418435\n",
      "  4.9191556  5.662291  10.876575   9.983708  10.206257  10.091449\n",
      "  8.344444   7.519502  10.236987   2.6337261  7.840869 ]\n",
      "(60999, 23)\n"
     ]
    }
   ],
   "source": [
    "print(o[1])\n",
    "print(np.shape(o))"
   ]
  },
  {
   "cell_type": "code",
   "execution_count": 227,
   "metadata": {
    "scrolled": true
   },
   "outputs": [
    {
     "name": "stdout",
     "output_type": "stream",
     "text": [
      "[[ 6. 14. 12. ...  3.  0.  1.]\n",
      " [ 6. 14. 12. ...  3.  0.  1.]\n",
      " [ 6. 14. 12. ...  3.  0.  1.]\n",
      " ...\n",
      " [ 6. 14. 12. ...  3.  0.  1.]\n",
      " [ 6. 14. 12. ...  3.  0.  1.]\n",
      " [ 6. 14. 12. ...  3.  0.  1.]]\n"
     ]
    }
   ],
   "source": [
    "group = 0\n",
    "classes = np.zeros((o.shape[0], 23))\n",
    "samp = 1\n",
    "for s in range(0, o.shape[0]):\n",
    "    for i in range(0, 23):\n",
    "        maxVal = o[s, i * 16]\n",
    "        maxI = 0\n",
    "        for j in range(0, 16):\n",
    "            v = o[s, (i*16) + j]\n",
    "            if v > maxVal:\n",
    "                maxVal = o[s, (i*16) + j]\n",
    "                maxI = j\n",
    "        classes[s, i] = maxI\n",
    "print(classes)"
   ]
  },
  {
   "cell_type": "code",
   "execution_count": 228,
   "metadata": {},
   "outputs": [
    {
     "name": "stdout",
     "output_type": "stream",
     "text": [
      "[ 6. 14. 12.  5. 11.  2.  2. 13.  9.  8. 11. 10.  9. 15.  8.  2.  0.  7.\n",
      "  5. 12.  3.  0.  1.]\n",
      "[ 6.  2.  3. 13. 13. 15. 15. 11. 12.  8. 14. 12.  7.  2.  7.  1.  0.  1.\n",
      "  3. 11.  3.  3.  3.]\n"
     ]
    }
   ],
   "source": [
    "print(classes[0])\n",
    "print(mat[0])"
   ]
  },
  {
   "cell_type": "code",
   "execution_count": 229,
   "metadata": {},
   "outputs": [
    {
     "name": "stdout",
     "output_type": "stream",
     "text": [
      "[3.9331307  6.48328267 5.11448835 4.295846   4.99189463 5.87234043\n",
      " 5.77912867 5.80141844 4.03850051 3.91995947 4.67071935 4.35157042\n",
      " 4.17426545 7.41033435 4.01823708 5.93414387 7.48530902 3.9118541\n",
      " 4.45997974 5.29989868 5.06585613 7.42654509 6.42654509]\n"
     ]
    }
   ],
   "source": [
    "average_dist = np.zeros(23)\n",
    "\n",
    "for p in range(0, 23):\n",
    "    dist_total = 0\n",
    "    for i in range(0, 987):\n",
    "        dist_total += np.absolute(classes[i, p] - mat[i, p])\n",
    "    average_dist[p] = dist_total / 987\n",
    "    \n",
    "print(average_dist)\n"
   ]
  },
  {
   "cell_type": "code",
   "execution_count": 594,
   "metadata": {},
   "outputs": [],
   "source": [
    "# Save the weights\n",
    "model.save_weights('model_weights.h5')\n",
    "\n",
    "# Save the model architecture\n",
    "with open('model_architecture.json', 'w') as f:\n",
    "    f.write(model.to_json())"
   ]
  },
  {
   "cell_type": "code",
   "execution_count": null,
   "metadata": {},
   "outputs": [],
   "source": []
  }
 ],
 "metadata": {
  "kernelspec": {
   "display_name": "Python 3",
   "language": "python",
   "name": "python3"
  },
  "language_info": {
   "codemirror_mode": {
    "name": "ipython",
    "version": 3
   },
   "file_extension": ".py",
   "mimetype": "text/x-python",
   "name": "python",
   "nbconvert_exporter": "python",
   "pygments_lexer": "ipython3",
   "version": "3.7.2"
  }
 },
 "nbformat": 4,
 "nbformat_minor": 2
}
