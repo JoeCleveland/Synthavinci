{
 "cells": [
  {
   "cell_type": "code",
   "execution_count": 114,
   "metadata": {},
   "outputs": [],
   "source": [
    "import numpy as np\n",
    "import wave\n",
    "from scipy.io import wavfile\n",
    "from scipy import signal\n",
    "from keras.utils.np_utils import to_categorical\n",
    "from tensorflow.keras.models import Model\n",
    "from tensorflow.keras.layers import Dense, Dropout, Activation, Flatten, Reshape, Input\n",
    "from tensorflow.keras.layers import Convolution2D, BatchNormalization\n",
    "from librosa.core import stft\n",
    "import matplotlib.pyplot as plot\n",
    "import matplotlib.cm as cm"
   ]
  },
  {
   "cell_type": "code",
   "execution_count": 3,
   "metadata": {},
   "outputs": [],
   "source": [
    "def _wav2array(nchannels, sampwidth, data):\n",
    "    \"\"\"data must be the string containing the bytes from the wav file.\"\"\"\n",
    "    num_samples, remainder = divmod(len(data), sampwidth * nchannels)\n",
    "    if remainder > 0:\n",
    "        raise ValueError('The length of data is not a multiple of '\n",
    "                         'sampwidth * num_channels.')\n",
    "    if sampwidth > 4:\n",
    "        raise ValueError(\"sampwidth must not be greater than 4.\")\n",
    "\n",
    "    if sampwidth == 3:\n",
    "        a = np.empty((num_samples, nchannels, 4), dtype=np.uint8)\n",
    "        raw_bytes = np.fromstring(data, dtype=np.uint8)\n",
    "        a[:, :, :sampwidth] = raw_bytes.reshape(-1, nchannels, sampwidth)\n",
    "        a[:, :, sampwidth:] = (a[:, :, sampwidth - 1:sampwidth] >> 7) * 255\n",
    "        result = a.view('<i4').reshape(a.shape[:-1])\n",
    "    else:\n",
    "        # 8 bit samples are stored as unsigned ints; others as signed ints.\n",
    "        dt_char = 'u' if sampwidth == 1 else 'i'\n",
    "        a = np.fromstring(data, dtype='<%s%d' % (dt_char, sampwidth))\n",
    "        result = a.reshape(-1, nchannels)\n",
    "    return result\n",
    "\n",
    "\n",
    "def readwav(file):\n",
    "    \"\"\"\n",
    "    Read a wav file.\n",
    "    Returns the frame rate, sample width (in bytes) and a numpy array\n",
    "    containing the data.\n",
    "    This function does not read compressed wav files.\n",
    "    \"\"\"\n",
    "    wav = wave.open(file)\n",
    "    rate = wav.getframerate()\n",
    "    nchannels = wav.getnchannels()\n",
    "    sampwidth = wav.getsampwidth()\n",
    "    nframes = wav.getnframes()\n",
    "    data = wav.readframes(nframes)\n",
    "    wav.close()\n",
    "    array = _wav2array(nchannels, sampwidth, data)\n",
    "    return rate, sampwidth, array"
   ]
  },
  {
   "cell_type": "code",
   "execution_count": 126,
   "metadata": {},
   "outputs": [
    {
     "name": "stdout",
     "output_type": "stream",
     "text": [
      "(55000, 45056)\n"
     ]
    },
    {
     "name": "stderr",
     "output_type": "stream",
     "text": [
      "/Users/josephcleveland/Summer/venv/lib/python3.7/site-packages/ipykernel_launcher.py:19: DeprecationWarning: The binary mode of fromstring is deprecated, as it behaves surprisingly on unicode inputs. Use frombuffer instead\n"
     ]
    }
   ],
   "source": [
    "X_data = np.zeros(shape=(55000,45056))\n",
    "print(X_data.shape)\n",
    "\n",
    "for r in range(0, 55000):\n",
    "    audio = readwav('/Users/josephcleveland/Dataset/samp' + str(r) + '.wav')[2]\n",
    "    audio = audio.T[0]\n",
    "    if(audio.shape != 45056):\n",
    "        padded = np.zeros(shape=(45056))\n",
    "        padded[:np.shape(audio)[0]] = audio\n",
    "        audio = padded\n",
    "    X_data[r] = audio\n",
    "    \n"
   ]
  },
  {
   "cell_type": "code",
   "execution_count": 170,
   "metadata": {
    "scrolled": true
   },
   "outputs": [
    {
     "name": "stdout",
     "output_type": "stream",
     "text": [
      "(705, 65)\n"
     ]
    },
    {
     "data": {
      "image/png": "[encoded data removed]",
      "text/plain": [
       "<Figure size 432x288 with 1 Axes>"
      ]
     },
     "metadata": {
      "needs_background": "light"
     },
     "output_type": "display_data"
    }
   ],
   "source": [
    "spect = stft(X_data[200],n_fft=1408, hop_length=703)\n",
    "print(spect.shape)\n",
    "plot.imshow(spect.real[0:64], aspect='auto')\n",
    "plot.show()"
   ]
  },
  {
   "cell_type": "code",
   "execution_count": 127,
   "metadata": {},
   "outputs": [],
   "source": [
    "Y_data = np.zeros(shape=(55000, 368))\n",
    "mat = np.genfromtxt('/Users/josephcleveland/Dataset/mat.txt', delimiter=',')\n",
    "for i in range(0, 55000):\n",
    "    onehot = to_categorical(mat[i], 16)\n",
    "    Y_data[i] = onehot.ravel()"
   ]
  },
  {
   "cell_type": "code",
   "execution_count": 128,
   "metadata": {},
   "outputs": [
    {
     "name": "stderr",
     "output_type": "stream",
     "text": [
      "/Users/josephcleveland/Summer/venv/lib/python3.7/site-packages/ipykernel_launcher.py:4: ComplexWarning: Casting complex values to real discards the imaginary part\n",
      "  after removing the cwd from sys.path.\n"
     ]
    },
    {
     "name": "stdout",
     "output_type": "stream",
     "text": [
      "(55000, 64, 64, 1)\n"
     ]
    }
   ],
   "source": [
    "#X_data = signal.resample(X_data, 16384)\n",
    "X_train = np.zeros((55000, 64, 64))\n",
    "for i in range(0, 55000):\n",
    "    X_train[i] = stft(X_data[i],n_fft=1408, hop_length=704)[0:64, 0:64]\n",
    "Y_train = Y_data\n",
    "X_train = np.expand_dims(X_train, axis=3)\n",
    "\n",
    "print(X_train.shape)"
   ]
  },
  {
   "cell_type": "code",
   "execution_count": 458,
   "metadata": {},
   "outputs": [],
   "source": [
    "#model = Sequential()\n",
    "#model.add(BatchNormalization())\n",
    "#model.add(Convolution2D(96, kernel_size=(64, 1), strides=(4, 1), padding=\"valid\", activation='relu', data_format=\"channels_last\", input_shape=(16384, 1, 1)))\n",
    "#model.add(Convolution2D(96, kernel_size=(32, 1), strides=(4, 1), padding=\"valid\", activation='relu'))\n",
    "#model.add(Convolution2D(128, kernel_size=(16, 1), strides=(4, 1), padding=\"valid\", activation='relu'))\n",
    "#model.add(Convolution2D(257, kernel_size=(8, 1), strides=(4, 1), padding=\"valid\", activation='relu'))\n",
    "#model.add(Reshape((173, 257, 1)))\n",
    "#model.add(Reshape((61, 257, 1)))\n",
    "#model.add(Convolution2D(32, kernel_size=(3, 3), strides=(2, 2), padding=\"same\", activation='relu'))\n",
    "#model.add(Convolution2D(71, kernel_size=(3, 3), strides=(2, 2), padding=\"same\", activation='relu'))\n",
    "#model.add(Convolution2D(128, kernel_size=(4, 3), strides=(3, 2), padding=\"same\", activation='relu'))\n",
    "#model.add(Convolution2D(128, kernel_size=(3, 3), strides=(2, 2), padding=\"same\", activation='relu'))\n",
    "#model.add(Convolution2D(128, kernel_size=(3, 3), strides=(2, 2), padding=\"same\", activation='relu'))\n",
    "#model.add(Convolution2D(128, kernel_size=(3, 3), strides=(2, 1), padding=\"same\", activation='relu'))\n",
    "#model.add(Flatten())\n",
    "#model.add(Dense(512, activation='relu'))\n",
    "#model.add(Dense(368, activation='relu'))\n",
    "\n",
    "#model.compile(loss='categorical_crossentropy',\n",
    "#              optimizer='adam',\n",
    "#              metrics=['accuracy'])"
   ]
  },
  {
   "cell_type": "code",
   "execution_count": 129,
   "metadata": {},
   "outputs": [],
   "source": [
    "inputs = Input(shape=(64,64,1))\n",
    "\n",
    "# a layer instance is callable on a tensor, and returns a tensor\n",
    "x = BatchNormalization()(inputs)\n",
    "x = Convolution2D(32, kernel_size=(3, 3), strides=(2, 2), padding=\"same\", activation='relu')(x)\n",
    "x = Convolution2D(71, kernel_size=(3, 3), strides=(2, 2), padding=\"same\", activation='relu')(x)\n",
    "x = Convolution2D(128, kernel_size=(4, 3), strides=(3, 2), padding=\"same\", activation='relu')(x)\n",
    "x = Convolution2D(128, kernel_size=(3, 3), strides=(2, 2), padding=\"same\", activation='relu')(x)\n",
    "x = Convolution2D(128, kernel_size=(3, 3), strides=(2, 2), padding=\"same\", activation='relu')(x)\n",
    "x = Convolution2D(128, kernel_size=(3, 3), strides=(2, 1), padding=\"same\", activation='relu')(x)\n",
    "x = Flatten()(x)\n",
    "x = Dense(512, activation='relu')(x)\n",
    "x = Dense(368, activation='sigmoid')(x)\n",
    "# This creates a model that includes\n",
    "# the Input layer and three Dense layers\n",
    "model = Model(inputs=inputs, outputs=x)\n",
    "model.compile(optimizer='adam',\n",
    "              loss='binary_crossentropy',\n",
    "              metrics=['accuracy'])"
   ]
  },
  {
   "cell_type": "code",
   "execution_count": 138,
   "metadata": {
    "scrolled": true
   },
   "outputs": [
    {
     "name": "stdout",
     "output_type": "stream",
     "text": [
      "Train on 49500 samples, validate on 5500 samples\n",
      "Epoch 1/10\n",
      "49500/49500 [==============================] - 76s 2ms/sample - loss: 0.2235 - accuracy: 0.9380 - val_loss: 0.2209 - val_accuracy: 0.9384\n",
      "Epoch 2/10\n",
      "49500/49500 [==============================] - 77s 2ms/sample - loss: 0.2197 - accuracy: 0.9385 - val_loss: 0.2187 - val_accuracy: 0.9386\n",
      "Epoch 3/10\n",
      "49500/49500 [==============================] - 78s 2ms/sample - loss: 0.2176 - accuracy: 0.9389 - val_loss: 0.2174 - val_accuracy: 0.9388\n",
      "Epoch 4/10\n",
      "49500/49500 [==============================] - 80s 2ms/sample - loss: 0.2161 - accuracy: 0.9391 - val_loss: 0.2163 - val_accuracy: 0.9390\n",
      "Epoch 5/10\n",
      "49500/49500 [==============================] - 78s 2ms/sample - loss: 0.2148 - accuracy: 0.9394 - val_loss: 0.2156 - val_accuracy: 0.9392\n",
      "Epoch 6/10\n",
      "49500/49500 [==============================] - 75s 2ms/sample - loss: 0.2137 - accuracy: 0.9395 - val_loss: 0.2153 - val_accuracy: 0.9392\n",
      "Epoch 7/10\n",
      "49500/49500 [==============================] - 77s 2ms/sample - loss: 0.2129 - accuracy: 0.9397 - val_loss: 0.2144 - val_accuracy: 0.9395\n",
      "Epoch 8/10\n",
      "49500/49500 [==============================] - 78s 2ms/sample - loss: 0.2121 - accuracy: 0.9398 - val_loss: 0.2142 - val_accuracy: 0.9395\n",
      "Epoch 9/10\n",
      "49500/49500 [==============================] - 82s 2ms/sample - loss: 0.2112 - accuracy: 0.9400 - val_loss: 0.2142 - val_accuracy: 0.9395\n",
      "Epoch 10/10\n",
      "49500/49500 [==============================] - 83s 2ms/sample - loss: 0.2106 - accuracy: 0.9401 - val_loss: 0.2141 - val_accuracy: 0.9395\n"
     ]
    },
    {
     "data": {
      "text/plain": [
       "<tensorflow.python.keras.callbacks.History at 0x113a117f0>"
      ]
     },
     "execution_count": 138,
     "metadata": {},
     "output_type": "execute_result"
    }
   ],
   "source": [
    "\n",
    "model.fit(X_train, Y_train, \n",
    "          batch_size=16, epochs=10, verbose=1, validation_split=0.1)"
   ]
  },
  {
   "cell_type": "code",
   "execution_count": 131,
   "metadata": {
    "scrolled": true
   },
   "outputs": [
    {
     "name": "stdout",
     "output_type": "stream",
     "text": [
      "Model: \"model_1\"\n",
      "_________________________________________________________________\n",
      "Layer (type)                 Output Shape              Param #   \n",
      "=================================================================\n",
      "input_3 (InputLayer)         [(None, 64, 64, 1)]       0         \n",
      "_________________________________________________________________\n",
      "batch_normalization_v2_2 (Ba (None, 64, 64, 1)         4         \n",
      "_________________________________________________________________\n",
      "conv2d_6 (Conv2D)            (None, 32, 32, 32)        320       \n",
      "_________________________________________________________________\n",
      "conv2d_7 (Conv2D)            (None, 16, 16, 71)        20519     \n",
      "_________________________________________________________________\n",
      "conv2d_8 (Conv2D)            (None, 6, 8, 128)         109184    \n",
      "_________________________________________________________________\n",
      "conv2d_9 (Conv2D)            (None, 3, 4, 128)         147584    \n",
      "_________________________________________________________________\n",
      "conv2d_10 (Conv2D)           (None, 2, 2, 128)         147584    \n",
      "_________________________________________________________________\n",
      "conv2d_11 (Conv2D)           (None, 1, 2, 128)         147584    \n",
      "_________________________________________________________________\n",
      "flatten_1 (Flatten)          (None, 256)               0         \n",
      "_________________________________________________________________\n",
      "dense_2 (Dense)              (None, 512)               131584    \n",
      "_________________________________________________________________\n",
      "dense_3 (Dense)              (None, 368)               188784    \n",
      "=================================================================\n",
      "Total params: 893,147\n",
      "Trainable params: 893,145\n",
      "Non-trainable params: 2\n",
      "_________________________________________________________________\n",
      "None\n",
      "\n"
     ]
    }
   ],
   "source": [
    "model.build(input_shape=(45056, 1, 1))\n",
    "print(model.summary())\n",
    "print()"
   ]
  },
  {
   "cell_type": "code",
   "execution_count": 139,
   "metadata": {},
   "outputs": [],
   "source": [
    "o = model.predict(X_train)"
   ]
  },
  {
   "cell_type": "code",
   "execution_count": 140,
   "metadata": {
    "scrolled": true
   },
   "outputs": [
    {
     "name": "stdout",
     "output_type": "stream",
     "text": [
      "[6.81742430e-02 4.67412174e-02 5.16628325e-02 5.81895113e-02\n",
      " 4.86250222e-02 5.52349389e-02 6.12243116e-02 5.70524335e-02\n",
      " 7.45715201e-02 6.00785613e-02 5.62972426e-02 5.74122965e-02\n",
      " 8.26671422e-02 6.54866099e-02 8.77043605e-02 7.40516484e-02\n",
      " 5.71505427e-02 4.68797982e-02 4.47187126e-02 5.65732419e-02\n",
      " 4.70722020e-02 4.72427309e-02 5.30408025e-02 6.29966259e-02\n",
      " 7.48458803e-02 5.32818735e-02 5.96919656e-02 7.20404387e-02\n",
      " 9.78095531e-02 1.01811051e-01 8.88222754e-02 6.64515495e-02\n",
      " 6.33488894e-02 4.15005088e-02 6.87638521e-02 5.45944571e-02\n",
      " 6.40927851e-02 5.91015518e-02 4.74144220e-02 6.80345595e-02\n",
      " 5.70266843e-02 5.72921634e-02 4.66547310e-02 7.38001466e-02\n",
      " 1.03277653e-01 8.67771804e-02 6.52872324e-02 5.52042425e-02\n",
      " 8.34337473e-02 5.52970767e-02 6.11429513e-02 6.28243685e-02\n",
      " 5.97711205e-02 7.26459920e-02 5.66440821e-02 5.41280210e-02\n",
      " 6.51828647e-02 6.20601177e-02 4.46909666e-02 5.32801747e-02\n",
      " 7.65368342e-02 5.40209115e-02 6.79087937e-02 7.02219903e-02\n",
      " 5.21130264e-02 1.04539692e-01 5.05111814e-02 4.34448123e-02\n",
      " 6.88120425e-02 1.11986756e-01 6.25392497e-02 5.08636832e-02\n",
      " 8.36918056e-02 5.62059283e-02 5.57198822e-02 5.93530238e-02\n",
      " 5.44956923e-02 3.42493653e-02 5.66982627e-02 5.19227087e-02\n",
      " 5.80567718e-02 1.18387610e-01 7.90372193e-02 3.93760502e-02\n",
      " 7.94176459e-02 1.14892960e-01 7.52227008e-02 5.09268641e-02\n",
      " 5.87828457e-02 4.94533777e-02 5.15992045e-02 4.30999100e-02\n",
      " 4.81316447e-02 4.11630273e-02 6.59847856e-02 4.58792746e-02\n",
      " 4.31199968e-02 1.09479219e-01 5.31738698e-02 6.70854151e-02\n",
      " 5.00519872e-02 1.60792589e-01 7.46490359e-02 6.49282336e-02\n",
      " 6.81541562e-02 4.52840924e-02 4.09559608e-02 5.29482961e-02\n",
      " 3.66754234e-02 4.18542325e-02 4.71976995e-02 3.46934199e-02\n",
      " 8.18758905e-02 9.71485674e-02 6.59361184e-02 5.13921678e-02\n",
      " 6.15900755e-02 9.83265936e-02 7.86763132e-02 8.25968683e-02\n",
      " 3.75476182e-02 4.50157821e-02 4.06741798e-02 3.56068909e-02\n",
      " 4.11299765e-02 5.26956618e-02 6.74346983e-02 6.42521977e-02\n",
      " 9.00508761e-02 1.13450408e-01 1.18294716e-01 8.64905715e-02\n",
      " 7.34289885e-02 7.35679269e-02 6.50228858e-02 9.39972699e-02\n",
      " 5.64096272e-02 5.51004410e-02 3.65432501e-02 3.41434479e-02\n",
      " 3.54155004e-02 2.94504166e-02 3.59770358e-02 2.58268714e-02\n",
      " 9.05065536e-02 9.82970893e-02 9.27989781e-02 6.82579577e-02\n",
      " 1.19156420e-01 8.56782794e-02 6.02256954e-02 4.57193851e-02\n",
      " 7.17681646e-02 6.09017015e-02 5.53092062e-02 3.68149281e-02\n",
      " 3.55310440e-02 2.48357952e-02 3.62425148e-02 3.34582031e-02\n",
      " 1.18017763e-01 1.29438221e-01 9.14340615e-02 1.02735668e-01\n",
      " 8.47370028e-02 6.83497488e-02 6.76606297e-02 3.19561958e-02\n",
      " 7.41114914e-02 4.60436940e-02 4.47242260e-02 3.74709666e-02\n",
      " 2.54986584e-02 2.51922309e-02 3.49396169e-02 2.09935606e-02\n",
      " 6.42487109e-02 6.00931644e-02 6.82720542e-02 7.25366771e-02\n",
      " 6.09205067e-02 4.51698899e-02 7.04977512e-02 6.59389496e-02\n",
      " 5.18349409e-02 7.01463521e-02 5.57983518e-02 6.73224926e-02\n",
      " 4.36780453e-02 5.25711477e-02 5.87677062e-02 6.71009421e-02\n",
      " 1.45556748e-01 2.06353962e-01 1.18893802e-01 6.24848604e-02\n",
      " 4.95449007e-02 3.99204195e-02 5.22060096e-02 3.51996720e-02\n",
      " 3.16315889e-02 3.11287344e-02 4.51006293e-02 1.03578717e-01\n",
      " 7.69766271e-02 4.13806736e-02 3.99910510e-02 3.41523886e-02\n",
      " 1.21668041e-01 1.61556005e-01 1.05859131e-01 9.63864326e-02\n",
      " 6.92823529e-02 4.03406024e-02 4.00601923e-02 3.45292389e-02\n",
      " 3.95026207e-02 3.83797288e-02 5.62139153e-02 5.65086603e-02\n",
      " 7.67897964e-02 4.85369861e-02 4.36445475e-02 5.10004759e-02\n",
      " 7.46209323e-02 1.94707990e-01 7.87478089e-02 5.77881932e-02\n",
      " 6.82150722e-02 3.93297672e-02 5.96045554e-02 4.25701737e-02\n",
      " 4.00073528e-02 6.10491335e-02 4.02933359e-02 6.40084147e-02\n",
      " 9.42983031e-02 4.99366522e-02 4.64554131e-02 5.06454408e-02\n",
      " 6.55642450e-02 1.37212813e-01 5.97144365e-02 4.53775227e-02\n",
      " 6.60487413e-02 6.03285432e-02 5.59210181e-02 5.29527366e-02\n",
      " 3.43160629e-02 6.08156323e-02 5.04803061e-02 5.46948314e-02\n",
      " 5.01326621e-02 6.51637912e-02 5.68322539e-02 4.36089337e-02\n",
      " 1.46836042e-04 2.35915184e-04 1.06483698e-04 1.37513876e-03\n",
      " 2.63184309e-04 7.18355179e-04 7.23749399e-04 7.71340728e-03\n",
      " 5.83752990e-03 1.69930756e-02 2.07432538e-01 4.42065209e-01\n",
      " 3.19714367e-01 4.56685424e-02 5.63994050e-03 6.44266605e-04\n",
      " 8.72543454e-03 6.43303990e-03 8.69700313e-03 5.81888258e-02\n",
      " 4.15772766e-01 4.04779732e-01 1.61762238e-01 5.64439595e-02\n",
      " 1.05920136e-02 1.36393309e-03 4.95851040e-04 5.89340925e-04\n",
      " 4.73022461e-04 1.95980072e-04 4.53770161e-04 2.89678574e-05\n",
      " 7.08622336e-02 7.64003396e-03 5.83708286e-02 7.86454082e-02\n",
      " 7.72521794e-02 7.94715583e-02 4.86854911e-02 5.53554296e-02\n",
      " 5.70800304e-02 8.00928473e-02 4.50213850e-02 5.64127266e-02\n",
      " 6.32992089e-02 7.00061917e-02 8.30313265e-02 6.34215474e-02\n",
      " 7.82783628e-02 5.58777750e-02 6.62985146e-02 6.00536168e-02\n",
      " 6.03722632e-02 5.52413464e-02 7.45701492e-02 6.33653998e-02\n",
      " 5.03970981e-02 6.20842278e-02 6.17968440e-02 6.85954392e-02\n",
      " 4.34409678e-02 6.77101314e-02 1.00833714e-01 4.57461476e-02\n",
      " 1.66516602e-01 3.01335156e-02 5.56878150e-02 3.99879217e-02\n",
      " 5.28868139e-02 1.07195675e-01 5.58292866e-02 8.35739970e-02\n",
      " 7.20588565e-02 4.92251813e-02 4.26103771e-02 4.86004651e-02\n",
      " 4.15389538e-02 2.85715461e-02 2.87846923e-02 2.76833475e-02\n",
      " 9.07810926e-01 7.29081035e-02 3.46986651e-02 1.17759705e-02\n",
      " 1.18681490e-02 6.68552518e-03 5.41585684e-03 3.60259414e-03\n",
      " 1.85108185e-03 3.35496664e-03 1.37653947e-03 2.24071741e-03\n",
      " 1.53407454e-03 5.70446253e-04 1.07622147e-03 1.40702724e-03\n",
      " 5.68092465e-02 5.85757494e-02 7.84011483e-02 5.48287034e-02\n",
      " 4.76318300e-02 5.16970456e-02 3.30817401e-02 3.58808637e-02\n",
      " 5.49875498e-02 6.27727509e-02 6.45474792e-02 7.05003142e-02\n",
      " 5.86050749e-02 7.13438690e-02 7.00933635e-02 8.93508494e-02]\n",
      "(55000, 368)\n"
     ]
    }
   ],
   "source": [
    "print(o[8])\n",
    "print(np.shape(o))"
   ]
  },
  {
   "cell_type": "code",
   "execution_count": 141,
   "metadata": {},
   "outputs": [
    {
     "name": "stdout",
     "output_type": "stream",
     "text": [
      "[[ 6.  8.  4. ...  3. 11. 13.]\n",
      " [ 3.  5.  4. ...  4.  2. 13.]\n",
      " [ 8.  5.  4. ...  0.  0. 15.]\n",
      " ...\n",
      " [12. 15. 13. ...  3.  2.  2.]\n",
      " [14.  8.  4. ...  5.  2.  1.]\n",
      " [ 5.  8.  4. ...  4. 15.  1.]]\n"
     ]
    }
   ],
   "source": [
    "group = 0\n",
    "classes = np.zeros((o.shape[0], 23))\n",
    "samp = 1\n",
    "for s in range(0, o.shape[0]):\n",
    "    for i in range(0, 23):\n",
    "        maxVal = o[s, i * 16]\n",
    "        maxI = 0\n",
    "        for j in range(0, 16):\n",
    "            v = o[s, (i*16) + j]\n",
    "            if v > maxVal:\n",
    "                maxVal = o[s, (i*16) + j]\n",
    "                maxI = j\n",
    "        classes[s, i] = maxI\n",
    "print(classes)"
   ]
  },
  {
   "cell_type": "code",
   "execution_count": 147,
   "metadata": {},
   "outputs": [
    {
     "name": "stdout",
     "output_type": "stream",
     "text": [
      "[[ 6.  2.  8. ...  3. 13. 14.]\n",
      " [ 4. 10. 10. ...  8.  3. 10.]\n",
      " [ 5.  4.  3. ...  6.  0.  3.]\n",
      " ...\n",
      " [ 1.  1. 11. ...  6.  3. 10.]\n",
      " [ 8.  2. 12. ... 13. 12. 15.]\n",
      " [13. 14. 14. ...  8.  0.  4.]]\n",
      "[ 3. 15.  5. 14. 10. 14. 13. 13.  6. 10.  8. 15. 15. 15. 15.  0.  7.  8.\n",
      " 14.  0.  3.  2. 11.]\n",
      "[ 1. 10. 15.  4. 14.  1. 10. 11.  1. 10. 14. 12.  7.  0. 10.  6.  8.  8.\n",
      " 11.  4.  2.  7.  8.]\n"
     ]
    }
   ],
   "source": [
    "print(mat)\n",
    "print(classes[4386])\n",
    "print(mat[4386])"
   ]
  },
  {
   "cell_type": "code",
   "execution_count": 143,
   "metadata": {},
   "outputs": [
    {
     "name": "stdout",
     "output_type": "stream",
     "text": [
      "[4.704 5.232 4.474 5.285 4.134 4.001 3.748 4.598 4.203 4.294 3.511 4.575\n",
      " 4.1   4.542 3.483 4.559 0.23  0.767 4.821 5.197 3.438 2.739 5.157]\n"
     ]
    }
   ],
   "source": [
    "average_dist = np.zeros(23)\n",
    "\n",
    "for p in range(0, 23):\n",
    "    dist_total = 0\n",
    "    for i in range(0, 1000):\n",
    "        dist_total += np.absolute(classes[i, p] - mat[i, p])\n",
    "    average_dist[p] = dist_total / 1000\n",
    "    \n",
    "print(average_dist)\n"
   ]
  },
  {
   "cell_type": "code",
   "execution_count": 594,
   "metadata": {},
   "outputs": [],
   "source": [
    "# Save the weights\n",
    "model.save_weights('model_weights.h5')\n",
    "\n",
    "# Save the model architecture\n",
    "with open('model_architecture.json', 'w') as f:\n",
    "    f.write(model.to_json())"
   ]
  },
  {
   "cell_type": "code",
   "execution_count": null,
   "metadata": {},
   "outputs": [],
   "source": []
  }
 ],
 "metadata": {
  "kernelspec": {
   "display_name": "Python 3",
   "language": "python",
   "name": "python3"
  },
  "language_info": {
   "codemirror_mode": {
    "name": "ipython",
    "version": 3
   },
   "file_extension": ".py",
   "mimetype": "text/x-python",
   "name": "python",
   "nbconvert_exporter": "python",
   "pygments_lexer": "ipython3",
   "version": "3.7.2"
  }
 },
 "nbformat": 4,
 "nbformat_minor": 2
}
