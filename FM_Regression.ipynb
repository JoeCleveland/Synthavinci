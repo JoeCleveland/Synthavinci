{
 "cells": [
  {
   "cell_type": "code",
   "execution_count": 1,
   "metadata": {},
   "outputs": [
    {
     "name": "stderr",
     "output_type": "stream",
     "text": [
      "Using TensorFlow backend.\n"
     ]
    }
   ],
   "source": [
    "import numpy as np\n",
    "import wave\n",
    "from scipy.io import wavfile\n",
    "from scipy import signal\n",
    "from keras.utils.np_utils import to_categorical\n",
    "from tensorflow.keras.models import Model\n",
    "from tensorflow.keras.layers import Dense, Dropout, Activation, Flatten, Reshape, Input\n",
    "from tensorflow.keras.layers import Convolution2D, BatchNormalization\n",
    "from librosa.core import stft\n",
    "import librosa\n",
    "import librosa.display\n",
    "import matplotlib.pyplot as plt\n",
    "import matplotlib.cm as cm\n",
    "import tensorflow.keras.backend as K\n",
    "from tensorflow.keras import optimizers\n",
    "import datagen\n",
    "import wavload\n",
    "from sklearn.ensemble import RandomForestRegressor\n",
    "from sklearn.datasets import make_regression"
   ]
  },
  {
   "cell_type": "code",
   "execution_count": 2,
   "metadata": {},
   "outputs": [
    {
     "name": "stdout",
     "output_type": "stream",
     "text": [
      "(20000, 67584)\n"
     ]
    }
   ],
   "source": [
    "num_data = 20000\n",
    "num_params = 16\n",
    "samp_length = 67584\n",
    "\n",
    "X_data = np.zeros(shape=(num_data,samp_length))\n",
    "print(X_data.shape)\n",
    "\n",
    "for r in range(0, num_data):\n",
    "    audio = wavload.readwav('/Users/josephcleveland/FMData/samp' + str(r) + '.wav')[2]\n",
    "    audio = audio.T[0]\n",
    "    if(audio.shape != samp_length):\n",
    "        padded = np.zeros(shape=(samp_length))\n",
    "        padded[:np.shape(audio)[0]] = audio\n",
    "        audio = padded\n",
    "    X_data[r] = audio\n",
    "    "
   ]
  },
  {
   "cell_type": "code",
   "execution_count": 134,
   "metadata": {
    "scrolled": true
   },
   "outputs": [
    {
     "data": {
      "image/png": "[encoded data removed]",
      "text/plain": [
       "<Figure size 432x288 with 2 Axes>"
      ]
     },
     "metadata": {
      "needs_background": "light"
     },
     "output_type": "display_data"
    }
   ],
   "source": [
    "Spectogram = np.abs(librosa.feature.melspectrogram(X_data[2000], sr=44100, n_mels=128))\n",
    "librosa.display.specshow(librosa.amplitude_to_db(Spectogram,\n",
    "                        ref=np.max),\n",
    "                          y_axis='mel', x_axis='time')\n",
    "plt.title('Power spectrogram')\n",
    "plt.colorbar(format='%+2.0f dB')\n",
    "plt.tight_layout()"
   ]
  },
  {
   "cell_type": "code",
   "execution_count": 3,
   "metadata": {},
   "outputs": [
    {
     "name": "stdout",
     "output_type": "stream",
     "text": [
      "(20000, 16)\n"
     ]
    }
   ],
   "source": [
    "Y_data = np.zeros(shape=(num_data))\n",
    "mat = np.genfromtxt('/Users/josephcleveland/FMData/mat.txt', delimiter=',')\n",
    "print(mat.shape)\n",
    "Y_data = mat\n",
    "Y_train = Y_data\n",
    "#for i in range(0, 10000):\n",
    "#    onehot = to_categorical(mat[i], 16)\n",
    "#    Y_data[i] = onehot.ravel()"
   ]
  },
  {
   "cell_type": "code",
   "execution_count": 150,
   "metadata": {},
   "outputs": [
    {
     "name": "stderr",
     "output_type": "stream",
     "text": [
      "/Users/josephcleveland/Summer/venv/lib/python3.7/site-packages/ipykernel_launcher.py:4: ComplexWarning: Casting complex values to real discards the imaginary part\n",
      "  after removing the cwd from sys.path.\n"
     ]
    },
    {
     "name": "stdout",
     "output_type": "stream",
     "text": [
      "(20000, 64, 64, 1)\n",
      "(20000, 16)\n",
      "[0.34375 0.03125 0.4375  ... 0.65625 0.4375  0.03125]\n"
     ]
    }
   ],
   "source": [
    "\n",
    "X_train = np.zeros((num_data, 64, 64))\n",
    "for i in range(0, num_data):\n",
    "    X_train[i] = stft(X_data[i],n_fft=1408)[0:64, 0:64]\n",
    "X_train = np.expand_dims(X_train, axis=3)\n",
    "\n",
    "Y_train[:, 0] = Y_train[:, 0]/32\n",
    "print(X_train.shape)\n",
    "print(Y_train.shape)\n",
    "print(Y_train[:, 0])"
   ]
  },
  {
   "cell_type": "code",
   "execution_count": 110,
   "metadata": {},
   "outputs": [
    {
     "name": "stdout",
     "output_type": "stream",
     "text": [
      "[[[-2.00806671e+02]\n",
      "  [-3.55063995e+02]\n",
      "  [-9.79410477e+01]\n",
      "  ...\n",
      "  [ 5.87722314e+03]\n",
      "  [ 4.23114453e+03]\n",
      "  [ 2.43139038e+02]]\n",
      "\n",
      " [[-2.08325825e+01]\n",
      "  [ 2.56033630e+02]\n",
      "  [ 1.03052208e+02]\n",
      "  ...\n",
      "  [-4.28779736e+03]\n",
      "  [-7.13751038e+02]\n",
      "  [-7.48981079e+02]]\n",
      "\n",
      " [[ 2.83232178e+02]\n",
      "  [-3.81334137e+02]\n",
      "  [ 2.98087280e+02]\n",
      "  ...\n",
      "  [ 1.51718789e+04]\n",
      "  [ 8.61241016e+03]\n",
      "  [-4.00370020e+03]]\n",
      "\n",
      " ...\n",
      "\n",
      " [[ 2.49706936e+01]\n",
      "  [-4.41311836e+00]\n",
      "  [-1.06559253e+03]\n",
      "  ...\n",
      "  [ 2.10568335e+03]\n",
      "  [ 6.91529443e+03]\n",
      "  [ 2.45063187e+02]]\n",
      "\n",
      " [[-2.88655758e+00]\n",
      "  [ 8.24961975e+02]\n",
      "  [-3.10945508e+03]\n",
      "  ...\n",
      "  [ 1.55984951e+04]\n",
      "  [-3.63758203e+04]\n",
      "  [-1.88124258e+04]]\n",
      "\n",
      " [[-3.57541580e+01]\n",
      "  [ 5.74109253e+02]\n",
      "  [ 7.37528906e+03]\n",
      "  ...\n",
      "  [-3.35154023e+04]\n",
      "  [ 8.34520234e+04]\n",
      "  [ 7.23578438e+04]]]\n"
     ]
    }
   ],
   "source": [
    "print(X_train[0])"
   ]
  },
  {
   "cell_type": "code",
   "execution_count": 40,
   "metadata": {},
   "outputs": [
    {
     "name": "stderr",
     "output_type": "stream",
     "text": [
      "/Users/josephcleveland/Summer/venv/lib/python3.7/site-packages/ipykernel_launcher.py:3: ComplexWarning: Casting complex values to real discards the imaginary part\n",
      "  This is separate from the ipykernel package so we can avoid doing imports until\n"
     ]
    },
    {
     "data": {
      "text/plain": [
       "RandomForestRegressor(bootstrap=True, criterion='mse', max_depth=2,\n",
       "                      max_features='auto', max_leaf_nodes=None,\n",
       "                      min_impurity_decrease=0.0, min_impurity_split=None,\n",
       "                      min_samples_leaf=1, min_samples_split=2,\n",
       "                      min_weight_fraction_leaf=0.0, n_estimators=100,\n",
       "                      n_jobs=None, oob_score=False, random_state=0, verbose=0,\n",
       "                      warm_start=False)"
      ]
     },
     "execution_count": 40,
     "metadata": {},
     "output_type": "execute_result"
    }
   ],
   "source": [
    "X_train = np.zeros((num_data, 4096))\n",
    "for i in range(0, num_data):\n",
    "    X_train[i] = stft(X_data[i],n_fft=1408)[0:64, 0:64].ravel()\n",
    "\n",
    "regr = RandomForestRegressor(max_depth=2, random_state=0,\n",
    "                              n_estimators=100)\n",
    "regr.fit(X_train, Y_train)\n"
   ]
  },
  {
   "cell_type": "code",
   "execution_count": 104,
   "metadata": {},
   "outputs": [
    {
     "ename": "ValueError",
     "evalue": "Found array with dim 4. Estimator expected <= 2.",
     "output_type": "error",
     "traceback": [
      "\u001b[0;31m---------------------------------------------------------------------------\u001b[0m",
      "\u001b[0;31mValueError\u001b[0m                                Traceback (most recent call last)",
      "\u001b[0;32m<ipython-input-104-e6f5cb6f7b8d>\u001b[0m in \u001b[0;36m<module>\u001b[0;34m\u001b[0m\n\u001b[0;32m----> 1\u001b[0;31m \u001b[0mo\u001b[0m \u001b[0;34m=\u001b[0m \u001b[0mregr\u001b[0m\u001b[0;34m.\u001b[0m\u001b[0mpredict\u001b[0m\u001b[0;34m(\u001b[0m\u001b[0mX_train\u001b[0m\u001b[0;34m)\u001b[0m\u001b[0;34m\u001b[0m\u001b[0;34m\u001b[0m\u001b[0m\n\u001b[0m\u001b[1;32m      2\u001b[0m \u001b[0;34m\u001b[0m\u001b[0m\n\u001b[1;32m      3\u001b[0m \u001b[0mdist_total\u001b[0m \u001b[0;34m=\u001b[0m \u001b[0;36m0\u001b[0m\u001b[0;34m\u001b[0m\u001b[0;34m\u001b[0m\u001b[0m\n\u001b[1;32m      4\u001b[0m \u001b[0;32mfor\u001b[0m \u001b[0mi\u001b[0m \u001b[0;32min\u001b[0m \u001b[0mrange\u001b[0m\u001b[0;34m(\u001b[0m\u001b[0;36m0\u001b[0m\u001b[0;34m,\u001b[0m \u001b[0mnum_data\u001b[0m\u001b[0;34m)\u001b[0m\u001b[0;34m:\u001b[0m\u001b[0;34m\u001b[0m\u001b[0;34m\u001b[0m\u001b[0m\n\u001b[1;32m      5\u001b[0m     \u001b[0mdist_total\u001b[0m \u001b[0;34m+=\u001b[0m \u001b[0mnp\u001b[0m\u001b[0;34m.\u001b[0m\u001b[0mabsolute\u001b[0m\u001b[0;34m(\u001b[0m\u001b[0mo\u001b[0m\u001b[0;34m[\u001b[0m\u001b[0mi\u001b[0m\u001b[0;34m]\u001b[0m \u001b[0;34m-\u001b[0m \u001b[0mmat\u001b[0m\u001b[0;34m[\u001b[0m\u001b[0mi\u001b[0m\u001b[0;34m,\u001b[0m \u001b[0;36m0\u001b[0m\u001b[0;34m]\u001b[0m\u001b[0;34m)\u001b[0m\u001b[0;34m\u001b[0m\u001b[0;34m\u001b[0m\u001b[0m\n",
      "\u001b[0;32m~/Summer/venv/lib/python3.7/site-packages/sklearn/ensemble/forest.py\u001b[0m in \u001b[0;36mpredict\u001b[0;34m(self, X)\u001b[0m\n\u001b[1;32m    691\u001b[0m         \u001b[0mcheck_is_fitted\u001b[0m\u001b[0;34m(\u001b[0m\u001b[0mself\u001b[0m\u001b[0;34m,\u001b[0m \u001b[0;34m'estimators_'\u001b[0m\u001b[0;34m)\u001b[0m\u001b[0;34m\u001b[0m\u001b[0;34m\u001b[0m\u001b[0m\n\u001b[1;32m    692\u001b[0m         \u001b[0;31m# Check data\u001b[0m\u001b[0;34m\u001b[0m\u001b[0;34m\u001b[0m\u001b[0;34m\u001b[0m\u001b[0m\n\u001b[0;32m--> 693\u001b[0;31m         \u001b[0mX\u001b[0m \u001b[0;34m=\u001b[0m \u001b[0mself\u001b[0m\u001b[0;34m.\u001b[0m\u001b[0m_validate_X_predict\u001b[0m\u001b[0;34m(\u001b[0m\u001b[0mX\u001b[0m\u001b[0;34m)\u001b[0m\u001b[0;34m\u001b[0m\u001b[0;34m\u001b[0m\u001b[0m\n\u001b[0m\u001b[1;32m    694\u001b[0m \u001b[0;34m\u001b[0m\u001b[0m\n\u001b[1;32m    695\u001b[0m         \u001b[0;31m# Assign chunk of trees to jobs\u001b[0m\u001b[0;34m\u001b[0m\u001b[0;34m\u001b[0m\u001b[0;34m\u001b[0m\u001b[0m\n",
      "\u001b[0;32m~/Summer/venv/lib/python3.7/site-packages/sklearn/ensemble/forest.py\u001b[0m in \u001b[0;36m_validate_X_predict\u001b[0;34m(self, X)\u001b[0m\n\u001b[1;32m    357\u001b[0m                                  \"call `fit` before exploiting the model.\")\n\u001b[1;32m    358\u001b[0m \u001b[0;34m\u001b[0m\u001b[0m\n\u001b[0;32m--> 359\u001b[0;31m         \u001b[0;32mreturn\u001b[0m \u001b[0mself\u001b[0m\u001b[0;34m.\u001b[0m\u001b[0mestimators_\u001b[0m\u001b[0;34m[\u001b[0m\u001b[0;36m0\u001b[0m\u001b[0;34m]\u001b[0m\u001b[0;34m.\u001b[0m\u001b[0m_validate_X_predict\u001b[0m\u001b[0;34m(\u001b[0m\u001b[0mX\u001b[0m\u001b[0;34m,\u001b[0m \u001b[0mcheck_input\u001b[0m\u001b[0;34m=\u001b[0m\u001b[0;32mTrue\u001b[0m\u001b[0;34m)\u001b[0m\u001b[0;34m\u001b[0m\u001b[0;34m\u001b[0m\u001b[0m\n\u001b[0m\u001b[1;32m    360\u001b[0m \u001b[0;34m\u001b[0m\u001b[0m\n\u001b[1;32m    361\u001b[0m     \u001b[0;34m@\u001b[0m\u001b[0mproperty\u001b[0m\u001b[0;34m\u001b[0m\u001b[0;34m\u001b[0m\u001b[0m\n",
      "\u001b[0;32m~/Summer/venv/lib/python3.7/site-packages/sklearn/tree/tree.py\u001b[0m in \u001b[0;36m_validate_X_predict\u001b[0;34m(self, X, check_input)\u001b[0m\n\u001b[1;32m    389\u001b[0m         \u001b[0;34m\"\"\"Validate X whenever one tries to predict, apply, predict_proba\"\"\"\u001b[0m\u001b[0;34m\u001b[0m\u001b[0;34m\u001b[0m\u001b[0m\n\u001b[1;32m    390\u001b[0m         \u001b[0;32mif\u001b[0m \u001b[0mcheck_input\u001b[0m\u001b[0;34m:\u001b[0m\u001b[0;34m\u001b[0m\u001b[0;34m\u001b[0m\u001b[0m\n\u001b[0;32m--> 391\u001b[0;31m             \u001b[0mX\u001b[0m \u001b[0;34m=\u001b[0m \u001b[0mcheck_array\u001b[0m\u001b[0;34m(\u001b[0m\u001b[0mX\u001b[0m\u001b[0;34m,\u001b[0m \u001b[0mdtype\u001b[0m\u001b[0;34m=\u001b[0m\u001b[0mDTYPE\u001b[0m\u001b[0;34m,\u001b[0m \u001b[0maccept_sparse\u001b[0m\u001b[0;34m=\u001b[0m\u001b[0;34m\"csr\"\u001b[0m\u001b[0;34m)\u001b[0m\u001b[0;34m\u001b[0m\u001b[0;34m\u001b[0m\u001b[0m\n\u001b[0m\u001b[1;32m    392\u001b[0m             if issparse(X) and (X.indices.dtype != np.intc or\n\u001b[1;32m    393\u001b[0m                                 X.indptr.dtype != np.intc):\n",
      "\u001b[0;32m~/Summer/venv/lib/python3.7/site-packages/sklearn/utils/validation.py\u001b[0m in \u001b[0;36mcheck_array\u001b[0;34m(array, accept_sparse, accept_large_sparse, dtype, order, copy, force_all_finite, ensure_2d, allow_nd, ensure_min_samples, ensure_min_features, warn_on_dtype, estimator)\u001b[0m\n\u001b[1;32m    537\u001b[0m         \u001b[0;32mif\u001b[0m \u001b[0;32mnot\u001b[0m \u001b[0mallow_nd\u001b[0m \u001b[0;32mand\u001b[0m \u001b[0marray\u001b[0m\u001b[0;34m.\u001b[0m\u001b[0mndim\u001b[0m \u001b[0;34m>=\u001b[0m \u001b[0;36m3\u001b[0m\u001b[0;34m:\u001b[0m\u001b[0;34m\u001b[0m\u001b[0;34m\u001b[0m\u001b[0m\n\u001b[1;32m    538\u001b[0m             raise ValueError(\"Found array with dim %d. %s expected <= 2.\"\n\u001b[0;32m--> 539\u001b[0;31m                              % (array.ndim, estimator_name))\n\u001b[0m\u001b[1;32m    540\u001b[0m         \u001b[0;32mif\u001b[0m \u001b[0mforce_all_finite\u001b[0m\u001b[0;34m:\u001b[0m\u001b[0;34m\u001b[0m\u001b[0;34m\u001b[0m\u001b[0m\n\u001b[1;32m    541\u001b[0m             _assert_all_finite(array,\n",
      "\u001b[0;31mValueError\u001b[0m: Found array with dim 4. Estimator expected <= 2."
     ]
    }
   ],
   "source": [
    "o = regr.predict(X_train)\n",
    "\n",
    "dist_total = 0\n",
    "for i in range(0, num_data):\n",
    "    dist_total += np.absolute(o[i] - mat[i, 0])\n",
    "average_dist = dist_total / num_data\n",
    "print(average_dist)"
   ]
  },
  {
   "cell_type": "code",
   "execution_count": 151,
   "metadata": {},
   "outputs": [],
   "source": [
    "inputs = Input(shape=(64,64,1))\n",
    "\n",
    "# a layer instance is callable on a tensor, and returns a tensor\n",
    "x = BatchNormalization()(inputs)\n",
    "x = Convolution2D(32, kernel_size=(4, 5), strides=(3, 4), padding=\"same\", activation='relu')(x)\n",
    "x = Convolution2D(98, kernel_size=(4, 6), strides=(3, 5), padding=\"same\", activation='relu')(x)\n",
    "x = Convolution2D(128, kernel_size=(4, 6), strides=(3, 5), padding=\"same\", activation='relu')(x)\n",
    "#x = Convolution2D(128, kernel_size=(3, 3), strides=(2, 2), padding=\"same\", activation='relu')(x)\n",
    "#x = Convolution2D(128, kernel_size=(3, 3), strides=(2, 2), padding=\"same\", activation='relu')(x)\n",
    "#x = Convolution2D(128, kernel_size=(3, 3), strides=(2, 1), padding=\"same\", activation='relu')(x)\n",
    "x = Flatten()(x)\n",
    "x = Dense(512, activation='relu')(x)\n",
    "x = Dense(16)(x)\n",
    "# This creates a model that includes\n",
    "# the Input layer and three Dense layers\n",
    "adam = optimizers.Adam(lr=0.00001)\n",
    "model = Model(inputs=inputs, outputs=x)\n",
    "model.compile(adam,\n",
    "              loss='mean_squared_error',\n",
    "              metrics=['accuracy'])"
   ]
  },
  {
   "cell_type": "code",
   "execution_count": 152,
   "metadata": {
    "scrolled": false
   },
   "outputs": [
    {
     "name": "stdout",
     "output_type": "stream",
     "text": [
      "Train on 18000 samples, validate on 2000 samples\n",
      "Epoch 1/50\n",
      "18000/18000 [==============================] - 20s 1ms/sample - loss: 0.1074 - accuracy: 0.1297 - val_loss: 0.0729 - val_accuracy: 0.1750\n",
      "Epoch 2/50\n",
      "18000/18000 [==============================] - 16s 883us/sample - loss: 0.0682 - accuracy: 0.1702 - val_loss: 0.0660 - val_accuracy: 0.1995\n",
      "Epoch 3/50\n",
      "18000/18000 [==============================] - 16s 916us/sample - loss: 0.0647 - accuracy: 0.1798 - val_loss: 0.0645 - val_accuracy: 0.2075\n",
      "Epoch 4/50\n",
      "18000/18000 [==============================] - 15s 841us/sample - loss: 0.0631 - accuracy: 0.1861 - val_loss: 0.0635 - val_accuracy: 0.2115\n",
      "Epoch 5/50\n",
      "18000/18000 [==============================] - 15s 850us/sample - loss: 0.0621 - accuracy: 0.1929 - val_loss: 0.0626 - val_accuracy: 0.2020\n",
      "Epoch 6/50\n",
      "18000/18000 [==============================] - 15s 848us/sample - loss: 0.0612 - accuracy: 0.1943 - val_loss: 0.0619 - val_accuracy: 0.2155\n",
      "Epoch 7/50\n",
      "18000/18000 [==============================] - 16s 876us/sample - loss: 0.0605 - accuracy: 0.1980 - val_loss: 0.0614 - val_accuracy: 0.2180\n",
      "Epoch 8/50\n",
      "18000/18000 [==============================] - 17s 958us/sample - loss: 0.0599 - accuracy: 0.2018 - val_loss: 0.0612 - val_accuracy: 0.2235\n",
      "Epoch 9/50\n",
      "18000/18000 [==============================] - 16s 890us/sample - loss: 0.0593 - accuracy: 0.2013 - val_loss: 0.0609 - val_accuracy: 0.2210\n",
      "Epoch 10/50\n",
      "18000/18000 [==============================] - 16s 874us/sample - loss: 0.0588 - accuracy: 0.2019 - val_loss: 0.0603 - val_accuracy: 0.2235\n",
      "Epoch 11/50\n",
      "18000/18000 [==============================] - 16s 870us/sample - loss: 0.0583 - accuracy: 0.2078 - val_loss: 0.0599 - val_accuracy: 0.2205\n",
      "Epoch 12/50\n",
      "18000/18000 [==============================] - 16s 873us/sample - loss: 0.0579 - accuracy: 0.2095 - val_loss: 0.0595 - val_accuracy: 0.2275\n",
      "Epoch 13/50\n",
      "18000/18000 [==============================] - 16s 879us/sample - loss: 0.0575 - accuracy: 0.2102 - val_loss: 0.0594 - val_accuracy: 0.2245\n",
      "Epoch 14/50\n",
      "18000/18000 [==============================] - 16s 883us/sample - loss: 0.0571 - accuracy: 0.2114 - val_loss: 0.0589 - val_accuracy: 0.2250\n",
      "Epoch 15/50\n",
      "18000/18000 [==============================] - 16s 893us/sample - loss: 0.0567 - accuracy: 0.2130 - val_loss: 0.0587 - val_accuracy: 0.2240\n",
      "Epoch 16/50\n",
      "18000/18000 [==============================] - 16s 885us/sample - loss: 0.0563 - accuracy: 0.2139 - val_loss: 0.0584 - val_accuracy: 0.2260\n",
      "Epoch 17/50\n",
      "18000/18000 [==============================] - 16s 886us/sample - loss: 0.0559 - accuracy: 0.2178 - val_loss: 0.0583 - val_accuracy: 0.2240\n",
      "Epoch 18/50\n",
      "18000/18000 [==============================] - 16s 889us/sample - loss: 0.0556 - accuracy: 0.2184 - val_loss: 0.0581 - val_accuracy: 0.2280\n",
      "Epoch 19/50\n",
      "18000/18000 [==============================] - 16s 886us/sample - loss: 0.0553 - accuracy: 0.2182 - val_loss: 0.0579 - val_accuracy: 0.2250\n",
      "Epoch 20/50\n",
      "18000/18000 [==============================] - 16s 891us/sample - loss: 0.0549 - accuracy: 0.2191 - val_loss: 0.0578 - val_accuracy: 0.2195\n",
      "Epoch 21/50\n",
      "18000/18000 [==============================] - 16s 896us/sample - loss: 0.0547 - accuracy: 0.2211 - val_loss: 0.0576 - val_accuracy: 0.2190\n",
      "Epoch 22/50\n",
      "18000/18000 [==============================] - 16s 902us/sample - loss: 0.0544 - accuracy: 0.2229 - val_loss: 0.0574 - val_accuracy: 0.2280\n",
      "Epoch 23/50\n",
      "18000/18000 [==============================] - 16s 892us/sample - loss: 0.0541 - accuracy: 0.2254 - val_loss: 0.0570 - val_accuracy: 0.2305\n",
      "Epoch 24/50\n",
      "18000/18000 [==============================] - 16s 891us/sample - loss: 0.0538 - accuracy: 0.2229 - val_loss: 0.0569 - val_accuracy: 0.2245\n",
      "Epoch 25/50\n",
      "18000/18000 [==============================] - 16s 890us/sample - loss: 0.0535 - accuracy: 0.2244 - val_loss: 0.0570 - val_accuracy: 0.2245\n",
      "Epoch 26/50\n",
      "18000/18000 [==============================] - 17s 926us/sample - loss: 0.0533 - accuracy: 0.2269 - val_loss: 0.0565 - val_accuracy: 0.2250\n",
      "Epoch 27/50\n",
      "18000/18000 [==============================] - 17s 941us/sample - loss: 0.0530 - accuracy: 0.2281 - val_loss: 0.0564 - val_accuracy: 0.2270\n",
      "Epoch 28/50\n",
      "18000/18000 [==============================] - 16s 892us/sample - loss: 0.0528 - accuracy: 0.2311 - val_loss: 0.0564 - val_accuracy: 0.2185\n",
      "Epoch 29/50\n",
      "18000/18000 [==============================] - 16s 896us/sample - loss: 0.0525 - accuracy: 0.2281 - val_loss: 0.0565 - val_accuracy: 0.2305\n",
      "Epoch 30/50\n",
      "18000/18000 [==============================] - 16s 901us/sample - loss: 0.0523 - accuracy: 0.2309 - val_loss: 0.0560 - val_accuracy: 0.2300\n",
      "Epoch 31/50\n",
      "18000/18000 [==============================] - 16s 895us/sample - loss: 0.0520 - accuracy: 0.2316 - val_loss: 0.0562 - val_accuracy: 0.2335\n",
      "Epoch 32/50\n",
      "18000/18000 [==============================] - 16s 898us/sample - loss: 0.0519 - accuracy: 0.2338 - val_loss: 0.0561 - val_accuracy: 0.2300\n",
      "Epoch 33/50\n",
      "18000/18000 [==============================] - 16s 896us/sample - loss: 0.0516 - accuracy: 0.2298 - val_loss: 0.0557 - val_accuracy: 0.2285\n",
      "Epoch 34/50\n",
      "18000/18000 [==============================] - 16s 893us/sample - loss: 0.0514 - accuracy: 0.2377 - val_loss: 0.0559 - val_accuracy: 0.2390\n",
      "Epoch 35/50\n",
      "18000/18000 [==============================] - 16s 895us/sample - loss: 0.0512 - accuracy: 0.2347 - val_loss: 0.0560 - val_accuracy: 0.2260\n",
      "Epoch 36/50\n",
      "18000/18000 [==============================] - 16s 892us/sample - loss: 0.0510 - accuracy: 0.2374 - val_loss: 0.0555 - val_accuracy: 0.2335\n",
      "Epoch 37/50\n",
      "18000/18000 [==============================] - 16s 894us/sample - loss: 0.0508 - accuracy: 0.2357 - val_loss: 0.0554 - val_accuracy: 0.2310\n",
      "Epoch 38/50\n",
      "18000/18000 [==============================] - 16s 900us/sample - loss: 0.0506 - accuracy: 0.2382 - val_loss: 0.0552 - val_accuracy: 0.2380\n",
      "Epoch 39/50\n",
      "18000/18000 [==============================] - 16s 889us/sample - loss: 0.0505 - accuracy: 0.2379 - val_loss: 0.0552 - val_accuracy: 0.2330\n",
      "Epoch 40/50\n",
      "18000/18000 [==============================] - 16s 893us/sample - loss: 0.0502 - accuracy: 0.2382 - val_loss: 0.0553 - val_accuracy: 0.2330\n",
      "Epoch 41/50\n",
      "18000/18000 [==============================] - 16s 896us/sample - loss: 0.0501 - accuracy: 0.2417 - val_loss: 0.0553 - val_accuracy: 0.2270\n",
      "Epoch 42/50\n",
      "18000/18000 [==============================] - 16s 904us/sample - loss: 0.0498 - accuracy: 0.2435 - val_loss: 0.0550 - val_accuracy: 0.2270\n",
      "Epoch 43/50\n",
      "18000/18000 [==============================] - 16s 891us/sample - loss: 0.0497 - accuracy: 0.2389 - val_loss: 0.0553 - val_accuracy: 0.2265\n",
      "Epoch 44/50\n",
      "18000/18000 [==============================] - 16s 898us/sample - loss: 0.0495 - accuracy: 0.2438 - val_loss: 0.0549 - val_accuracy: 0.2250\n",
      "Epoch 45/50\n",
      "18000/18000 [==============================] - 16s 912us/sample - loss: 0.0493 - accuracy: 0.2446 - val_loss: 0.0548 - val_accuracy: 0.2335\n",
      "Epoch 46/50\n",
      "18000/18000 [==============================] - 17s 918us/sample - loss: 0.0492 - accuracy: 0.2423 - val_loss: 0.0548 - val_accuracy: 0.2295\n",
      "Epoch 47/50\n",
      "18000/18000 [==============================] - 16s 902us/sample - loss: 0.0490 - accuracy: 0.2427 - val_loss: 0.0550 - val_accuracy: 0.2355\n",
      "Epoch 48/50\n",
      "18000/18000 [==============================] - 16s 906us/sample - loss: 0.0488 - accuracy: 0.2459 - val_loss: 0.0551 - val_accuracy: 0.2365\n",
      "Epoch 49/50\n",
      "18000/18000 [==============================] - 16s 912us/sample - loss: 0.0487 - accuracy: 0.2422 - val_loss: 0.0546 - val_accuracy: 0.2370\n",
      "Epoch 50/50\n",
      "18000/18000 [==============================] - 16s 908us/sample - loss: 0.0485 - accuracy: 0.2449 - val_loss: 0.0546 - val_accuracy: 0.2370\n"
     ]
    },
    {
     "data": {
      "text/plain": [
       "<tensorflow.python.keras.callbacks.History at 0x132b40a90>"
      ]
     },
     "execution_count": 152,
     "metadata": {},
     "output_type": "execute_result"
    }
   ],
   "source": [
    "model.fit(X_train, Y_train, \n",
    "          batch_size=16, epochs=50, verbose=1, validation_split=0.1)"
   ]
  },
  {
   "cell_type": "code",
   "execution_count": 153,
   "metadata": {},
   "outputs": [],
   "source": [
    "o = model.predict(X_train)"
   ]
  },
  {
   "cell_type": "code",
   "execution_count": 145,
   "metadata": {},
   "outputs": [
    {
     "name": "stderr",
     "output_type": "stream",
     "text": [
      "/Users/josephcleveland/Summer/venv/lib/python3.7/site-packages/ipykernel_launcher.py:6: ComplexWarning: Casting complex values to real discards the imaginary part\n",
      "  \n"
     ]
    },
    {
     "data": {
      "image/png": "[encoded data removed]",
      "text/plain": [
       "<Figure size 432x288 with 2 Axes>"
      ]
     },
     "metadata": {
      "needs_background": "light"
     },
     "output_type": "display_data"
    }
   ],
   "source": [
    "audio = wavload.readwav('/Users/josephcleveland/Desktop/Screech.wav')[2]\n",
    "audio = audio.T[0]\n",
    "\n",
    "X_audio = audio[0:67584].astype(float)\n",
    "X_piano = np.zeros((1, 64, 64))\n",
    "X_piano[0] = stft(X_audio,n_fft=1408)[0:64, 0:64]\n",
    "X_piano = np.expand_dims(X_piano, axis=3)\n",
    "\n",
    "Spectogram = np.abs(librosa.feature.melspectrogram(X_audio, sr=44100, n_mels=128))\n",
    "librosa.display.specshow(librosa.amplitude_to_db(Spectogram,\n",
    "                        ref=np.max),\n",
    "                          y_axis='mel', x_axis='time')\n",
    "plt.title('Power spectrogram')\n",
    "plt.colorbar(format='%+2.0f dB')\n",
    "plt.tight_layout()\n",
    "\n",
    "o = model.predict(X_piano)"
   ]
  },
  {
   "cell_type": "code",
   "execution_count": 154,
   "metadata": {},
   "outputs": [
    {
     "name": "stdout",
     "output_type": "stream",
     "text": [
      "[0.10731506 0.12534804 0.1477895  0.1636379  0.12965618 0.21153298\n",
      " 0.18053149 0.21031341 0.16461572 0.16638492 0.19702521 0.18121467\n",
      " 0.22306882 0.21000455 0.23129068 0.13962585]\n",
      "average:  0.17433468650448455\n"
     ]
    }
   ],
   "source": [
    "average_dist = np.zeros(16)\n",
    "\n",
    "for p in range(0, 16):\n",
    "    dist_total = 0\n",
    "    for i in range(0, num_data):\n",
    "        dist_total += np.absolute(o[i, p] - Y_train[i, p])\n",
    "    average_dist[p] = dist_total / num_data\n",
    "    \n",
    "print(average_dist)\n",
    "print(\"average: \", np.average(average_dist))"
   ]
  },
  {
   "cell_type": "code",
   "execution_count": 125,
   "metadata": {},
   "outputs": [
    {
     "name": "stdout",
     "output_type": "stream",
     "text": [
      "0.48983281379878524\n",
      "[0.02246094 0.098      0.51       0.203      0.602      0.821\n",
      " 0.667      0.374      0.211      0.353      0.962      0.052\n",
      " 0.785      0.852      0.649      0.779     ]\n",
      "[0.05464076 0.10908591 0.54581136 0.47049633 0.7130788  0.5762943\n",
      " 0.574171   0.5971361  0.3758217  0.43692404 1.0267307  0.5431005\n",
      " 0.6158145  0.6210662  0.574561   0.56807566]\n",
      "23.0\n"
     ]
    }
   ],
   "source": [
    "\n",
    "vals = np.random.uniform(0, 1, 1000)\n",
    "print(np.mean(vals))\n",
    "print(Y_train[5])\n",
    "print(o[5])\n",
    "print(Y_train[5, 0] * 32 * 32)"
   ]
  },
  {
   "cell_type": "code",
   "execution_count": 129,
   "metadata": {},
   "outputs": [],
   "source": [
    "o[:, 0] = o[:, 0] * 32 * 32\n",
    "\n",
    "np.savetxt(\"/Users/josephcleveland/FMData/predictions.csv\", o, delimiter=\",\")"
   ]
  },
  {
   "cell_type": "code",
   "execution_count": 279,
   "metadata": {},
   "outputs": [],
   "source": [
    "# Save the weights\n",
    "model.save_weights('Regression1_weights.h5')\n",
    "\n",
    "# Save the model architecture\n",
    "with open('Regression1_architecture.json', 'w') as f:\n",
    "    f.write(model.to_json())"
   ]
  },
  {
   "cell_type": "code",
   "execution_count": null,
   "metadata": {},
   "outputs": [],
   "source": []
  }
 ],
 "metadata": {
  "kernelspec": {
   "display_name": "Python 3",
   "language": "python",
   "name": "python3"
  },
  "language_info": {
   "codemirror_mode": {
    "name": "ipython",
    "version": 3
   },
   "file_extension": ".py",
   "mimetype": "text/x-python",
   "name": "python",
   "nbconvert_exporter": "python",
   "pygments_lexer": "ipython3",
   "version": "3.7.2"
  }
 },
 "nbformat": 4,
 "nbformat_minor": 2
}
