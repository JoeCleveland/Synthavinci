{
 "cells": [
  {
   "cell_type": "code",
   "execution_count": 71,
   "metadata": {},
   "outputs": [],
   "source": [
    "import numpy as np\n",
    "import wave\n",
    "from scipy.io import wavfile\n",
    "from scipy import signal\n",
    "from keras.utils.np_utils import to_categorical\n",
    "from tensorflow.keras.models import Model\n",
    "from tensorflow.keras.layers import Dense, Dropout, Activation, Flatten, Reshape, Input\n",
    "from tensorflow.keras.layers import Convolution2D, BatchNormalization, MaxPooling2D\n",
    "from librosa.core import stft\n",
    "import librosa\n",
    "import librosa.display\n",
    "import matplotlib.pyplot as plt\n",
    "import matplotlib.cm as cm\n",
    "import tensorflow.keras.backend as K\n",
    "from tensorflow.keras import optimizers\n",
    "import datagen\n",
    "import wavload\n",
    "from sklearn.ensemble import RandomForestRegressor\n",
    "from sklearn.datasets import make_regression"
   ]
  },
  {
   "cell_type": "code",
   "execution_count": 111,
   "metadata": {},
   "outputs": [
    {
     "name": "stdout",
     "output_type": "stream",
     "text": [
      "(59500, 67584)\n"
     ]
    }
   ],
   "source": [
    "#20000 + 33000 + 6500 = 59500\n",
    "\n",
    "num_data = 59500 #6000 for validation, 53500 for training\n",
    "num_params = 16\n",
    "samp_length = 67584\n",
    "\n",
    "X_data = np.zeros(shape=(num_data,samp_length))\n",
    "print(X_data.shape)\n",
    "\n",
    "for r in range(0, num_data):\n",
    "    if r < 20000:\n",
    "        audio = wavload.readwav('/Users/josephcleveland/Downloads/EvenMoreFMData/' + str(r) + '.wav')[2]\n",
    "    elif r < 53000:\n",
    "        audio = wavload.readwav('/Users/josephcleveland/FMData/samp' + str(r - 20000) + '.wav')[2]\n",
    "    else:\n",
    "        audio = wavload.readwav('/Users/josephcleveland/MoreFMData/samp' + str(r - 53000) + '.wav')[2]\n",
    "    audio = audio.T[0]\n",
    "    if(audio.shape[0] < samp_length):\n",
    "        padded = np.zeros(shape=(samp_length))\n",
    "        padded[:np.shape(audio)[0]] = audio\n",
    "        audio = padded\n",
    "    else:\n",
    "        audio = audio[0:samp_length]\n",
    "    X_data[r] = audio\n",
    "    "
   ]
  },
  {
   "cell_type": "code",
   "execution_count": 108,
   "metadata": {
    "scrolled": true
   },
   "outputs": [
    {
     "data": {
      "image/png": "[encoded data removed]",
      "text/plain": [
       "<Figure size 432x288 with 2 Axes>"
      ]
     },
     "metadata": {
      "needs_background": "light"
     },
     "output_type": "display_data"
    }
   ],
   "source": [
    "Spectogram = np.abs(librosa.feature.melspectrogram(X_data[100], sr=44100, n_mels=128))\n",
    "librosa.display.specshow(librosa.amplitude_to_db(Spectogram,\n",
    "                        ref=np.max),\n",
    "                          y_axis='mel', x_axis='time')\n",
    "plt.title('Power spectrogram')\n",
    "plt.colorbar(format='%+2.0f dB')\n",
    "plt.tight_layout()"
   ]
  },
  {
   "cell_type": "code",
   "execution_count": 109,
   "metadata": {},
   "outputs": [
    {
     "name": "stdout",
     "output_type": "stream",
     "text": [
      "(59500, 16)\n"
     ]
    }
   ],
   "source": [
    "Y_data = np.zeros(shape=(num_data))\n",
    "mat1 = np.genfromtxt('/Users/josephcleveland/Downloads/EvenMoreFMData/m.txt', delimiter=',')\n",
    "mat2 = np.genfromtxt('/Users/josephcleveland/FMData/mat.txt', delimiter=',')\n",
    "mat3 = np.genfromtxt('/Users/josephcleveland/MoreFMData/mat.txt', delimiter=',')\n",
    "\n",
    "Y_data = np.concatenate((mat1[0:20000], mat2[0:33000], mat3[0:6500]))\n",
    "Y_train = Y_data\n",
    "print(Y_train.shape)\n",
    "#for i in range(0, 10000):\n",
    "#    onehot = to_categorical(mat[i], 16)\n",
    "#    Y_data[i] = onehot.ravel()"
   ]
  },
  {
   "cell_type": "code",
   "execution_count": 110,
   "metadata": {},
   "outputs": [
    {
     "name": "stderr",
     "output_type": "stream",
     "text": [
      "/Users/josephcleveland/Summer/venv/lib/python3.7/site-packages/ipykernel_launcher.py:4: ComplexWarning: Casting complex values to real discards the imaginary part\n",
      "  after removing the cwd from sys.path.\n"
     ]
    },
    {
     "name": "stdout",
     "output_type": "stream",
     "text": [
      "(59500, 64, 64, 1)\n",
      "(59500, 16)\n",
      "[0.125   0.15625 0.5     ... 0.125   0.8125  0.78125]\n"
     ]
    }
   ],
   "source": [
    "\n",
    "X_train = np.zeros((num_data, 64, 64))\n",
    "for i in range(0, num_data):\n",
    "    X_train[i] = stft(X_data[i],n_fft=1408)[0:64, 0:64]\n",
    "X_train = np.expand_dims(X_train, axis=3)\n",
    "\n",
    "Y_train[:, 0] = Y_train[:, 0]/32\n",
    "print(X_train.shape)\n",
    "print(Y_train.shape)\n",
    "print(Y_train[:, 0])"
   ]
  },
  {
   "cell_type": "code",
   "execution_count": 116,
   "metadata": {},
   "outputs": [],
   "source": [
    "inputs = Input(shape=(64,64,1))\n",
    "\n",
    "# a layer instance is callable on a tensor, and returns a tensor\n",
    "x = BatchNormalization()(inputs)\n",
    "x = Convolution2D(32, kernel_size=(3, 3), strides=(1, 1), padding=\"same\", activation='relu')(x)\n",
    "x = MaxPooling2D(pool_size=(2, 2))(x)\n",
    "x = Convolution2D(98, kernel_size=(3, 3), strides=(1, 1), padding=\"same\", activation='relu')(x)\n",
    "x = MaxPooling2D(pool_size=(2, 2))(x)\n",
    "x = Convolution2D(294, kernel_size=(3, 3), strides=(1, 1), padding=\"same\", activation='relu')(x)\n",
    "x = MaxPooling2D(pool_size=(2, 2))(x)\n",
    "#x = Convolution2D(128, kernel_size=(4, 6), strides=(3, 5), padding=\"same\", activation='relu')(x)\n",
    "#x = Convolution2D(128, kernel_size=(3, 3), strides=(2, 2), padding=\"same\", activation='relu')(x)\n",
    "#x = Convolution2D(128, kernel_size=(3, 3), strides=(2, 2), padding=\"same\", activation='relu')(x)\n",
    "#x = Convolution2D(128, kernel_size=(3, 3), strides=(2, 1), padding=\"same\", activation='relu')(x)\n",
    "x = Flatten()(x)\n",
    "x = Dense(512, activation='relu')(x)\n",
    "x = Dense(512, activation='relu')(x)\n",
    "x = Dense(16)(x)\n",
    "# This creates a model that includes\n",
    "# the Input layer and three Dense layers\n",
    "adam = optimizers.Adam(lr=0.0001)\n",
    "model = Model(inputs=inputs, outputs=x)\n",
    "model.compile(adam,\n",
    "              loss='mean_squared_error',\n",
    "              metrics=['accuracy'])"
   ]
  },
  {
   "cell_type": "code",
   "execution_count": 117,
   "metadata": {
    "scrolled": false
   },
   "outputs": [
    {
     "name": "stdout",
     "output_type": "stream",
     "text": [
      "Train on 48150 samples, validate on 5350 samples\n",
      "Epoch 1/40\n",
      "48150/48150 [==============================] - 606s 13ms/sample - loss: 0.0600 - accuracy: 0.1886 - val_loss: 0.0531 - val_accuracy: 0.2187\n",
      "Epoch 2/40\n",
      "48150/48150 [==============================] - 583s 12ms/sample - loss: 0.0507 - accuracy: 0.2276 - val_loss: 0.0485 - val_accuracy: 0.2523\n",
      "Epoch 3/40\n",
      "48150/48150 [==============================] - 34618s 719ms/sample - loss: 0.0471 - accuracy: 0.2468 - val_loss: 0.0459 - val_accuracy: 0.2641\n",
      "Epoch 4/40\n",
      "48150/48150 [==============================] - 573s 12ms/sample - loss: 0.0443 - accuracy: 0.2636 - val_loss: 0.0450 - val_accuracy: 0.2712\n",
      "Epoch 5/40\n",
      "48150/48150 [==============================] - 570s 12ms/sample - loss: 0.0420 - accuracy: 0.2742 - val_loss: 0.0439 - val_accuracy: 0.2789\n",
      "Epoch 6/40\n",
      "48150/48150 [==============================] - 564s 12ms/sample - loss: 0.0398 - accuracy: 0.2831 - val_loss: 0.0432 - val_accuracy: 0.2819\n",
      "Epoch 7/40\n",
      "48150/48150 [==============================] - 564s 12ms/sample - loss: 0.0377 - accuracy: 0.2957 - val_loss: 0.0429 - val_accuracy: 0.2802\n",
      "Epoch 8/40\n",
      "48150/48150 [==============================] - 571s 12ms/sample - loss: 0.0356 - accuracy: 0.3075 - val_loss: 0.0427 - val_accuracy: 0.2813\n",
      "Epoch 9/40\n",
      "48150/48150 [==============================] - 576s 12ms/sample - loss: 0.0335 - accuracy: 0.3150 - val_loss: 0.0435 - val_accuracy: 0.2804\n",
      "Epoch 10/40\n",
      "48150/48150 [==============================] - 554s 12ms/sample - loss: 0.0315 - accuracy: 0.3292 - val_loss: 0.0428 - val_accuracy: 0.2871\n",
      "Epoch 11/40\n",
      "48150/48150 [==============================] - 560s 12ms/sample - loss: 0.0296 - accuracy: 0.3396 - val_loss: 0.0435 - val_accuracy: 0.2783\n",
      "Epoch 12/40\n",
      "48150/48150 [==============================] - 553s 11ms/sample - loss: 0.0277 - accuracy: 0.3486 - val_loss: 0.0434 - val_accuracy: 0.2781\n",
      "Epoch 13/40\n",
      "48150/48150 [==============================] - 560s 12ms/sample - loss: 0.0260 - accuracy: 0.3596 - val_loss: 0.0449 - val_accuracy: 0.2763\n",
      "Epoch 14/40\n",
      "48150/48150 [==============================] - 559s 12ms/sample - loss: 0.0244 - accuracy: 0.3724 - val_loss: 0.0447 - val_accuracy: 0.2735\n",
      "Epoch 15/40\n",
      "48150/48150 [==============================] - 555s 12ms/sample - loss: 0.0230 - accuracy: 0.3835 - val_loss: 0.0452 - val_accuracy: 0.2774\n",
      "Epoch 16/40\n",
      "48150/48150 [==============================] - 550s 11ms/sample - loss: 0.0216 - accuracy: 0.3910 - val_loss: 0.0456 - val_accuracy: 0.2641\n",
      "Epoch 17/40\n",
      "48150/48150 [==============================] - 560s 12ms/sample - loss: 0.0204 - accuracy: 0.4020 - val_loss: 0.0458 - val_accuracy: 0.2731\n",
      "Epoch 18/40\n",
      "48150/48150 [==============================] - 558s 12ms/sample - loss: 0.0192 - accuracy: 0.4114 - val_loss: 0.0458 - val_accuracy: 0.2847\n",
      "Epoch 19/40\n",
      "48150/48150 [==============================] - 550s 11ms/sample - loss: 0.0182 - accuracy: 0.4223 - val_loss: 0.0463 - val_accuracy: 0.2695\n",
      "Epoch 20/40\n",
      "48150/48150 [==============================] - 551s 11ms/sample - loss: 0.0172 - accuracy: 0.4316 - val_loss: 0.0472 - val_accuracy: 0.2667\n",
      "Epoch 21/40\n",
      "48150/48150 [==============================] - 564s 12ms/sample - loss: 0.0163 - accuracy: 0.4427 - val_loss: 0.0477 - val_accuracy: 0.2607\n",
      "Epoch 22/40\n",
      "48150/48150 [==============================] - 564s 12ms/sample - loss: 0.0155 - accuracy: 0.4480 - val_loss: 0.0473 - val_accuracy: 0.2645\n",
      "Epoch 23/40\n",
      "48150/48150 [==============================] - 560s 12ms/sample - loss: 0.0147 - accuracy: 0.4562 - val_loss: 0.0472 - val_accuracy: 0.2665\n",
      "Epoch 24/40\n",
      "48150/48150 [==============================] - 556s 12ms/sample - loss: 0.0140 - accuracy: 0.4680 - val_loss: 0.0477 - val_accuracy: 0.2587\n",
      "Epoch 25/40\n",
      "48150/48150 [==============================] - 559s 12ms/sample - loss: 0.0134 - accuracy: 0.4768 - val_loss: 0.0485 - val_accuracy: 0.2604\n",
      "Epoch 26/40\n",
      "48150/48150 [==============================] - 570s 12ms/sample - loss: 0.0128 - accuracy: 0.4818 - val_loss: 0.0480 - val_accuracy: 0.2654\n",
      "Epoch 27/40\n",
      "48150/48150 [==============================] - 570s 12ms/sample - loss: 0.0122 - accuracy: 0.4893 - val_loss: 0.0482 - val_accuracy: 0.2615\n",
      "Epoch 28/40\n",
      "48150/48150 [==============================] - 561s 12ms/sample - loss: 0.0116 - accuracy: 0.4988 - val_loss: 0.0493 - val_accuracy: 0.2602\n",
      "Epoch 29/40\n",
      "48150/48150 [==============================] - 566s 12ms/sample - loss: 0.0112 - accuracy: 0.5024 - val_loss: 0.0490 - val_accuracy: 0.2606\n",
      "Epoch 30/40\n",
      "48150/48150 [==============================] - 571s 12ms/sample - loss: 0.0107 - accuracy: 0.5106 - val_loss: 0.0491 - val_accuracy: 0.2583\n",
      "Epoch 31/40\n",
      "48150/48150 [==============================] - 558s 12ms/sample - loss: 0.0103 - accuracy: 0.5161 - val_loss: 0.0490 - val_accuracy: 0.2576\n",
      "Epoch 32/40\n",
      "48150/48150 [==============================] - 577s 12ms/sample - loss: 0.0099 - accuracy: 0.5245 - val_loss: 0.0484 - val_accuracy: 0.2669\n",
      "Epoch 33/40\n",
      "48150/48150 [==============================] - 586s 12ms/sample - loss: 0.0095 - accuracy: 0.5291 - val_loss: 0.0489 - val_accuracy: 0.2531\n",
      "Epoch 34/40\n",
      "48150/48150 [==============================] - 568s 12ms/sample - loss: 0.0091 - accuracy: 0.5373 - val_loss: 0.0492 - val_accuracy: 0.2589\n",
      "Epoch 35/40\n",
      "48150/48150 [==============================] - 573s 12ms/sample - loss: 0.0089 - accuracy: 0.5400 - val_loss: 0.0496 - val_accuracy: 0.2604\n",
      "Epoch 36/40\n",
      "48150/48150 [==============================] - 583s 12ms/sample - loss: 0.0085 - accuracy: 0.5462 - val_loss: 0.0497 - val_accuracy: 0.2621\n",
      "Epoch 37/40\n",
      "48150/48150 [==============================] - 577s 12ms/sample - loss: 0.0083 - accuracy: 0.5516 - val_loss: 0.0500 - val_accuracy: 0.2593\n",
      "Epoch 38/40\n",
      "48150/48150 [==============================] - 569s 12ms/sample - loss: 0.0079 - accuracy: 0.5546 - val_loss: 0.0500 - val_accuracy: 0.2574\n",
      "Epoch 39/40\n",
      "48150/48150 [==============================] - 565s 12ms/sample - loss: 0.0077 - accuracy: 0.5611 - val_loss: 0.0497 - val_accuracy: 0.2578\n",
      "Epoch 40/40\n",
      "48150/48150 [==============================] - 573s 12ms/sample - loss: 0.0075 - accuracy: 0.5622 - val_loss: 0.0494 - val_accuracy: 0.2484\n"
     ]
    },
    {
     "data": {
      "text/plain": [
       "<tensorflow.python.keras.callbacks.History at 0x17428d978>"
      ]
     },
     "execution_count": 117,
     "metadata": {},
     "output_type": "execute_result"
    }
   ],
   "source": [
    "model.fit(X_train[0:53500], Y_train[0:53500], \n",
    "          batch_size=16, epochs=40, verbose=1, validation_split=0.1)"
   ]
  },
  {
   "cell_type": "code",
   "execution_count": 76,
   "metadata": {},
   "outputs": [
    {
     "name": "stdout",
     "output_type": "stream",
     "text": [
      "Model: \"model_8\"\n",
      "_________________________________________________________________\n",
      "Layer (type)                 Output Shape              Param #   \n",
      "=================================================================\n",
      "input_10 (InputLayer)        [(None, 64, 64, 1)]       0         \n",
      "_________________________________________________________________\n",
      "batch_normalization_v2_9 (Ba (None, 64, 64, 1)         4         \n",
      "_________________________________________________________________\n",
      "conv2d_14 (Conv2D)           (None, 64, 64, 32)        320       \n",
      "_________________________________________________________________\n",
      "max_pooling2d (MaxPooling2D) (None, 32, 32, 32)        0         \n",
      "_________________________________________________________________\n",
      "conv2d_15 (Conv2D)           (None, 32, 32, 98)        28322     \n",
      "_________________________________________________________________\n",
      "max_pooling2d_1 (MaxPooling2 (None, 16, 16, 98)        0         \n",
      "_________________________________________________________________\n",
      "conv2d_16 (Conv2D)           (None, 16, 16, 294)       259602    \n",
      "_________________________________________________________________\n",
      "max_pooling2d_2 (MaxPooling2 (None, 8, 8, 294)         0         \n",
      "_________________________________________________________________\n",
      "flatten_8 (Flatten)          (None, 18816)             0         \n",
      "_________________________________________________________________\n",
      "dense_16 (Dense)             (None, 512)               9634304   \n",
      "_________________________________________________________________\n",
      "dense_17 (Dense)             (None, 512)               262656    \n",
      "_________________________________________________________________\n",
      "dense_18 (Dense)             (None, 16)                8208      \n",
      "=================================================================\n",
      "Total params: 10,193,416\n",
      "Trainable params: 10,193,414\n",
      "Non-trainable params: 2\n",
      "_________________________________________________________________\n"
     ]
    }
   ],
   "source": [
    "model.summary()"
   ]
  },
  {
   "cell_type": "code",
   "execution_count": 113,
   "metadata": {},
   "outputs": [],
   "source": [
    "o = model.predict(X_train[20000:25000])"
   ]
  },
  {
   "cell_type": "code",
   "execution_count": 145,
   "metadata": {},
   "outputs": [
    {
     "name": "stderr",
     "output_type": "stream",
     "text": [
      "/Users/josephcleveland/Summer/venv/lib/python3.7/site-packages/ipykernel_launcher.py:6: ComplexWarning: Casting complex values to real discards the imaginary part\n",
      "  \n"
     ]
    },
    {
     "data": {
      "image/png": "[encoded data removed]",
      "text/plain": [
       "<Figure size 432x288 with 2 Axes>"
      ]
     },
     "metadata": {
      "needs_background": "light"
     },
     "output_type": "display_data"
    }
   ],
   "source": [
    "audio = wavload.readwav('/Users/josephcleveland/Desktop/Screech.wav')[2]\n",
    "audio = audio.T[0]\n",
    "\n",
    "X_audio = audio[0:67584].astype(float)\n",
    "X_piano = np.zeros((1, 64, 64))\n",
    "X_piano[0] = stft(X_audio,n_fft=1408)[0:64, 0:64]\n",
    "X_piano = np.expand_dims(X_piano, axis=3)\n",
    "\n",
    "Spectogram = np.abs(librosa.feature.melspectrogram(X_audio, sr=44100, n_mels=128))\n",
    "librosa.display.specshow(librosa.amplitude_to_db(Spectogram,\n",
    "                        ref=np.max),\n",
    "                          y_axis='mel', x_axis='time')\n",
    "plt.title('Power spectrogram')\n",
    "plt.colorbar(format='%+2.0f dB')\n",
    "plt.tight_layout()\n",
    "\n",
    "o = model.predict(X_piano)"
   ]
  },
  {
   "cell_type": "code",
   "execution_count": 115,
   "metadata": {},
   "outputs": [
    {
     "name": "stdout",
     "output_type": "stream",
     "text": [
      "[0.0619736  0.07603252 0.07315415 0.08408228 0.06194308 0.09956779\n",
      " 0.09215607 0.10453552 0.0748385  0.08420107 0.08952909 0.09469274\n",
      " 0.10232623 0.09887127 0.11902042 0.07292721]\n",
      "average:  0.08686572062478293\n"
     ]
    }
   ],
   "source": [
    "average_dist = np.zeros(16)\n",
    "\n",
    "for p in range(0, 16):\n",
    "    dist_total = 0\n",
    "    for i in range(0, 5000):\n",
    "        dist_total += np.absolute(o[i, p] - Y_train[20000 + i, p])\n",
    "    average_dist[p] = dist_total / 5000\n",
    "    \n",
    "print(average_dist)\n",
    "print(\"average: \", np.average(average_dist))"
   ]
  },
  {
   "cell_type": "code",
   "execution_count": 125,
   "metadata": {},
   "outputs": [
    {
     "name": "stdout",
     "output_type": "stream",
     "text": [
      "0.48983281379878524\n",
      "[0.02246094 0.098      0.51       0.203      0.602      0.821\n",
      " 0.667      0.374      0.211      0.353      0.962      0.052\n",
      " 0.785      0.852      0.649      0.779     ]\n",
      "[0.05464076 0.10908591 0.54581136 0.47049633 0.7130788  0.5762943\n",
      " 0.574171   0.5971361  0.3758217  0.43692404 1.0267307  0.5431005\n",
      " 0.6158145  0.6210662  0.574561   0.56807566]\n",
      "23.0\n"
     ]
    }
   ],
   "source": [
    "\n",
    "vals = np.random.uniform(0, 1, 1000)\n",
    "print(np.mean(vals))\n",
    "print(Y_train[5])\n",
    "print(o[5])\n",
    "print(Y_train[5, 0] * 32 * 32)"
   ]
  },
  {
   "cell_type": "code",
   "execution_count": 91,
   "metadata": {},
   "outputs": [],
   "source": [
    "o[:, 0] = o[:, 0] * 32 * 32\n",
    "\n",
    "np.savetxt(\"/Users/josephcleveland/FMData/predictions.csv\", o, delimiter=\",\")"
   ]
  },
  {
   "cell_type": "code",
   "execution_count": 279,
   "metadata": {},
   "outputs": [],
   "source": [
    "# Save the weights\n",
    "model.save_weights('Regression1_weights.h5')\n",
    "\n",
    "# Save the model architecture\n",
    "with open('Regression1_architecture.json', 'w') as f:\n",
    "    f.write(model.to_json())"
   ]
  },
  {
   "cell_type": "code",
   "execution_count": null,
   "metadata": {},
   "outputs": [],
   "source": []
  }
 ],
 "metadata": {
  "kernelspec": {
   "display_name": "Python 3",
   "language": "python",
   "name": "python3"
  },
  "language_info": {
   "codemirror_mode": {
    "name": "ipython",
    "version": 3
   },
   "file_extension": ".py",
   "mimetype": "text/x-python",
   "name": "python",
   "nbconvert_exporter": "python",
   "pygments_lexer": "ipython3",
   "version": "3.7.2"
  }
 },
 "nbformat": 4,
 "nbformat_minor": 2
}
