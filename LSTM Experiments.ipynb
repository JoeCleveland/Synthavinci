{
 "cells": [
  {
   "cell_type": "code",
   "execution_count": null,
   "metadata": {},
   "outputs": [],
   "source": [
    "import numpy as np\n",
    "import librosa as rosa\n",
    "import math        \n",
    "import pyaudio\n",
    "p = pyaudio.PyAudio()\n",
    "from random import randrange\n",
    "import librosa.display as rsdsp\n",
    "import matplotlib.pyplot as plt\n",
    "import pyaudio     \n",
    "import random\n",
    "import tensorflow as tf\n",
    "from tensorflow.keras.models import Sequential\n",
    "from tensorflow.keras.layers import Dense, LSTM, Convolution2D, Flatten, TimeDistributed, MaxPooling2D, BatchNormalization"
   ]
  },
  {
   "cell_type": "code",
   "execution_count": null,
   "metadata": {},
   "outputs": [],
   "source": [
    "\"\"\"freqs + amp + decay rates\"\"\"\n",
    "num_tones = 9\n",
    "\n",
    "#f = 440\n",
    "srate = 11025\n",
    "frame_count = 44100\n",
    "clips = 200000\n",
    "output = np.zeros((clips, frame_count),dtype=(np.float16))\n",
    "Y = np.zeros((clips, num_tones*3))\n",
    "\n",
    "for c in range(0, clips):\n",
    "    amplitudes = np.random.uniform(0, 1/num_tones, num_tones)\n",
    "    #amplitudes = np.repeat([1/num_tones], num_tones)\n",
    "    \n",
    "    ratios = np.random.randint(20, 20000, num_tones)\n",
    "    #ratios[0] = 1\n",
    "    #ratios = np.sort(ratios)\n",
    "    \n",
    "    rates = np.random.uniform(0.3, 0.99999, num_tones)\n",
    "    #rates = -np.sort(-rates)\n",
    "    #t = 0\n",
    "    Y[c] = np.concatenate((ratios, amplitudes, rates))\n",
    "\n",
    "    #for i in range(0, frame_count):\n",
    "    for ot in range(0, num_tones):\n",
    "        output[c] += (amplitudes[ot]**(np.arange(frame_count)/10000*rates[ot]))*(np.sin(2*np.pi * np.arange(frame_count)* ratios[ot] / srate)).astype(np.float32)\n",
    "    print(c)\n",
    "    #amplitudes = amplitudes * rates\n",
    "    #t = t + 1\n",
    "#output = output * 1000\n",
    "#output = output.astype('int16')\n"
   ]
  },
  {
   "cell_type": "code",
   "execution_count": null,
   "metadata": {},
   "outputs": [],
   "source": [
    "p = pyaudio.PyAudio()\n",
    "stream = p.open(format=pyaudio.paInt16,\n",
    "                channels=1,\n",
    "                rate=srate,\n",
    "                output=True)\n",
    "\n",
    "#stream.start_stream()\n",
    "stream.write((output[0]*1000).astype('int16'))\n",
    "print(Y[0])\n",
    "stream.stop_stream()\n",
    "stream.close()\n",
    "p.terminate()"
   ]
  }
 ],
 "metadata": {
  "kernelspec": {
   "display_name": "Python 3",
   "language": "python",
   "name": "python3"
  },
  "language_info": {
   "codemirror_mode": {
    "name": "ipython",
    "version": 3
   },
   "file_extension": ".py",
   "mimetype": "text/x-python",
   "name": "python",
   "nbconvert_exporter": "python",
   "pygments_lexer": "ipython3",
   "version": "3.7.3"
  }
 },
 "nbformat": 4,
 "nbformat_minor": 2
}
