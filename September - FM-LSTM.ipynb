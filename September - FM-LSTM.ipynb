{
 "cells": [
  {
   "cell_type": "code",
   "execution_count": 4,
   "metadata": {},
   "outputs": [],
   "source": [
    "import numpy as np\n",
    "import wavload\n",
    "import librosa\n",
    "import tflearn"
   ]
  },
  {
   "cell_type": "code",
   "execution_count": 6,
   "metadata": {},
   "outputs": [
    {
     "name": "stdout",
     "output_type": "stream",
     "text": [
      "(1, 229411)\n",
      "[[0]\n",
      " [0]\n",
      " [0]\n",
      " ...\n",
      " [0]\n",
      " [0]\n",
      " [0]]\n",
      "(229411,)\n"
     ]
    }
   ],
   "source": [
    "\"\"\"Loading audio data\"\"\"\n",
    "\n",
    "num_data = 1\n",
    "num_params = 16\n",
    "samp_length = 229411\n",
    "sr = 44100\n",
    "\n",
    "X_data = np.zeros(shape=(num_data,samp_length))\n",
    "print(X_data.shape)\n",
    "\n",
    "for r in range(0, num_data):\n",
    "    audio = wavload.readwav('/home/josephcleveland/Research/Summer/BeepBoop.wav')[2]\n",
    "    print(audio)\n",
    "    audio = audio.T[0]\n",
    "    if(audio.shape != samp_length):\n",
    "        padded = np.zeros(shape=(samp_length))\n",
    "        padded[:np.shape(audio)[0]] = audio\n",
    "        audio = padded\n",
    "    X_data[r] = audio\n",
    "    print(X_data[0].shape)\n",
    "    "
   ]
  },
  {
   "cell_type": "code",
   "execution_count": 8,
   "metadata": {},
   "outputs": [
    {
     "name": "stdout",
     "output_type": "stream",
     "text": [
      "(20, 449)\n"
     ]
    }
   ],
   "source": [
    "\"\"\"Taking MFCC of audio data\"\"\"\n",
    "\n",
    "MFCC = librosa.feature.mfcc(y=audio, sr=sr)\n",
    "print(MFCC.shape)"
   ]
  },
  {
   "cell_type": "code",
   "execution_count": 9,
   "metadata": {},
   "outputs": [
    {
     "name": "stdout",
     "output_type": "stream",
     "text": [
      "(16,)\n"
     ]
    }
   ],
   "source": [
    "\"\"\"Loading parameters as Y data\"\"\"\n",
    "\n",
    "Y_data = np.array([1,1,1,1,1,1,1,1,1,1,1,1,1,1,1,1])\n",
    "print(Y_data.shape)"
   ]
  },
  {
   "cell_type": "code",
   "execution_count": 12,
   "metadata": {},
   "outputs": [],
   "source": [
    "\"\"\"Defining important variables for LSTM\"\"\"\n",
    "\n",
    "features_cols = 20\n",
    "features_rows = 449\n",
    "parameter_size = Y_data.shape[0]"
   ]
  },
  {
   "cell_type": "code",
   "execution_count": 13,
   "metadata": {},
   "outputs": [
    {
     "name": "stderr",
     "output_type": "stream",
     "text": [
      "W0911 22:17:45.530553 139620787279680 deprecation_wrapper.py:119] From /home/josephcleveland/Research/venv/lib/python3.6/site-packages/tflearn/layers/core.py:81: The name tf.placeholder is deprecated. Please use tf.compat.v1.placeholder instead.\n",
      "\n",
      "W0911 22:17:45.536741 139620787279680 deprecation.py:323] From /home/josephcleveland/Research/venv/lib/python3.6/site-packages/tflearn/layers/recurrent.py:69: static_rnn (from tensorflow.python.ops.rnn) is deprecated and will be removed in a future version.\n",
      "Instructions for updating:\n",
      "Please use `keras.layers.RNN(cell, unroll=True)`, which is equivalent to this API\n",
      "W0911 22:17:45.554388 139620787279680 deprecation.py:506] From /home/josephcleveland/Research/venv/lib/python3.6/site-packages/tflearn/layers/recurrent.py:681: calling dropout (from tensorflow.python.ops.nn_ops) with keep_prob is deprecated and will be removed in a future version.\n",
      "Instructions for updating:\n",
      "Please use `rate` instead of `keep_prob`. Rate should be set to `rate = 1 - keep_prob`.\n",
      "W0911 22:17:45.644303 139620787279680 deprecation.py:506] From /home/josephcleveland/Research/venv/lib/python3.6/site-packages/tensorflow/python/ops/init_ops.py:1251: calling VarianceScaling.__init__ (from tensorflow.python.ops.init_ops) with dtype is deprecated and will be removed in a future version.\n",
      "Instructions for updating:\n",
      "Call initializer instance with the dtype argument instead of passing it to the constructor\n",
      "W0911 22:17:46.057407 139620787279680 deprecation.py:506] From /home/josephcleveland/Research/venv/lib/python3.6/site-packages/tflearn/initializations.py:174: calling TruncatedNormal.__init__ (from tensorflow.python.ops.init_ops) with dtype is deprecated and will be removed in a future version.\n",
      "Instructions for updating:\n",
      "Call initializer instance with the dtype argument instead of passing it to the constructor\n",
      "W0911 22:17:46.065107 139620787279680 deprecation_wrapper.py:119] From /home/josephcleveland/Research/venv/lib/python3.6/site-packages/tflearn/optimizers.py:238: The name tf.train.AdamOptimizer is deprecated. Please use tf.compat.v1.train.AdamOptimizer instead.\n",
      "\n",
      "W0911 22:17:46.313643 139620787279680 deprecation_wrapper.py:119] From /home/josephcleveland/Research/venv/lib/python3.6/site-packages/tflearn/summaries.py:46: The name tf.summary.scalar is deprecated. Please use tf.compat.v1.summary.scalar instead.\n",
      "\n",
      "W0911 22:17:46.900976 139620787279680 deprecation.py:323] From /home/josephcleveland/Research/venv/lib/python3.6/site-packages/tensorflow/python/ops/clip_ops.py:286: add_dispatch_support.<locals>.wrapper (from tensorflow.python.ops.array_ops) is deprecated and will be removed in a future version.\n",
      "Instructions for updating:\n",
      "Use tf.where in 2.0, which has the same broadcast rule as np.where\n",
      "W0911 22:17:46.937838 139620787279680 deprecation_wrapper.py:119] From /home/josephcleveland/Research/venv/lib/python3.6/site-packages/tflearn/helpers/trainer.py:134: The name tf.train.Saver is deprecated. Please use tf.compat.v1.train.Saver instead.\n",
      "\n"
     ]
    },
    {
     "ename": "NameError",
     "evalue": "name 'train_x' is not defined",
     "output_type": "error",
     "traceback": [
      "\u001b[0;31m---------------------------------------------------------------------------\u001b[0m",
      "\u001b[0;31mNameError\u001b[0m                                 Traceback (most recent call last)",
      "\u001b[0;32m<ipython-input-13-582580ba32ed>\u001b[0m in \u001b[0;36m<module>\u001b[0;34m\u001b[0m\n\u001b[1;32m      7\u001b[0m                          loss='mean_square')\n\u001b[1;32m      8\u001b[0m \u001b[0mmodel\u001b[0m \u001b[0;34m=\u001b[0m \u001b[0mtflearn\u001b[0m\u001b[0;34m.\u001b[0m\u001b[0mDNN\u001b[0m\u001b[0;34m(\u001b[0m\u001b[0mnet\u001b[0m\u001b[0;34m,\u001b[0m \u001b[0mtensorboard_verbose\u001b[0m\u001b[0;34m=\u001b[0m\u001b[0;36m0\u001b[0m\u001b[0;34m)\u001b[0m\u001b[0;34m\u001b[0m\u001b[0;34m\u001b[0m\u001b[0m\n\u001b[0;32m----> 9\u001b[0;31m model.fit(train_x, train_y, validation_set=(test_x, test_y), show_metric=True,\n\u001b[0m\u001b[1;32m     10\u001b[0m           batch_size=32, n_epoch=1000)\n",
      "\u001b[0;31mNameError\u001b[0m: name 'train_x' is not defined"
     ]
    }
   ],
   "source": [
    "\"\"\"LSTM network\"\"\"\n",
    "\n",
    "net = tflearn.input_data([None, features_cols, features_rows])\n",
    "net = tflearn.lstm(net, 128, dropout=0.8)\n",
    "net = tflearn.fully_connected(net, parameter_size, activation='relu')\n",
    "net = tflearn.regression(net, optimizer='adam', learning_rate=0.001,\n",
    "                         loss='mean_square')\n",
    "model = tflearn.DNN(net, tensorboard_verbose=0)\n",
    "model.fit(train_x, train_y, validation_set=(test_x, test_y), show_metric=True,\n",
    "          batch_size=32, n_epoch=1000)"
   ]
  },
  {
   "cell_type": "code",
   "execution_count": null,
   "metadata": {},
   "outputs": [],
   "source": []
  }
 ],
 "metadata": {
  "kernelspec": {
   "display_name": "Python 3",
   "language": "python",
   "name": "python3"
  },
  "language_info": {
   "codemirror_mode": {
    "name": "ipython",
    "version": 3
   },
   "file_extension": ".py",
   "mimetype": "text/x-python",
   "name": "python",
   "nbconvert_exporter": "python",
   "pygments_lexer": "ipython3",
   "version": "3.6.8"
  }
 },
 "nbformat": 4,
 "nbformat_minor": 2
}
