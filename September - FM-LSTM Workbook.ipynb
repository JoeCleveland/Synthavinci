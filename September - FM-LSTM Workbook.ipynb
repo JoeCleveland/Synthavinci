{
 "cells": [
  {
   "cell_type": "code",
   "execution_count": 3,
   "metadata": {},
   "outputs": [],
   "source": [
    "import numpy as np\n",
    "import wavload\n",
    "import librosa\n",
    "import math        \n",
    "import pyaudio  \n",
    "import random\n",
    "#import tflearn\n",
    "#import keras"
   ]
  },
  {
   "cell_type": "code",
   "execution_count": 214,
   "metadata": {},
   "outputs": [
    {
     "name": "stdout",
     "output_type": "stream",
     "text": [
      "[0.001 0.002 0.003 0.004 0.005 0.006 0.007 0.008 0.009 0.01 ]\n",
      "(10, 220500)\n"
     ]
    }
   ],
   "source": [
    "\"\"\"Modal synth Mark 1\"\"\"\n",
    "\n",
    "fs = 44100       # sampling rate, Hz, must be integer\n",
    "duration = 5     # in seconds, may be float\n",
    "\n",
    "num_samples = 10\n",
    "num_overtones = 10\n",
    "\n",
    "overtones = np.random.uniform (20 , 20000 , size = (num_samples,num_overtones))\n",
    "overtones = np.sort(overtones,axis=1)\n",
    "amp  = np.random.uniform (1,10   , size = (num_samples,num_overtones))\n",
    "#amp = np.sort(amp, axis = 1)\n",
    "#amp = np.flip(amp,axis=1)\n",
    "audio = np.zeros((num_samples,(fs*duration)))\n",
    "d = np.linspace(0.001,0.01, num = num_overtones)\n",
    "\n",
    "\n",
    "for i in range (0,num_samples):\n",
    "    combined_sine = np.zeros((1,(fs*duration)))\n",
    "    for j in range (0,num_overtones):\n",
    "        sine = ((amp[i][j]**(-d[j]*np.arange(fs*duration))/fs)*(np.sin(2*np.pi*np.arange(fs*duration)*overtones[i][j]/fs))).astype(np.float32)\n",
    "        combined_sine = combined_sine + sine\n",
    "    audio[i] = combined_sine\n",
    "audio = audio/num_overtones\n",
    "print(audio.shape)"
   ]
  },
  {
   "cell_type": "code",
   "execution_count": 199,
   "metadata": {},
   "outputs": [
    {
     "name": "stdout",
     "output_type": "stream",
     "text": [
      "(100, 220500)\n",
      "(100, 220500)\n"
     ]
    }
   ],
   "source": [
    "\"\"\"Additive synth Mark 3\"\"\"\n",
    "\n",
    "fs = 44100       # sampling rate, Hz, must be integer\n",
    "duration = 5   # in seconds, may be float\n",
    "\n",
    "num_samples = 100\n",
    "num_overtones = 10\n",
    "\n",
    "overtones = np.random.uniform (20 , 20000 , size = (num_samples,num_overtones))\n",
    "amp  = np.random.uniform (0  , 1    , size = (num_samples,num_overtones))\n",
    "audio = np.zeros((num_samples,(fs*duration)))\n",
    "print(audio.shape)\n",
    "\n",
    "for i in range (0,num_samples):\n",
    "    combined_sine = np.zeros((1,(fs*duration)))\n",
    "    for j in range (0,num_overtones):\n",
    "        sine = (amp[i][j]*(np.sin(2*np.pi*np.arange(fs*duration)*overtones[i][j]/fs))).astype(np.float32)\n",
    "        combined_sine = combined_sine + sine\n",
    "    audio[i] = combined_sine\n",
    "audio = audio/num_overtones\n",
    "print(audio.shape)\n",
    "    \n",
    "\n",
    "   "
   ]
  },
  {
   "cell_type": "code",
   "execution_count": 225,
   "metadata": {},
   "outputs": [],
   "source": [
    "# for paFloat32 sample values must be in range [-1.0, 1.0]\n",
    "p = pyaudio.PyAudio()\n",
    "\n",
    "\n",
    "stream = p.open(format=pyaudio.paFloat32,\n",
    "                    channels=1,\n",
    "                    rate=fs,\n",
    "                    output=True)\n",
    "\n",
    "# play. May repeat with different volume values (if done interactively) \n",
    "stream.write(audio[9])\n",
    "\n",
    "stream.stop_stream()\n",
    "stream.close()\n",
    "\n",
    "p.terminate()\n"
   ]
  },
  {
   "cell_type": "code",
   "execution_count": 6,
   "metadata": {},
   "outputs": [
    {
     "name": "stdout",
     "output_type": "stream",
     "text": [
      "0\n"
     ]
    },
    {
     "ename": "AttributeError",
     "evalue": "'numpy.ndarray' object has no attribute 'type'",
     "output_type": "error",
     "traceback": [
      "\u001b[1;31m---------------------------------------------------------------------------\u001b[0m",
      "\u001b[1;31mAttributeError\u001b[0m                            Traceback (most recent call last)",
      "\u001b[1;32m<ipython-input-6-4445fa226799>\u001b[0m in \u001b[0;36m<module>\u001b[1;34m\u001b[0m\n\u001b[0;32m     63\u001b[0m     \u001b[0mX_data\u001b[0m\u001b[1;33m[\u001b[0m\u001b[0mi\u001b[0m\u001b[1;33m]\u001b[0m \u001b[1;33m=\u001b[0m \u001b[0maudio\u001b[0m\u001b[1;33m\u001b[0m\u001b[1;33m\u001b[0m\u001b[0m\n\u001b[0;32m     64\u001b[0m     \u001b[0mprint\u001b[0m\u001b[1;33m(\u001b[0m\u001b[0mi\u001b[0m\u001b[1;33m)\u001b[0m\u001b[1;33m\u001b[0m\u001b[1;33m\u001b[0m\u001b[0m\n\u001b[1;32m---> 65\u001b[1;33m     \u001b[0mprint\u001b[0m\u001b[1;33m(\u001b[0m\u001b[0maudio\u001b[0m\u001b[1;33m.\u001b[0m\u001b[0mtype\u001b[0m\u001b[1;33m)\u001b[0m\u001b[1;33m\u001b[0m\u001b[1;33m\u001b[0m\u001b[0m\n\u001b[0m",
      "\u001b[1;31mAttributeError\u001b[0m: 'numpy.ndarray' object has no attribute 'type'"
     ]
    }
   ],
   "source": [
    "\"\"\"Additive synth - Mark 2 \"\"\"\n",
    "\n",
    "fs = 22050      # sampling rate, Hz, must be integer\n",
    "duration = 5   # in seconds, may be float\n",
    "\n",
    "num_samples = 10\n",
    "freq = np.zeros((num_samples,10))\n",
    "amp = np.zeros((num_samples,10))\n",
    "X_data = np.zeros((num_samples,fs*duration))\n",
    "\n",
    "\n",
    "for i in range (0,num_samples):\n",
    "    freq1 = random.uniform(16,2000)        # sine frequency, Hz, may be float\n",
    "    freq2 = 2*freq1\n",
    "    freq3 = 3*freq1\n",
    "    freq4 = 4*freq1\n",
    "    freq5 = 5*freq1\n",
    "    freq6 = 6*freq1\n",
    "    freq7 = 7*freq1\n",
    "    freq8 = 8*freq1\n",
    "    freq9 = 9*freq1\n",
    "    freq10 = 10*freq1\n",
    "\n",
    "    amp1 = random.uniform(0,1)     # range [0.0, 1.0]\n",
    "    amp2 = random.uniform(0,amp1)\n",
    "    amp3 = random.uniform(0,amp2)\n",
    "    amp4 = random.uniform(0,amp3)\n",
    "    amp5 = random.uniform(0,amp4)\n",
    "    amp6 = random.uniform(0,amp5)\n",
    "    amp7 = random.uniform(0,amp6)\n",
    "    amp8 = random.uniform(0,amp7)\n",
    "    amp9 = random.uniform(0,amp8)\n",
    "    amp10 = random.uniform(0,amp9)\n",
    "\n",
    "\n",
    "    # generate samples, note conversion to float32 array\n",
    "    sample1 = (amp1*(np.sin(2*np.pi*np.arange(fs*duration)*freq1/fs))).astype(np.float32)\n",
    "    sample2 = (amp2*(np.sin(2*np.pi*np.arange(fs*duration)*freq2/fs))).astype(np.float32)\n",
    "    sample3 = (amp3*(np.sin(2*np.pi*np.arange(fs*duration)*freq3/fs))).astype(np.float32)\n",
    "    sample4 = (amp4*(np.sin(2*np.pi*np.arange(fs*duration)*freq4/fs))).astype(np.float32)\n",
    "    sample5 = (amp5*(np.sin(2*np.pi*np.arange(fs*duration)*freq5/fs))).astype(np.float32)\n",
    "    sample6 = (amp6*(np.sin(2*np.pi*np.arange(fs*duration)*freq6/fs))).astype(np.float32)\n",
    "    sample7 = (amp7*(np.sin(2*np.pi*np.arange(fs*duration)*freq7/fs))).astype(np.float32)\n",
    "    sample8 = (amp8*(np.sin(2*np.pi*np.arange(fs*duration)*freq8/fs))).astype(np.float32)\n",
    "    sample9 = (amp9*(np.sin(2*np.pi*np.arange(fs*duration)*freq9/fs))).astype(np.float32)\n",
    "    sample10 = (amp10*(np.sin(2*np.pi*np.arange(fs*duration)*freq10/fs))).astype(np.float32)\n",
    "\n",
    "    audio = ((sample1\n",
    "                 +sample2\n",
    "                 +sample3\n",
    "                 +sample4\n",
    "                 +sample5\n",
    "                 +sample6\n",
    "                 +sample7\n",
    "                 +sample8\n",
    "                 +sample9\n",
    "                 +sample10)/10)\n",
    "\n",
    "    freq[i] = (freq1,freq2,freq3,freq4,freq5,freq6,freq7,freq8,freq9,freq10)    \n",
    "    amp[i] = (amp1,amp2,amp3,amp4,amp5,amp6,amp7,amp8,amp9,amp10)\n",
    "    X_data[i] = audio\n",
    "    print(freq.shape)\n",
    "    \n"
   ]
  },
  {
   "cell_type": "code",
   "execution_count": null,
   "metadata": {},
   "outputs": [],
   "source": [
    "# for paFloat32 sample values must be in range [-1.0, 1.0]\n",
    "\n",
    "p = pyaudio.PyAudio()\n",
    "\n",
    "stream = p.open(format=pyaudio.paFloat32,\n",
    "                    channels=1,\n",
    "                    rate=fs,\n",
    "                    output=True)\n",
    "\n",
    "# play. May repeat with different volume values (if done interactively) \n",
    "stream.write(audio)\n",
    "\n",
    "stream.stop_stream()\n",
    "stream.close()\n",
    "\n",
    "p.terminate()\n"
   ]
  },
  {
   "cell_type": "code",
   "execution_count": 90,
   "metadata": {},
   "outputs": [],
   "source": [
    "\"\"\"Additive synth Mark 1 \"\"\"\n",
    "\n",
    "PyAudio = pyaudio.PyAudio     \n",
    "\n",
    "BITRATE = 44100     #number of frames per second/frameset.      \n",
    "\n",
    "FREQUENCY1 = 200     #Hz, waves per second, 261.63=C4-note.\n",
    "FREQUENCY2 = 400\n",
    "FREQUENCY3 = 600\n",
    "FREQUENCY4 = 100\n",
    "LENGTH = 1     #seconds to play sound\n",
    "\n",
    "\n",
    "\n",
    "NUMBEROFFRAMES = int(BITRATE * LENGTH)\n",
    "RESTFRAMES = NUMBEROFFRAMES % BITRATE\n",
    "WAVEDATA = ''    \n",
    "\n",
    "#generating wawes\n",
    "for x in range(NUMBEROFFRAMES):\n",
    "    WAVEDATA = WAVEDATA+chr(int(math.sin(x/((BITRATE/FREQUENCY1)/math.pi))*127+128)\n",
    "                            +int(math.sin(x/((BITRATE/FREQUENCY2)/math.pi))*127+128)\n",
    "                            +int(math.sin(x/((BITRATE/FREQUENCY3)/math.pi))*127+128)\n",
    "                           +int(math.sin(x/((BITRATE/FREQUENCY4)/math.pi))*127+128))   \n",
    "\n",
    "for x in range(RESTFRAMES): \n",
    "    WAVEDATA = WAVEDATA+chr(128)\n",
    "\n",
    "p = PyAudio()\n",
    "stream = p.open(format = p.get_format_from_width(1), \n",
    "                channels = 1, \n",
    "                rate = BITRATE, \n",
    "                output = True)\n",
    "\n",
    "stream.write(WAVEDATA)\n",
    "stream.stop_stream()\n",
    "stream.close()\n",
    "p.terminate()"
   ]
  },
  {
   "cell_type": "code",
   "execution_count": null,
   "metadata": {},
   "outputs": [],
   "source": [
    "\"\"\"Writing wav file\"\"\"\n",
    "\n",
    "w = wave.open(filename, 'w')\n"
   ]
  },
  {
   "cell_type": "code",
   "execution_count": 45,
   "metadata": {},
   "outputs": [
    {
     "name": "stdout",
     "output_type": "stream",
     "text": [
      "(1, 229411)\n",
      "[[0]\n",
      " [0]\n",
      " [0]\n",
      " ...\n",
      " [0]\n",
      " [0]\n",
      " [0]]\n",
      "(229411,)\n"
     ]
    }
   ],
   "source": [
    "\"\"\"Loading audio data\"\"\"\n",
    "\n",
    "num_data = 1\n",
    "num_params = 16\n",
    "samp_length = 229411\n",
    "sr = 44100\n",
    "\n",
    "X_data = np.zeros(shape=(num_data,samp_length))\n",
    "print(X_data.shape)\n",
    "\n",
    "for r in range(0, num_data):\n",
    "    audio = wavload.readwav('C:/Users/arshi/Desktop/FM Synth Data/BeepBoop.wav')[2]\n",
    "    print(audio)\n",
    "    audio = audio.T[0]\n",
    "    if(audio.shape != samp_length):\n",
    "        padded = np.zeros(shape=(samp_length))\n",
    "        padded[:np.shape(audio)[0]] = audio\n",
    "        audio = padded\n",
    "    X_data[r] = audio\n",
    "    print(X_data[0].shape)\n",
    "    "
   ]
  },
  {
   "cell_type": "code",
   "execution_count": null,
   "metadata": {},
   "outputs": [],
   "source": [
    "\"\"\"LSTM network\"\"\"\n",
    "\n",
    "model = Sequential()\n",
    "model.add(LSTM(128))\n",
    "model.add(Dense(units=20, activation='relu'))\n",
    "model.compile(loss='mean_squared_error',\n",
    "              optimizer='sgd',\n",
    "              metrics=['accuracy'])\n",
    "model.fit(MFCC, Y_data)"
   ]
  },
  {
   "cell_type": "code",
   "execution_count": null,
   "metadata": {},
   "outputs": [],
   "source": [
    "outs = model.predict(MFCC)"
   ]
  }
 ],
 "metadata": {
  "kernelspec": {
   "display_name": "Python 3",
   "language": "python",
   "name": "python3"
  },
  "language_info": {
   "codemirror_mode": {
    "name": "ipython",
    "version": 3
   },
   "file_extension": ".py",
   "mimetype": "text/x-python",
   "name": "python",
   "nbconvert_exporter": "python",
   "pygments_lexer": "ipython3",
   "version": "3.7.3"
  }
 },
 "nbformat": 4,
 "nbformat_minor": 2
}
