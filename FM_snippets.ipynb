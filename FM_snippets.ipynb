{
 "cells": [
  {
   "cell_type": "code",
   "execution_count": 35,
   "metadata": {},
   "outputs": [],
   "source": [
    "import numpy as np\n",
    "import wave\n",
    "from scipy.io import wavfile\n",
    "from scipy import signal\n",
    "from keras.utils.np_utils import to_categorical\n",
    "from tensorflow.keras import initializers\n",
    "from tensorflow.keras.models import Model\n",
    "from tensorflow.keras.layers import Dense, Dropout, Activation, Flatten, Reshape, Input\n",
    "from tensorflow.keras.layers import Convolution2D, BatchNormalization, MaxPooling2D\n",
    "from tensorflow.keras.regularizers import l2\n",
    "from librosa.core import stft\n",
    "import librosa\n",
    "import librosa.display\n",
    "import matplotlib.pyplot as plt\n",
    "import matplotlib.cm as cm\n",
    "import tensorflow.keras.backend as K\n",
    "from tensorflow.keras import optimizers\n",
    "import tensorflow as tf\n",
    "#import datagen\n",
    "import soundfile as sf\n",
    "import os\n",
    "#from sklearn.ensemble import RandomForestRegressor\n",
    "#from sklearn.datasets import make_regression"
   ]
  },
  {
   "cell_type": "code",
   "execution_count": 79,
   "metadata": {},
   "outputs": [
    {
     "name": "stderr",
     "output_type": "stream",
     "text": [
      "c:\\users\\joe\\summer\\synthavinci\\env\\lib\\site-packages\\ipykernel_launcher.py:17: ComplexWarning: Casting complex values to real discards the imaginary part\n"
     ]
    }
   ],
   "source": [
    "num_data = 10\n",
    "samp_length = 8192\n",
    "\n",
    "X = np.zeros((5000, 25, 257))\n",
    "A = np.zeros((5000, 8192))\n",
    "for s in range(0, num_data):\n",
    "    audio,_ = sf.read('C:/FMSnippets/Samp' + str(s) + '.wav')\n",
    "    audio = audio.T[0]\n",
    "    if(audio.shape[0] < samp_length):\n",
    "        padded = np.zeros(shape=(samp_length))\n",
    "        padded[:np.shape(audio)[0]] = audio\n",
    "        audio = padded\n",
    "    else:\n",
    "        audio = audio[0:samp_length]\n",
    "    A[s] = audio\n",
    "    spect = stft(audio, n_fft=128)[0:25,:]\n",
    "    X[s] = spect"
   ]
  },
  {
   "cell_type": "code",
   "execution_count": 80,
   "metadata": {},
   "outputs": [
    {
     "data": {
      "image/png": "[encoded data removed]",
      "text/plain": [
       "<Figure size 432x288 with 1 Axes>"
      ]
     },
     "metadata": {
      "needs_background": "light"
     },
     "output_type": "display_data"
    }
   ],
   "source": [
    "\n",
    "\n",
    "plt.imshow(X[0], aspect='auto', cmap=cm.gist_rainbow)\n",
    "plt.show()"
   ]
  },
  {
   "cell_type": "code",
   "execution_count": 85,
   "metadata": {
    "scrolled": true
   },
   "outputs": [
    {
     "name": "stdout",
     "output_type": "stream",
     "text": [
      "(128, 17)\n"
     ]
    },
    {
     "data": {
      "image/png": "[encoded data removed]",
      "text/plain": [
       "<Figure size 432x288 with 2 Axes>"
      ]
     },
     "metadata": {
      "needs_background": "light"
     },
     "output_type": "display_data"
    }
   ],
   "source": [
    "Spectogram = np.abs(librosa.feature.melspectrogram(A[0], sr=44100, n_mels=128))\n",
    "\n",
    "librosa.display.specshow(librosa.amplitude_to_db(Spectogram,\n",
    "                        ref=np.max),\n",
    "                          y_axis='mel', x_axis='time')\n",
    "print(Spectogram.shape)\n",
    "plt.title('Power spectrogram')\n",
    "plt.colorbar(format='%+2.0f dB')\n",
    "plt.tight_layout()"
   ]
  },
  {
   "cell_type": "markdown",
   "metadata": {},
   "source": [
    "Load waves and output stft as numpy binary files:"
   ]
  },
  {
   "cell_type": "code",
   "execution_count": 6,
   "metadata": {
    "scrolled": true
   },
   "outputs": [],
   "source": [
    "num_data = 50000\n",
    "samp_length = 8192\n",
    "\n",
    "for s in range(0, num_data):\n",
    "    audio,_ = sf.read('/media/data/FMSnippets/samp' + str(s) + '.wav')\n",
    "    audio = audio.T[0]\n",
    "    if(audio.shape[0] < samp_length):\n",
    "        padded = np.zeros(shape=(samp_length))\n",
    "        padded[:np.shape(audio)[0]] = audio\n",
    "        audio = padded\n",
    "    else:\n",
    "        audio = audio[0:samp_length]\n",
    "    #spect = stft(audio,n_fft=1408)[0:64, 10:11] #Grab from middle of spect, is most regular\n",
    "    spect = np.abs(librosa.feature.melspectrogram(audio, sr=44100, n_mels=512))[0:512, 10:11]\n",
    "    np.save('/media/data/FMSpects/spect' + str(s) + '.stft', spect)\n",
    "        "
   ]
  },
  {
   "cell_type": "markdown",
   "metadata": {},
   "source": [
    "Generator to load the stft and matrix files in batches:"
   ]
  },
  {
   "cell_type": "code",
   "execution_count": 29,
   "metadata": {},
   "outputs": [],
   "source": [
    "def dataLoader(batch_size):\n",
    "\n",
    "    L = 45000\n",
    "    print(L)\n",
    "\n",
    "    #this line is just to make the generator infinite, keras needs that    \n",
    "    while True:\n",
    "        batch_start = 0\n",
    "        batch_end = batch_size\n",
    "        ymat = np.genfromtxt('/media/data/FMSnippets/mat.txt', delimiter = ',', max_rows=50000)\n",
    "        while batch_start < L:\n",
    "            X = np.zeros((batch_size,512,1))\n",
    "            for i in range (batch_start,batch_end):\n",
    "                ft = np.load('/home/josephcleveland/FMSpects/spect' + str(i) + '.stft.npy')\n",
    "                X[i - batch_start] = ft\n",
    "            Y = ymat[batch_start:batch_end]\n",
    "            X = np.expand_dims(X, axis = 3)\n",
    "           # print(Y.shape, \" ... \", X.shape)\n",
    "            yield (X,Y) #a tuple with two numpy arrays with batch_size samples     \n",
    "\n",
    "            batch_start += batch_size   \n",
    "            batch_end += batch_size"
   ]
  },
  {
   "cell_type": "code",
   "execution_count": 4,
   "metadata": {},
   "outputs": [],
   "source": [
    "num_data = 45000\n",
    "samp_length = 8192"
   ]
  },
  {
   "cell_type": "markdown",
   "metadata": {},
   "source": [
    "Load test data"
   ]
  },
  {
   "cell_type": "code",
   "execution_count": 5,
   "metadata": {},
   "outputs": [],
   "source": [
    "test_size = 5000\n",
    "Y_data = np.zeros(shape=(test_size))\n",
    "mat = np.genfromtxt('/media/data/FMSnippets/mat.txt', delimiter=',')\n",
    "Y_test = mat[num_data:num_data+test_size]\n",
    "\n",
    "X_test = np.zeros((test_size,512,1))\n",
    "for i in range (num_data,num_data+test_size):\n",
    "    ft = np.load('/media/data/FMSpects/spect' + str(i) + '.stft.npy')\n",
    "    X_test[i-num_data] = ft\n",
    "\n",
    "X_test = np.expand_dims(X_test, axis = 3)"
   ]
  },
  {
   "cell_type": "code",
   "execution_count": 6,
   "metadata": {},
   "outputs": [],
   "source": [
    "\n",
    "def customLoss(yTrue, yPred):\n",
    "    return K.sum(K.mean(K.square(yTrue[:, 0:2] - yPred[:, 0:2]))) + K.sum(K.mean(K.square(yTrue[:, 2:4] - yPred[:, 2:4]))) * 2 + K.sum(K.mean(K.square(yTrue[:, 4] - yPred[:, 4])))"
   ]
  },
  {
   "cell_type": "code",
   "execution_count": 38,
   "metadata": {},
   "outputs": [],
   "source": [
    "inputs = Input(shape=(512,1,1))\n",
    "\n",
    "# a layer instance is callable on a tensor, and returns a tensor\n",
    "x = BatchNormalization()(inputs)\n",
    "x = MaxPooling2D(pool_size=(2, 1))(x)\n",
    "x = Convolution2D(64, kernel_size=(3, 1), strides=(1, 1), padding=\"same\", activation='relu', kernel_initializer='he_uniform', kernel_regularizer=l2(0.0005), bias_regularizer=l2(0.0005))(x)\n",
    "x = MaxPooling2D(pool_size=(2, 1))(x)\n",
    "x = Convolution2D(64, kernel_size=(3, 1), strides=(1, 1), padding=\"same\", activation='relu', kernel_initializer='he_uniform', kernel_regularizer=l2(0.0005), bias_regularizer=l2(0.0005))(x)\n",
    "x = MaxPooling2D(pool_size=(2, 1))(x)\n",
    "x = Convolution2D(64, kernel_size=(3, 1), strides=(1, 1), padding=\"same\", activation='relu', kernel_initializer='he_uniform', kernel_regularizer=l2(0.0005), bias_regularizer=l2(0.0005))(x)\n",
    "x = Convolution2D(64, kernel_size=(3, 1), strides=(1, 1), padding=\"same\", activation='relu', kernel_initializer='he_uniform', kernel_regularizer=l2(0.0005), bias_regularizer=l2(0.0005))(x)\n",
    "x = MaxPooling2D(pool_size=(2, 1))(x)\n",
    "x = Convolution2D(64, kernel_size=(3, 1), strides=(1, 1), padding=\"same\", activation='relu', kernel_initializer='he_uniform', kernel_regularizer=l2(0.0005), bias_regularizer=l2(0.0005))(x)\n",
    "x = Convolution2D(64, kernel_size=(3, 1), strides=(1, 1), padding=\"same\", activation='relu', kernel_initializer='he_uniform', kernel_regularizer=l2(0.0005), bias_regularizer=l2(0.0005))(x)\n",
    "x = MaxPooling2D(pool_size=(2, 1))(x)\n",
    "x = Convolution2D(64, kernel_size=(3, 1), strides=(1, 1), padding=\"same\", activation='relu', kernel_initializer='he_uniform', kernel_regularizer=l2(0.0005), bias_regularizer=l2(0.0005))(x)\n",
    "x = Convolution2D(64, kernel_size=(3, 1), strides=(1, 1), padding=\"same\", activation='relu', kernel_initializer='he_uniform', kernel_regularizer=l2(0.0005), bias_regularizer=l2(0.0005))(x)\n",
    "x = MaxPooling2D(pool_size=(2, 1))(x)\n",
    "x = Flatten()(x)\n",
    "#x = Dense(512, activation='relu', kernel_initializer='he_uniform')(x)\n",
    "x = Dense(512, activation='relu', kernel_initializer='he_uniform', kernel_regularizer=l2(0.0005), bias_regularizer=l2(0.0005))(x)\n",
    "#x = Dense(512, activation='relu')(x)\n",
    "x = Dense(5)(x)\n",
    "# This creates a model that includes\n",
    "# the Input layer and three Dense layers\n",
    "adam = optimizers.Adam(lr=0.0001)\n",
    "model = Model(inputs=inputs, outputs=x)\n",
    "model.compile(adam,\n",
    "              loss=customLoss,\n",
    "              metrics=['accuracy'])"
   ]
  },
  {
   "cell_type": "code",
   "execution_count": 39,
   "metadata": {},
   "outputs": [
    {
     "name": "stdout",
     "output_type": "stream",
     "text": [
      "45000\n",
      "Epoch 1/40\n",
      "1406/1406 [==============================] - 19s 14ms/step - loss: 2.0423 - acc: 0.3262\n",
      "Epoch 2/40\n",
      "1406/1406 [==============================] - 18s 13ms/step - loss: 1.2180 - acc: 0.4180\n",
      "Epoch 3/40\n",
      "1406/1406 [==============================] - 18s 13ms/step - loss: 1.1113 - acc: 0.4773\n",
      "Epoch 4/40\n",
      "1406/1406 [==============================] - 18s 13ms/step - loss: 1.0200 - acc: 0.5110\n",
      "Epoch 5/40\n",
      "1406/1406 [==============================] - 18s 13ms/step - loss: 0.9266 - acc: 0.5339\n",
      "Epoch 6/40\n",
      "1406/1406 [==============================] - 18s 13ms/step - loss: 0.8285 - acc: 0.5548\n",
      "Epoch 7/40\n",
      "1406/1406 [==============================] - 18s 13ms/step - loss: 0.7277 - acc: 0.5721\n",
      "Epoch 8/40\n",
      "1406/1406 [==============================] - 18s 13ms/step - loss: 0.6299 - acc: 0.5852\n",
      "Epoch 9/40\n",
      "1406/1406 [==============================] - 18s 13ms/step - loss: 0.5421 - acc: 0.5959\n",
      "Epoch 10/40\n",
      "1406/1406 [==============================] - 18s 13ms/step - loss: 0.4695 - acc: 0.6053\n",
      "Epoch 11/40\n",
      "1406/1406 [==============================] - 18s 13ms/step - loss: 0.4134 - acc: 0.6129\n",
      "Epoch 12/40\n",
      "1406/1406 [==============================] - 18s 13ms/step - loss: 0.3710 - acc: 0.6195\n",
      "Epoch 13/40\n",
      "1406/1406 [==============================] - 18s 13ms/step - loss: 0.3390 - acc: 0.6248\n",
      "Epoch 14/40\n",
      "1406/1406 [==============================] - 18s 13ms/step - loss: 0.3137 - acc: 0.6296\n",
      "Epoch 15/40\n",
      "1406/1406 [==============================] - 18s 13ms/step - loss: 0.2928 - acc: 0.6339\n",
      "Epoch 16/40\n",
      "1406/1406 [==============================] - 18s 13ms/step - loss: 0.2756 - acc: 0.6376\n",
      "Epoch 17/40\n",
      "1406/1406 [==============================] - 18s 13ms/step - loss: 0.2609 - acc: 0.6401\n",
      "Epoch 18/40\n",
      "1406/1406 [==============================] - 18s 13ms/step - loss: 0.2482 - acc: 0.6433\n",
      "Epoch 19/40\n",
      "1406/1406 [==============================] - 18s 13ms/step - loss: 0.2372 - acc: 0.6460\n",
      "Epoch 20/40\n",
      "1406/1406 [==============================] - 18s 13ms/step - loss: 0.2275 - acc: 0.6485\n",
      "Epoch 21/40\n",
      "1406/1406 [==============================] - 18s 13ms/step - loss: 0.2189 - acc: 0.6487\n",
      "Epoch 22/40\n",
      "1406/1406 [==============================] - 18s 13ms/step - loss: 0.2113 - acc: 0.6524\n",
      "Epoch 23/40\n",
      "1406/1406 [==============================] - 18s 13ms/step - loss: 0.2044 - acc: 0.6544\n",
      "Epoch 24/40\n",
      "1406/1406 [==============================] - 18s 13ms/step - loss: 0.1984 - acc: 0.6564\n",
      "Epoch 25/40\n",
      "1406/1406 [==============================] - 18s 13ms/step - loss: 0.1929 - acc: 0.6593\n",
      "Epoch 26/40\n",
      "1406/1406 [==============================] - 18s 13ms/step - loss: 0.1878 - acc: 0.6612\n",
      "Epoch 27/40\n",
      "1406/1406 [==============================] - 18s 13ms/step - loss: 0.1830 - acc: 0.6628\n",
      "Epoch 28/40\n",
      "1406/1406 [==============================] - 18s 13ms/step - loss: 0.1788 - acc: 0.6648\n",
      "Epoch 29/40\n",
      "1406/1406 [==============================] - 18s 13ms/step - loss: 0.1748 - acc: 0.6667\n",
      "Epoch 30/40\n",
      "1406/1406 [==============================] - 18s 13ms/step - loss: 0.1711 - acc: 0.6669\n",
      "Epoch 31/40\n",
      "1406/1406 [==============================] - 18s 13ms/step - loss: 0.1675 - acc: 0.6671\n",
      "Epoch 32/40\n",
      "1406/1406 [==============================] - 18s 13ms/step - loss: 0.1645 - acc: 0.6691\n",
      "Epoch 33/40\n",
      "1406/1406 [==============================] - 18s 13ms/step - loss: 0.1615 - acc: 0.6709\n",
      "Epoch 34/40\n",
      "1406/1406 [==============================] - 18s 13ms/step - loss: 0.1587 - acc: 0.6720\n",
      "Epoch 35/40\n",
      "1406/1406 [==============================] - 18s 13ms/step - loss: 0.1559 - acc: 0.6743\n",
      "Epoch 36/40\n",
      "1406/1406 [==============================] - 19s 13ms/step - loss: 0.1534 - acc: 0.6751\n",
      "Epoch 37/40\n",
      "1406/1406 [==============================] - 18s 13ms/step - loss: 0.1511 - acc: 0.6758\n",
      "Epoch 38/40\n",
      "1406/1406 [==============================] - 19s 13ms/step - loss: 0.1489 - acc: 0.6773\n",
      "Epoch 39/40\n",
      "1406/1406 [==============================] - 18s 13ms/step - loss: 0.1470 - acc: 0.6767\n",
      "Epoch 40/40\n",
      "1406/1406 [==============================] - 18s 13ms/step - loss: 0.1450 - acc: 0.6784\n"
     ]
    },
    {
     "data": {
      "text/plain": [
       "<tensorflow.python.keras.callbacks.History at 0x7efb0c094898>"
      ]
     },
     "execution_count": 39,
     "metadata": {},
     "output_type": "execute_result"
    }
   ],
   "source": [
    "fileList = os.listdir('/media/data/FMSpects')\n",
    "\n",
    "model.fit_generator(dataLoader(32), steps_per_epoch=1406, epochs=40, verbose=1, use_multiprocessing=True)"
   ]
  },
  {
   "cell_type": "code",
   "execution_count": 103,
   "metadata": {},
   "outputs": [
    {
     "name": "stdout",
     "output_type": "stream",
     "text": [
      "Model: \"model_19\"\n",
      "_________________________________________________________________\n",
      "Layer (type)                 Output Shape              Param #   \n",
      "=================================================================\n",
      "input_23 (InputLayer)        [(None, 512, 1, 1)]       0         \n",
      "_________________________________________________________________\n",
      "batch_normalization_22 (Batc (None, 512, 1, 1)         4         \n",
      "_________________________________________________________________\n",
      "max_pooling2d_138 (MaxPoolin (None, 256, 1, 1)         0         \n",
      "_________________________________________________________________\n",
      "conv2d_177 (Conv2D)          (None, 256, 1, 64)        256       \n",
      "_________________________________________________________________\n",
      "max_pooling2d_139 (MaxPoolin (None, 128, 1, 64)        0         \n",
      "_________________________________________________________________\n",
      "conv2d_178 (Conv2D)          (None, 128, 1, 128)       24704     \n",
      "_________________________________________________________________\n",
      "max_pooling2d_140 (MaxPoolin (None, 64, 1, 128)        0         \n",
      "_________________________________________________________________\n",
      "conv2d_179 (Conv2D)          (None, 64, 1, 256)        98560     \n",
      "_________________________________________________________________\n",
      "conv2d_180 (Conv2D)          (None, 64, 1, 256)        196864    \n",
      "_________________________________________________________________\n",
      "max_pooling2d_141 (MaxPoolin (None, 32, 1, 256)        0         \n",
      "_________________________________________________________________\n",
      "conv2d_181 (Conv2D)          (None, 32, 1, 512)        393728    \n",
      "_________________________________________________________________\n",
      "conv2d_182 (Conv2D)          (None, 32, 1, 512)        786944    \n",
      "_________________________________________________________________\n",
      "max_pooling2d_142 (MaxPoolin (None, 16, 1, 512)        0         \n",
      "_________________________________________________________________\n",
      "conv2d_183 (Conv2D)          (None, 16, 1, 512)        786944    \n",
      "_________________________________________________________________\n",
      "conv2d_184 (Conv2D)          (None, 16, 1, 512)        786944    \n",
      "_________________________________________________________________\n",
      "max_pooling2d_143 (MaxPoolin (None, 8, 1, 512)         0         \n",
      "_________________________________________________________________\n",
      "flatten_21 (Flatten)         (None, 4096)              0         \n",
      "_________________________________________________________________\n",
      "dense_52 (Dense)             (None, 512)               2097664   \n",
      "_________________________________________________________________\n",
      "dense_53 (Dense)             (None, 5)                 2565      \n",
      "=================================================================\n",
      "Total params: 5,175,177\n",
      "Trainable params: 5,175,175\n",
      "Non-trainable params: 2\n",
      "_________________________________________________________________\n"
     ]
    }
   ],
   "source": [
    "model.summary()"
   ]
  },
  {
   "cell_type": "code",
   "execution_count": 44,
   "metadata": {},
   "outputs": [],
   "source": [
    "o = model.predict(X_test)"
   ]
  },
  {
   "cell_type": "code",
   "execution_count": 45,
   "metadata": {},
   "outputs": [
    {
     "name": "stdout",
     "output_type": "stream",
     "text": [
      "5000/5000 [==============================] - 1s 106us/sample - loss: 0.1510 - acc: 0.6632\n"
     ]
    },
    {
     "data": {
      "text/plain": [
       "[0.1510250278711319, 0.6632]"
      ]
     },
     "execution_count": 45,
     "metadata": {},
     "output_type": "execute_result"
    }
   ],
   "source": [
    "model.evaluate(X_test, Y_test)"
   ]
  },
  {
   "cell_type": "code",
   "execution_count": 26,
   "metadata": {},
   "outputs": [
    {
     "ename": "NameError",
     "evalue": "name 'wavload' is not defined",
     "output_type": "error",
     "traceback": [
      "\u001b[0;31m---------------------------------------------------------------------------\u001b[0m",
      "\u001b[0;31mNameError\u001b[0m                                 Traceback (most recent call last)",
      "\u001b[0;32m<ipython-input-26-db6e3919fc0e>\u001b[0m in \u001b[0;36m<module>\u001b[0;34m\u001b[0m\n\u001b[0;32m----> 1\u001b[0;31m \u001b[0maudio\u001b[0m \u001b[0;34m=\u001b[0m \u001b[0mwavload\u001b[0m\u001b[0;34m.\u001b[0m\u001b[0mreadwav\u001b[0m\u001b[0;34m(\u001b[0m\u001b[0;34m'/Users/josephcleveland/Desktop/Screech.wav'\u001b[0m\u001b[0;34m)\u001b[0m\u001b[0;34m[\u001b[0m\u001b[0;36m2\u001b[0m\u001b[0;34m]\u001b[0m\u001b[0;34m\u001b[0m\u001b[0;34m\u001b[0m\u001b[0m\n\u001b[0m\u001b[1;32m      2\u001b[0m \u001b[0maudio\u001b[0m \u001b[0;34m=\u001b[0m \u001b[0maudio\u001b[0m\u001b[0;34m.\u001b[0m\u001b[0mT\u001b[0m\u001b[0;34m[\u001b[0m\u001b[0;36m0\u001b[0m\u001b[0;34m]\u001b[0m\u001b[0;34m\u001b[0m\u001b[0;34m\u001b[0m\u001b[0m\n\u001b[1;32m      3\u001b[0m \u001b[0;34m\u001b[0m\u001b[0m\n\u001b[1;32m      4\u001b[0m \u001b[0mX_audio\u001b[0m \u001b[0;34m=\u001b[0m \u001b[0maudio\u001b[0m\u001b[0;34m[\u001b[0m\u001b[0;36m0\u001b[0m\u001b[0;34m:\u001b[0m\u001b[0;36m67584\u001b[0m\u001b[0;34m]\u001b[0m\u001b[0;34m.\u001b[0m\u001b[0mastype\u001b[0m\u001b[0;34m(\u001b[0m\u001b[0mfloat\u001b[0m\u001b[0;34m)\u001b[0m\u001b[0;34m\u001b[0m\u001b[0;34m\u001b[0m\u001b[0m\n\u001b[1;32m      5\u001b[0m \u001b[0mX_piano\u001b[0m \u001b[0;34m=\u001b[0m \u001b[0mnp\u001b[0m\u001b[0;34m.\u001b[0m\u001b[0mzeros\u001b[0m\u001b[0;34m(\u001b[0m\u001b[0;34m(\u001b[0m\u001b[0;36m1\u001b[0m\u001b[0;34m,\u001b[0m \u001b[0;36m64\u001b[0m\u001b[0;34m,\u001b[0m \u001b[0;36m64\u001b[0m\u001b[0;34m)\u001b[0m\u001b[0;34m)\u001b[0m\u001b[0;34m\u001b[0m\u001b[0;34m\u001b[0m\u001b[0m\n",
      "\u001b[0;31mNameError\u001b[0m: name 'wavload' is not defined"
     ]
    }
   ],
   "source": [
    "audio = wavload.readwav('/Users/josephcleveland/Desktop/Screech.wav')[2]\n",
    "audio = audio.T[0]\n",
    "\n",
    "X_audio = audio[0:67584].astype(float)\n",
    "X_piano = np.zeros((1, 64, 64))\n",
    "X_piano[0] = stft(X_audio,n_fft=1408)[0:64, 0:64]\n",
    "X_piano = np.expand_dims(X_piano, axis=3)\n",
    "\n",
    "Spectogram = np.abs(librosa.feature.melspectrogram(X_audio, sr=44100, n_mels=128))\n",
    "librosa.display.specshow(librosa.amplitude_to_db(Spectogram,\n",
    "                        ref=np.max),\n",
    "                          y_axis='mel', x_axis='time')\n",
    "plt.title('Power spectrogram')\n",
    "plt.colorbar(format='%+2.0f dB')\n",
    "plt.tight_layout()\n",
    "\n",
    "o = model.predict(X_piano)"
   ]
  },
  {
   "cell_type": "code",
   "execution_count": 46,
   "metadata": {},
   "outputs": [
    {
     "name": "stdout",
     "output_type": "stream",
     "text": [
      "[0.0564431  0.07393427 0.09406458 0.07158272 0.14716904]\n",
      "average:  0.08863874263713582\n"
     ]
    }
   ],
   "source": [
    "average_dist = np.zeros(5)\n",
    "\n",
    "for p in range(0, 5):\n",
    "    dist_total = 0\n",
    "    for i in range(0, 5000):\n",
    "        dist_total += np.absolute(o[i, p] - Y_test[0 + i, p])\n",
    "    average_dist[p] = dist_total / 5000\n",
    "    \n",
    "print(average_dist)\n",
    "print(\"average: \", np.average(average_dist))"
   ]
  },
  {
   "cell_type": "code",
   "execution_count": 41,
   "metadata": {},
   "outputs": [
    {
     "name": "stdout",
     "output_type": "stream",
     "text": [
      "predicted [0.7553094  0.6772903  0.12203838 0.50940853 0.31881514]\n",
      "original [0.819 0.724 0.121 0.499 0.278]\n"
     ]
    }
   ],
   "source": [
    "sam = 1\n",
    "print(\"predicted\", o[sam])\n",
    "print(\"original\", Y_test[sam])"
   ]
  },
  {
   "cell_type": "code",
   "execution_count": 50,
   "metadata": {},
   "outputs": [],
   "source": [
    "np.savetxt(\"C:/Users/Joe/Summer/Seymour.csv\", o, delimiter=\",\")"
   ]
  },
  {
   "cell_type": "code",
   "execution_count": 51,
   "metadata": {},
   "outputs": [],
   "source": [
    "# Save the weights\n",
    "model.save_weights('C:/Users/Joe/Summer/ModelWeights/Seymour.h5')\n",
    "\n",
    "# Save the model architecture\n",
    "with open('C:/Users/Joe/Summer/ModelWeights/Seymour.json', 'w') as f:\n",
    "    f.write(model.to_json())"
   ]
  },
  {
   "cell_type": "code",
   "execution_count": null,
   "metadata": {},
   "outputs": [],
   "source": []
  }
 ],
 "metadata": {
  "kernelspec": {
   "display_name": "Python 3",
   "language": "python",
   "name": "python3"
  },
  "language_info": {
   "codemirror_mode": {
    "name": "ipython",
    "version": 3
   },
   "file_extension": ".py",
   "mimetype": "text/x-python",
   "name": "python",
   "nbconvert_exporter": "python",
   "pygments_lexer": "ipython3",
   "version": "3.6.8"
  }
 },
 "nbformat": 4,
 "nbformat_minor": 2
}
